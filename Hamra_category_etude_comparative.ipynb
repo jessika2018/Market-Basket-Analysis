{
  "nbformat": 4,
  "nbformat_minor": 0,
  "metadata": {
    "kernelspec": {
      "display_name": "Python 3",
      "language": "python",
      "name": "python3"
    },
    "language_info": {
      "codemirror_mode": {
        "name": "ipython",
        "version": 3
      },
      "file_extension": ".py",
      "mimetype": "text/x-python",
      "name": "python",
      "nbconvert_exporter": "python",
      "pygments_lexer": "ipython3",
      "version": "3.6.4"
    },
    "colab": {
      "name": "Hamra-category-etude comparative.ipynb",
      "provenance": [],
      "collapsed_sections": [],
      "include_colab_link": true
    }
  },
  "cells": [
    {
      "cell_type": "markdown",
      "metadata": {
        "id": "view-in-github",
        "colab_type": "text"
      },
      "source": [
        "<a href=\"https://colab.research.google.com/github/jessika2018/Market-Basket-Analysis/blob/main/Hamra_category_etude_comparative.ipynb\" target=\"_parent\"><img src=\"https://colab.research.google.com/assets/colab-badge.svg\" alt=\"Open In Colab\"/></a>"
      ]
    },
    {
      "cell_type": "markdown",
      "metadata": {
        "id": "H62D7uYFhOEu"
      },
      "source": [
        "Market Basket\n",
        "The market basket is a list of some fixed items that are used to track the inflation and overall price movements of a specific market in an economy. In other words, it is a basket that contains a set of standard goods or services that people commonly buys.\n",
        "\n",
        "Market Basket Analysis\n",
        "Market basket analysis is a method or technique of data analysis for retail and marketing purpose. Market basket analysis is done to understand the purchasing behavior of customers. MBA (Market Business Analysis) is used to uncover what items are frequently brought together by the customer. Market basket analysis leads to effective sales and marketing.Market basket analysis measures the co-occurrence of products and services. Market basket analysis is only considered when there is a transaction between two or more items.\n",
        "\n",
        "Eg:if a customer is buying bread then he is likely to buy butter, jam or milk to compliment bread.\n",
        "\n",
        "Applications of Market Basket Analysis\n",
        "Market basket analysis is applied to various fields of the retail sector in order to boost sales and generate revenue by identifying the needs of the customers and make purchase suggestions to them.\n",
        "\n",
        "Cross-selling is basically a sales technique in which seller suggests some related product to a customer after he buys a product.\n",
        "Product Placement: It refers to placing the complimentary (pen and paper)and substitute goods (tea and coffee) together so that the customer addresses the goods and will buy both the goods together.\n",
        "MBA has also been used in the field of healthcare for the detection of adverse drug reactions. It produces association rules that indicates what all combinations of medications and patient characteristics lead to ADRs.\n",
        "Fraud Detection: Market basket analysis is also applied to fraud detection. It may be possible to identify purchase behavior that can associate with fraud on the basis of market basket analysis data that contain credit card usage\n",
        "How Market Based Analysis Works\n",
        "In order to make it easier to understand, think of Market Basket Analysis in terms of shopping at a supermarket. Market Basket Analysis takes data at transaction level, which lists all items bought by a customer in a single purchase. The technique determines relationships of what products were purchased with which other product(s). These relationships are then used to build profiles containing If-Then rules of the items purchased.\n",
        "\n",
        "The rules are written as :\n",
        "\n",
        "if {A} then {B} i.e. {A} => {B}\n",
        "\n",
        "The If part of the rule (the {A} above) is known as the antecedent and the THEN part of the rule is known as the consequent (the {B} above). The antecedent is the condition and the consequent is the result.\n",
        "\n",
        "Assosciation Rules\n",
        "Association Rules are widely used to analyze retail basket or transaction data, and are intended to identify strong rules discovered in transaction data using measures of interestingness, based on the concept of strong rules.\n",
        "\n",
        "Let I={i1,i2,i3,…,in} be a set of n attributes called items and D={t1,t2,…,tn} be the set of transactions. It is called database. Every transaction, ti in D has a unique transaction ID, and it consists of a subset of itemsets in I.\n",
        "\n",
        "Assosciation rules are produced using algorithms like :\n",
        "\n",
        "Apriori Algorithm\n",
        "Eclat Algorithm\n",
        "FP-growth Algorithm\n",
        "A rule can be defined as an implication, X⟶Y where X and Y are subsets of I(X,Y⊆I), and they have no element in common. X and Y are the antecedent and the consequent of the rule, respectively.\n",
        "\n",
        "Eg: {Bread,Egg}=> {Milk} ItemSet={Bread,Egg,Milk}\n",
        "\n",
        "There are various metrics in place to help us understand the strength of assosciation between antecedent and consequent:\n",
        "\n",
        "Support\n",
        "Confidence\n",
        "Lift or Correlation or interest\n",
        "Leverage\n",
        "Conviction\n",
        "Support\n",
        "It gives an idea of how frequent an itemset is in all the transactions.To say in formal terms it's the fraction of total no. of transactions in which the itemset occurs.We refer to an itemset as a \"frequent itemset\" if you support is larger than a specified minimum-support threshold.\n",
        "\n",
        "supp(X−>Y)=(TransactionscontainingbothXandY)(TotalNo.oftransactions)\n",
        " \n",
        "Range:[0,1] Value of support helps us identifying the rules worth for future analysis.\n",
        "\n",
        "Confidence\n",
        "It defines the likelihood of occurence of consequent on the cart given that cart already has antecedent.It signifies the likelihood of item Y being purchased when item X is purchased.\n",
        "\n",
        "confidence(X−>Y)=support(X−>Y)support(X)\n",
        " \n",
        "Range:[0,1]\n",
        "\n",
        "If confidence is 0.75 then that imples that 75%of transactions containing X also contain Y .It can also be interpreted as the conditional probability P(Y|X), i.e, the probability of finding the itemset Y in transactions given the transaction already contains X.\n",
        "\n",
        "It has a major drawback i.e. It only takes into account the popularity of the itemset X and not the popularity of Y. If Y is equally popular as X then there will be a higher probability that a transaction containing X will also contain Y thus increasing the confidence. To overcome this drawback there is another measure called lift.\n",
        "\n",
        "Lift\n",
        "Lift gives the rise in the probability of having {Y} on the cart with the knowlede of {X} being present over the probability of having {Y} on the cart without knowlede about presence of {X}.\n",
        "\n",
        "Lift(X−>Y)=confidence(X−>Y)support(Y)\n",
        " \n",
        "Range:[0,Infinity]\n",
        "\n",
        "It can simply be considered as correlation between the antecedent and consequent.If the value of lift is greater than 1, it means that the itemset Y is likely to be bought with itemset X, while a value less than 1 implies that itemset Y is unlikely to be bought if the itemset X is bought.\n",
        "\n",
        "Levarage or Piatetsky-Snapiro\n",
        "It computes the difference between the observed frequency of X & Y appearing together and the frequency that we would expect if A and C are independent.\n",
        "\n",
        "Leverage(X−>Y)=support(X−>Y)−support(X)∗support(Y)\n",
        " \n",
        "Range:[-1,1]\n",
        "\n",
        "If X,Y are positively correlated then we get leverage>0 ,we need such type of rules.\n",
        "If X,Y are negatively correlated then we get leverage<0.\n",
        "If X,y are independent , then we get leverage = 0.\n",
        "\n",
        "Conviction\n",
        "It can be interpreted as the ratio of the expected frequency that X occurs without Y (that is to say, the frequency that the rule makes an incorrect prediction) if X and Y were independent divided by the observed frequency of incorrect predictions.\n",
        "\n",
        "Conviction(X−>Y)=support(Y)confidence(X−>Y)\n",
        " \n",
        "Please mark in the above equation Y means it is Y bar i.e. a bar on Y\n",
        "\n",
        "Range:[0,Infinity]\n",
        "\n",
        "A high conviction value means that the consequent is highly depending on the antecedent. For instance, in the case of a perfect confidence score, the denominator becomes 0 (due to 1 - 1) for which the conviction score is defined as 'inf'. Similar to lift, if items are independent, the conviction is 1.\n",
        "\n",
        "Apriori Algorithm\n",
        "Apriori algorithm is a classical algorithm in data mining. It is used for mining frequent itemsets and relevant association rules. It is devised to operate on a database containing a lot of transactions, for instance, items brought by customers in a store.Association rule learning is a prominent and a well-explored method for determining relations among variables in large databases.\n",
        "\n",
        "Rule - generation is a two step process. First is to generate frequent item set and second is to generate rules from the considered itemset.\n",
        "\n",
        "1.Generating Frequent Itemset:\n",
        "One approach to find the frequent itemsets is to check all possible subsets of the given item set and check the support value of each itemset and consider only those that have support values greater than the minimum threshold support value.\n",
        "\n",
        "Here the Apriori uses the result of antimontone property of support and makes the generation of frequent Item set faster by reducing the search space.It has two principles:\n",
        "\n",
        "All subsets of a frequent itemset must be frequent\n",
        "Similarly, for any infrequent itemset, all its supersets must be infrequent too\n",
        "Apriori principle allows us to prune all supersets of an itemset which does nogt satisfy the minimum threshold condition for support.For example if {Milk,Bread} does not satify our threshold value , then the superset of {Milk,Bread} will also not cross the threshold value there by we can just prune them away i.e. do not consider the itemsets that wil be generated from the {Milk,Bread}.\n",
        "\n",
        "Totally 3 major steps are involved here:\n",
        "\n",
        "Generate all frequent itemsets each satisfying the minimum threshold and having only one item let it be L1. Next use self join and generate all possible combinations of L1 and now let the result be L2.\n",
        "At each step as we keep on generating candidate itemsets, for each candidate we scan entire database so as to know its support and remove the candidates that do not satisfy minimum threshold\n",
        "Here To reduce the no of comparisions, store the generated candidate items in a Hash Tree,Instead of matching each of candidate itemsets against each transaction,match each transaction with the candidates in hash tree(there by we can enhance the speed of apriori using this method)\n",
        "In similar way create Lk from Lk-1 until the point where we are unable to apply selfjoin.\n",
        "This approach of extending a frequent itemset one at a time is called the “bottom up” approach.\n",
        "\n",
        "\n",
        "\n",
        "2.Generating all possible rules from Frequent Itemsets\n",
        "If n items are in set I , no of possible assosciation rules possible are 3<supn</sup>- 2n+1 + 1.It becomes computationally expensive to generate all the rules and there is no meaning in genearting all that many no. of rules.\n",
        "\n",
        "So apriori simplifies this approach by following some methodology,\n",
        "\n",
        "Rules are formed by binary partition of each itemset.From a list of all possible candidate rules, we aim to identify rules that fall above the minimum confidence level.Just like antimontone property of support, confidence of rules generated from same itemset also follow the anti montone property. It's antimontone w.r.t no. of elements in consequent.\n",
        "\n",
        "=> CONF(A,B,C -> D) >= CONF(B,C -> A,D) >= CONF(C -> A,B,D)\n",
        "\n",
        "On the basis of this rules are generated.\n",
        "\n",
        "If you want to refer further on Advanced Apriori Algorithms, Please refer to Advanced Apriori Algorithms.\n",
        "\n",
        "Apriori uses a breadth-first search strategy to count the support of itemsets and uses a candidate generation function which exploits the downward closure property of support.\n",
        "\n",
        "Pros of the Apriori algorithm:\n",
        "\n",
        "It is an easy-to-implement and easy-to-understand algorithm.\n",
        "It can be used on large itemsets.\n",
        "Cons of the Apriori Algorithm:\n",
        "Sometimes, it may need to find a large number of candidate rules which can be computationally expensive.\n",
        "Calculating support is also expensive because it has to go through the entire database.\n",
        "Now let's work on a dataset ..."
      ]
    },
    {
      "cell_type": "code",
      "metadata": {
        "colab": {
          "base_uri": "https://localhost:8080/"
        },
        "id": "hpvkNfGDhE9p",
        "outputId": "f3d390c2-b912-4eb0-b247-79132e96b779"
      },
      "source": [
        "pip install squarify"
      ],
      "execution_count": 118,
      "outputs": [
        {
          "output_type": "stream",
          "text": [
            "Requirement already satisfied: squarify in /usr/local/lib/python3.7/dist-packages (0.4.3)\n"
          ],
          "name": "stdout"
        }
      ]
    },
    {
      "cell_type": "code",
      "metadata": {
        "_uuid": "4f41954164356107e35915b99a6518dfc44580b0",
        "execution": {
          "iopub.execute_input": "2021-06-17T08:28:33.609928Z",
          "iopub.status.busy": "2021-06-17T08:28:33.609645Z",
          "iopub.status.idle": "2021-06-17T08:28:33.614183Z",
          "shell.execute_reply": "2021-06-17T08:28:33.613064Z",
          "shell.execute_reply.started": "2021-06-17T08:28:33.609892Z"
        },
        "id": "0Yi0AE6Twz1z"
      },
      "source": [
        "#Data manipulation libraries\n",
        "import pandas as pd\n",
        "import numpy as np\n",
        "\n",
        "\n",
        "#Visualizations\n",
        "%matplotlib inline\n",
        "import matplotlib.pyplot as plt\n",
        "import seaborn as sns\n",
        "sns.set_style(\"dark\")\n",
        "import squarify\n",
        "import matplotlib\n",
        "\n",
        "\n",
        "#for market basket analysis (using apriori)\n",
        "from mlxtend.frequent_patterns import apriori\n",
        "from mlxtend.frequent_patterns import association_rules\n",
        "from mlxtend.frequent_patterns import fpgrowth\n",
        "\n",
        "#for preprocessing\n",
        "from mlxtend.preprocessing import TransactionEncoder\n",
        "\n",
        "\n",
        "#to print all the interactive output without resorting to print, not only the last result.\n",
        "from IPython.core.interactiveshell import InteractiveShell\n",
        "InteractiveShell.ast_node_interactivity = \"all\"\n"
      ],
      "execution_count": 119,
      "outputs": []
    },
    {
      "cell_type": "code",
      "metadata": {
        "colab": {
          "base_uri": "https://localhost:8080/"
        },
        "id": "hqQG0jBn4_LZ",
        "outputId": "7fb054a0-2e6c-49ad-cbee-5f4b873cac35"
      },
      "source": [
        "import mlxtend\n",
        "print(mlxtend.__version__)"
      ],
      "execution_count": 120,
      "outputs": [
        {
          "output_type": "stream",
          "text": [
            "0.18.0\n"
          ],
          "name": "stdout"
        }
      ]
    },
    {
      "cell_type": "code",
      "metadata": {
        "colab": {
          "base_uri": "https://localhost:8080/"
        },
        "id": "cRMknHZf5MWd",
        "outputId": "9d1ad789-847a-4117-e150-2860b40887e3"
      },
      "source": [
        "pip install mlxtend --upgrade"
      ],
      "execution_count": 121,
      "outputs": [
        {
          "output_type": "stream",
          "text": [
            "Requirement already up-to-date: mlxtend in /usr/local/lib/python3.7/dist-packages (0.18.0)\n",
            "Requirement already satisfied, skipping upgrade: joblib>=0.13.2 in /usr/local/lib/python3.7/dist-packages (from mlxtend) (1.0.1)\n",
            "Requirement already satisfied, skipping upgrade: matplotlib>=3.0.0 in /usr/local/lib/python3.7/dist-packages (from mlxtend) (3.2.2)\n",
            "Requirement already satisfied, skipping upgrade: scikit-learn>=0.20.3 in /usr/local/lib/python3.7/dist-packages (from mlxtend) (0.22.2.post1)\n",
            "Requirement already satisfied, skipping upgrade: pandas>=0.24.2 in /usr/local/lib/python3.7/dist-packages (from mlxtend) (1.1.5)\n",
            "Requirement already satisfied, skipping upgrade: numpy>=1.16.2 in /usr/local/lib/python3.7/dist-packages (from mlxtend) (1.19.5)\n",
            "Requirement already satisfied, skipping upgrade: setuptools in /usr/local/lib/python3.7/dist-packages (from mlxtend) (57.0.0)\n",
            "Requirement already satisfied, skipping upgrade: scipy>=1.2.1 in /usr/local/lib/python3.7/dist-packages (from mlxtend) (1.4.1)\n",
            "Requirement already satisfied, skipping upgrade: kiwisolver>=1.0.1 in /usr/local/lib/python3.7/dist-packages (from matplotlib>=3.0.0->mlxtend) (1.3.1)\n",
            "Requirement already satisfied, skipping upgrade: python-dateutil>=2.1 in /usr/local/lib/python3.7/dist-packages (from matplotlib>=3.0.0->mlxtend) (2.8.1)\n",
            "Requirement already satisfied, skipping upgrade: cycler>=0.10 in /usr/local/lib/python3.7/dist-packages (from matplotlib>=3.0.0->mlxtend) (0.10.0)\n",
            "Requirement already satisfied, skipping upgrade: pyparsing!=2.0.4,!=2.1.2,!=2.1.6,>=2.0.1 in /usr/local/lib/python3.7/dist-packages (from matplotlib>=3.0.0->mlxtend) (2.4.7)\n",
            "Requirement already satisfied, skipping upgrade: pytz>=2017.2 in /usr/local/lib/python3.7/dist-packages (from pandas>=0.24.2->mlxtend) (2018.9)\n",
            "Requirement already satisfied, skipping upgrade: six>=1.5 in /usr/local/lib/python3.7/dist-packages (from python-dateutil>=2.1->matplotlib>=3.0.0->mlxtend) (1.15.0)\n"
          ],
          "name": "stdout"
        }
      ]
    },
    {
      "cell_type": "code",
      "metadata": {
        "_uuid": "d78414066ad735c6e691655c8d6f6cb8edc6d68c",
        "execution": {
          "iopub.execute_input": "2021-06-17T08:28:33.964994Z",
          "iopub.status.busy": "2021-06-17T08:28:33.964265Z",
          "iopub.status.idle": "2021-06-17T08:28:34.020902Z",
          "shell.execute_reply": "2021-06-17T08:28:34.019811Z",
          "shell.execute_reply.started": "2021-06-17T08:28:33.964582Z"
        },
        "id": "1Rm0hiACwz11"
      },
      "source": [
        "df = pd.read_excel('/content/Hamra_Category.xlsx',names=['Category'])"
      ],
      "execution_count": 359,
      "outputs": []
    },
    {
      "cell_type": "code",
      "metadata": {
        "_uuid": "41b35f9b1e6f202140872b71f96a4436c683f450",
        "execution": {
          "iopub.execute_input": "2021-06-17T08:28:34.970479Z",
          "iopub.status.busy": "2021-06-17T08:28:34.970167Z",
          "iopub.status.idle": "2021-06-17T08:28:34.994024Z",
          "shell.execute_reply": "2021-06-17T08:28:34.992913Z",
          "shell.execute_reply.started": "2021-06-17T08:28:34.970432Z"
        },
        "scrolled": true,
        "id": "lciaPN1Iwz12"
      },
      "source": [
        "# df"
      ],
      "execution_count": 360,
      "outputs": []
    },
    {
      "cell_type": "code",
      "metadata": {
        "_uuid": "12aee96ab61283f09db775000396f2fa1c615b63",
        "execution": {
          "iopub.execute_input": "2021-06-17T08:28:35.987825Z",
          "iopub.status.busy": "2021-06-17T08:28:35.987563Z",
          "iopub.status.idle": "2021-06-17T08:28:35.993721Z",
          "shell.execute_reply": "2021-06-17T08:28:35.992987Z",
          "shell.execute_reply.started": "2021-06-17T08:28:35.987791Z"
        },
        "id": "yUOd41zXwz15"
      },
      "source": [
        "# df.columns "
      ],
      "execution_count": 361,
      "outputs": []
    },
    {
      "cell_type": "code",
      "metadata": {
        "_uuid": "4ceec5e7466a95c498c0763c7807cb43818df89b",
        "execution": {
          "iopub.execute_input": "2021-06-17T08:28:37.088338Z",
          "iopub.status.busy": "2021-06-17T08:28:37.088030Z",
          "iopub.status.idle": "2021-06-17T08:28:37.104348Z",
          "shell.execute_reply": "2021-06-17T08:28:37.103588Z",
          "shell.execute_reply.started": "2021-06-17T08:28:37.088296Z"
        },
        "id": "N8v1rLMbwz15"
      },
      "source": [
        "# df.value\n",
        "# df.tail"
      ],
      "execution_count": 362,
      "outputs": []
    },
    {
      "cell_type": "code",
      "metadata": {
        "colab": {
          "base_uri": "https://localhost:8080/"
        },
        "id": "39824LTmfsMT",
        "outputId": "dcb0a1f4-a268-4fc9-98c5-aadd293cad70"
      },
      "source": [
        "\n",
        "df.shape"
      ],
      "execution_count": 363,
      "outputs": [
        {
          "output_type": "execute_result",
          "data": {
            "text/plain": [
              "(200, 1)"
            ]
          },
          "metadata": {
            "tags": []
          },
          "execution_count": 363
        }
      ]
    },
    {
      "cell_type": "code",
      "metadata": {
        "_uuid": "e8bad2402f6ea161eb04f644417669e48a7cf341",
        "execution": {
          "iopub.execute_input": "2021-06-17T08:28:46.486306Z",
          "iopub.status.busy": "2021-06-17T08:28:46.485971Z",
          "iopub.status.idle": "2021-06-17T08:28:46.575683Z",
          "shell.execute_reply": "2021-06-17T08:28:46.574629Z",
          "shell.execute_reply.started": "2021-06-17T08:28:46.486238Z"
        },
        "colab": {
          "base_uri": "https://localhost:8080/"
        },
        "id": "hYfmfEFOwz15",
        "outputId": "d056892e-6095-4ee9-ef7d-0c2d4e365803"
      },
      "source": [
        "data = list(df[\"Category\"].apply(lambda x:x.split(';')))\n",
        "data "
      ],
      "execution_count": 364,
      "outputs": [
        {
          "output_type": "execute_result",
          "data": {
            "text/plain": [
              "[['beverages & ready to eat'],\n",
              " ['chilled'],\n",
              " ['beverages & ready to eat'],\n",
              " ['beverages & ready to eat'],\n",
              " ['health & beauty'],\n",
              " ['beverages & ready to eat'],\n",
              " ['beverages & ready to eat'],\n",
              " ['chilled', 'chilled'],\n",
              " ['beverages & ready to eat', 'chilled', 'chilled', 'chilled', 'baby'],\n",
              " ['beverages & ready to eat', 'beverages & ready to eat'],\n",
              " ['beverages & ready to eat',\n",
              "  'beverages & ready to eat',\n",
              "  'beverages & ready to eat',\n",
              "  'beverages & ready to eat',\n",
              "  'health & beauty'],\n",
              " ['beverages & ready to eat',\n",
              "  'beverages & ready to eat',\n",
              "  'beverages & ready to eat',\n",
              "  'beverages & ready to eat',\n",
              "  'beverages & ready to eat'],\n",
              " ['beverages & ready to eat', 'beverages & ready to eat'],\n",
              " ['beverages & ready to eat',\n",
              "  'beverages & ready to eat',\n",
              "  'beverages & ready to eat',\n",
              "  'health & beauty',\n",
              "  'health & beauty',\n",
              "  'tobacco'],\n",
              " ['health & beauty', 'health & beauty'],\n",
              " ['beverages & ready to eat',\n",
              "  'beverages & ready to eat',\n",
              "  'beverages & ready to eat'],\n",
              " ['cleaning', 'chilled'],\n",
              " ['meal solutions', 'chilled'],\n",
              " ['meal solutions', 'meal solutions', 'chilled'],\n",
              " ['chilled', 'chilled'],\n",
              " ['meal solutions'],\n",
              " ['meal solutions', 'meal solutions'],\n",
              " ['chilled'],\n",
              " ['meal solutions', 'meal solutions'],\n",
              " ['meal solutions'],\n",
              " ['beverages & ready to eat', 'chilled', 'chilled', 'chilled'],\n",
              " ['chilled', 'frozen'],\n",
              " ['beverages & ready to eat', 'beverages & ready to eat'],\n",
              " ['meal solutions',\n",
              "  'meal solutions',\n",
              "  'beverages & ready to eat',\n",
              "  'beverages & ready to eat'],\n",
              " ['meal solutions'],\n",
              " ['meal solutions', 'meal solutions'],\n",
              " ['beverages & ready to eat',\n",
              "  'beverages & ready to eat',\n",
              "  'beverages & ready to eat',\n",
              "  'beverages & ready to eat',\n",
              "  'beverages & ready to eat'],\n",
              " ['meal solutions',\n",
              "  'meal solutions',\n",
              "  'beverages & ready to eat',\n",
              "  'beverages & ready to eat',\n",
              "  'beverages & ready to eat'],\n",
              " ['meal solutions',\n",
              "  'beverages & ready to eat',\n",
              "  'beverages & ready to eat',\n",
              "  'chilled',\n",
              "  'chilled',\n",
              "  'chilled'],\n",
              " ['beverages & ready to eat'],\n",
              " ['beverages & ready to eat', 'beverages & ready to eat'],\n",
              " ['meal solutions'],\n",
              " ['meal solutions',\n",
              "  'meal solutions',\n",
              "  'beverages & ready to eat',\n",
              "  'beverages & ready to eat',\n",
              "  'beverages & ready to eat',\n",
              "  'beverages & ready to eat'],\n",
              " ['meal solutions'],\n",
              " ['meal solutions',\n",
              "  'beverages & ready to eat',\n",
              "  'beverages & ready to eat',\n",
              "  'beverages & ready to eat',\n",
              "  'beverages & ready to eat'],\n",
              " ['beverages & ready to eat', 'beverages & ready to eat'],\n",
              " ['tobacco'],\n",
              " ['tobacco'],\n",
              " ['tobacco'],\n",
              " ['chilled'],\n",
              " ['beverages & ready to eat'],\n",
              " ['beverages & ready to eat'],\n",
              " ['beverages & ready to eat', 'chilled'],\n",
              " ['health & beauty'],\n",
              " ['health & beauty'],\n",
              " ['beverages & ready to eat', 'chilled', 'chilled'],\n",
              " ['meal solutions', 'meal solutions'],\n",
              " ['health & beauty'],\n",
              " ['chilled'],\n",
              " ['chilled'],\n",
              " ['beverages & ready to eat', 'beverages & ready to eat'],\n",
              " ['beverages & ready to eat', 'cleaning'],\n",
              " ['meal solutions'],\n",
              " ['meal solutions', 'beverages & ready to eat'],\n",
              " ['beverages & ready to eat'],\n",
              " ['chilled'],\n",
              " ['chilled'],\n",
              " ['beverages & ready to eat'],\n",
              " ['meal solutions', 'chilled', 'chilled'],\n",
              " ['tobacco'],\n",
              " ['chilled'],\n",
              " ['meal solutions', 'meal solutions', 'beverages & ready to eat'],\n",
              " ['meal solutions', 'meal solutions', 'meal solutions', 'meal solutions'],\n",
              " ['meal solutions'],\n",
              " ['beverages & ready to eat',\n",
              "  'beverages & ready to eat',\n",
              "  'beverages & ready to eat'],\n",
              " ['beverages & ready to eat', 'beverages & ready to eat'],\n",
              " ['tobacco'],\n",
              " ['alcohol'],\n",
              " ['chilled'],\n",
              " ['beverages & ready to eat', 'health & beauty', 'chilled'],\n",
              " ['beverages & ready to eat', 'chilled'],\n",
              " ['chilled'],\n",
              " ['beverages & ready to eat', 'chilled'],\n",
              " ['meal solutions'],\n",
              " ['beverages & ready to eat',\n",
              "  'beverages & ready to eat',\n",
              "  'beverages & ready to eat',\n",
              "  'chilled'],\n",
              " ['cleaning', 'cleaning', 'health & beauty'],\n",
              " ['meal solutions', 'chilled'],\n",
              " ['beverages & ready to eat'],\n",
              " ['beverages & ready to eat',\n",
              "  'beverages & ready to eat',\n",
              "  'beverages & ready to eat'],\n",
              " ['cleaning'],\n",
              " ['beverages & ready to eat', 'beverages & ready to eat'],\n",
              " ['beverages & ready to eat', 'chilled'],\n",
              " ['beverages & ready to eat'],\n",
              " ['beverages & ready to eat'],\n",
              " ['meal solutions'],\n",
              " ['beverages & ready to eat'],\n",
              " ['chilled', 'chilled'],\n",
              " ['meal solutions'],\n",
              " ['meal solutions'],\n",
              " ['meal solutions', 'chilled', 'chilled'],\n",
              " ['beverages & ready to eat', 'beverages & ready to eat'],\n",
              " ['chilled'],\n",
              " ['beverages & ready to eat',\n",
              "  'beverages & ready to eat',\n",
              "  'beverages & ready to eat'],\n",
              " ['beverages & ready to eat'],\n",
              " ['tobacco'],\n",
              " ['beverages & ready to eat'],\n",
              " ['pet', 'pet'],\n",
              " ['beverages & ready to eat'],\n",
              " ['chilled', 'chilled'],\n",
              " ['chilled'],\n",
              " ['meal solutions', 'cleaning', 'chilled'],\n",
              " ['health & beauty', 'health & beauty'],\n",
              " ['beverages & ready to eat', 'beverages & ready to eat'],\n",
              " ['chilled'],\n",
              " ['beverages & ready to eat'],\n",
              " ['beverages & ready to eat'],\n",
              " ['chilled'],\n",
              " ['beverages & ready to eat'],\n",
              " ['health & beauty'],\n",
              " ['chilled'],\n",
              " ['chilled'],\n",
              " ['chilled'],\n",
              " ['beverages & ready to eat', 'chilled', 'chilled'],\n",
              " ['health & beauty'],\n",
              " ['chilled'],\n",
              " ['alcohol'],\n",
              " ['beverages & ready to eat', 'chilled'],\n",
              " ['beverages & ready to eat', 'beverages & ready to eat', 'health & beauty'],\n",
              " ['beverages & ready to eat'],\n",
              " ['meal solutions', 'meal solutions'],\n",
              " ['beverages & ready to eat', 'beverages & ready to eat'],\n",
              " ['meal solutions', 'meal solutions', 'beverages & ready to eat'],\n",
              " ['beverages & ready to eat'],\n",
              " ['tobacco'],\n",
              " ['beverages & ready to eat'],\n",
              " ['chilled'],\n",
              " ['meal solutions', 'baby'],\n",
              " ['chilled'],\n",
              " ['health & beauty', 'health & beauty', 'health & beauty'],\n",
              " ['chilled', 'chilled', 'frozen', 'frozen'],\n",
              " ['chilled'],\n",
              " ['beverages & ready to eat'],\n",
              " ['chilled'],\n",
              " ['chilled'],\n",
              " ['meal solutions'],\n",
              " ['meal solutions',\n",
              "  'meal solutions',\n",
              "  'beverages & ready to eat',\n",
              "  'chilled',\n",
              "  'chilled'],\n",
              " ['beverages & ready to eat'],\n",
              " ['beverages & ready to eat'],\n",
              " ['meal solutions', 'beverages & ready to eat', 'chilled', 'chilled'],\n",
              " ['beverages & ready to eat'],\n",
              " ['beverages & ready to eat'],\n",
              " ['beverages & ready to eat'],\n",
              " ['tobacco'],\n",
              " ['beverages & ready to eat',\n",
              "  'beverages & ready to eat',\n",
              "  'beverages & ready to eat',\n",
              "  'beverages & ready to eat',\n",
              "  'chilled'],\n",
              " ['beverages & ready to eat'],\n",
              " ['beverages & ready to eat'],\n",
              " ['beverages & ready to eat'],\n",
              " ['beverages & ready to eat'],\n",
              " ['cleaning'],\n",
              " ['meal solutions', 'meal solutions'],\n",
              " ['meal solutions',\n",
              "  'meal solutions',\n",
              "  'beverages & ready to eat',\n",
              "  'beverages & ready to eat'],\n",
              " ['beverages & ready to eat',\n",
              "  'beverages & ready to eat',\n",
              "  'beverages & ready to eat'],\n",
              " ['health & beauty', 'frozen'],\n",
              " ['meal solutions', 'beverages & ready to eat'],\n",
              " ['beverages & ready to eat'],\n",
              " ['beverages & ready to eat'],\n",
              " ['pet', 'pet', 'pet', 'pet', 'pet', 'pet', 'pet'],\n",
              " ['beverages & ready to eat', 'chilled'],\n",
              " ['beverages & ready to eat', 'beverages & ready to eat'],\n",
              " ['chilled'],\n",
              " ['beverages & ready to eat', 'beverages & ready to eat'],\n",
              " ['chilled', 'chilled'],\n",
              " ['meal solutions'],\n",
              " ['meal solutions', 'meal solutions', 'meal solutions'],\n",
              " ['meal solutions'],\n",
              " ['cleaning', 'health & beauty', 'health & beauty', 'health & beauty'],\n",
              " ['beverages & ready to eat',\n",
              "  'beverages & ready to eat',\n",
              "  'beverages & ready to eat',\n",
              "  'chilled'],\n",
              " ['beverages & ready to eat', 'baby', 'baby'],\n",
              " ['chilled'],\n",
              " ['beverages & ready to eat'],\n",
              " ['alcohol'],\n",
              " ['beverages & ready to eat'],\n",
              " ['meal solutions'],\n",
              " ['cleaning', 'cleaning', 'cleaning', 'health & beauty'],\n",
              " ['beverages & ready to eat', 'beverages & ready to eat'],\n",
              " ['cleaning'],\n",
              " ['chilled', 'tobacco'],\n",
              " ['beverages & ready to eat', 'beverages & ready to eat'],\n",
              " ['beverages & ready to eat',\n",
              "  'beverages & ready to eat',\n",
              "  'beverages & ready to eat'],\n",
              " ['chilled'],\n",
              " ['beverages & ready to eat'],\n",
              " ['beverages & ready to eat'],\n",
              " ['beverages & ready to eat', 'beverages & ready to eat', 'chilled'],\n",
              " ['beverages & ready to eat', 'beverages & ready to eat'],\n",
              " ['beverages & ready to eat'],\n",
              " ['beverages & ready to eat'],\n",
              " ['beverages & ready to eat'],\n",
              " ['meal solutions'],\n",
              " ['tobacco'],\n",
              " ['beverages & ready to eat'],\n",
              " ['beverages & ready to eat'],\n",
              " ['beverages & ready to eat',\n",
              "  'beverages & ready to eat',\n",
              "  'beverages & ready to eat'],\n",
              " ['beverages & ready to eat'],\n",
              " ['meal solutions'],\n",
              " ['beverages & ready to eat']]"
            ]
          },
          "metadata": {
            "tags": []
          },
          "execution_count": 364
        }
      ]
    },
    {
      "cell_type": "code",
      "metadata": {
        "_uuid": "2be428d5528931dad3e11fab8fd91951705febb4",
        "execution": {
          "iopub.execute_input": "2021-06-17T08:28:48.474845Z",
          "iopub.status.busy": "2021-06-17T08:28:48.474564Z",
          "iopub.status.idle": "2021-06-17T08:28:48.479358Z",
          "shell.execute_reply": "2021-06-17T08:28:48.478154Z",
          "shell.execute_reply.started": "2021-06-17T08:28:48.474800Z"
        },
        "id": "bNN6-K_swz18"
      },
      "source": [
        "from mlxtend.preprocessing import TransactionEncoder"
      ],
      "execution_count": 365,
      "outputs": []
    },
    {
      "cell_type": "code",
      "metadata": {
        "_uuid": "6bddf16a36456f78af56f8fd152d5c33b8681db9",
        "execution": {
          "iopub.execute_input": "2021-06-17T08:28:50.415155Z",
          "iopub.status.busy": "2021-06-17T08:28:50.414812Z",
          "iopub.status.idle": "2021-06-17T08:28:50.772379Z",
          "shell.execute_reply": "2021-06-17T08:28:50.771597Z",
          "shell.execute_reply.started": "2021-06-17T08:28:50.415097Z"
        },
        "scrolled": true,
        "colab": {
          "base_uri": "https://localhost:8080/",
          "height": 424
        },
        "id": "rsyd-gdDwz18",
        "outputId": "1c28e160-e65e-46d8-f4d3-280a24095bed"
      },
      "source": [
        "te = TransactionEncoder()\n",
        "te_data = te.fit(data).transform(data)\n",
        "df = pd.DataFrame(te_data,columns=te.columns_)\n",
        "df"
      ],
      "execution_count": 366,
      "outputs": [
        {
          "output_type": "execute_result",
          "data": {
            "text/html": [
              "<div>\n",
              "<style scoped>\n",
              "    .dataframe tbody tr th:only-of-type {\n",
              "        vertical-align: middle;\n",
              "    }\n",
              "\n",
              "    .dataframe tbody tr th {\n",
              "        vertical-align: top;\n",
              "    }\n",
              "\n",
              "    .dataframe thead th {\n",
              "        text-align: right;\n",
              "    }\n",
              "</style>\n",
              "<table border=\"1\" class=\"dataframe\">\n",
              "  <thead>\n",
              "    <tr style=\"text-align: right;\">\n",
              "      <th></th>\n",
              "      <th>alcohol</th>\n",
              "      <th>baby</th>\n",
              "      <th>beverages &amp; ready to eat</th>\n",
              "      <th>chilled</th>\n",
              "      <th>cleaning</th>\n",
              "      <th>frozen</th>\n",
              "      <th>health &amp; beauty</th>\n",
              "      <th>meal solutions</th>\n",
              "      <th>pet</th>\n",
              "      <th>tobacco</th>\n",
              "    </tr>\n",
              "  </thead>\n",
              "  <tbody>\n",
              "    <tr>\n",
              "      <th>0</th>\n",
              "      <td>False</td>\n",
              "      <td>False</td>\n",
              "      <td>True</td>\n",
              "      <td>False</td>\n",
              "      <td>False</td>\n",
              "      <td>False</td>\n",
              "      <td>False</td>\n",
              "      <td>False</td>\n",
              "      <td>False</td>\n",
              "      <td>False</td>\n",
              "    </tr>\n",
              "    <tr>\n",
              "      <th>1</th>\n",
              "      <td>False</td>\n",
              "      <td>False</td>\n",
              "      <td>False</td>\n",
              "      <td>True</td>\n",
              "      <td>False</td>\n",
              "      <td>False</td>\n",
              "      <td>False</td>\n",
              "      <td>False</td>\n",
              "      <td>False</td>\n",
              "      <td>False</td>\n",
              "    </tr>\n",
              "    <tr>\n",
              "      <th>2</th>\n",
              "      <td>False</td>\n",
              "      <td>False</td>\n",
              "      <td>True</td>\n",
              "      <td>False</td>\n",
              "      <td>False</td>\n",
              "      <td>False</td>\n",
              "      <td>False</td>\n",
              "      <td>False</td>\n",
              "      <td>False</td>\n",
              "      <td>False</td>\n",
              "    </tr>\n",
              "    <tr>\n",
              "      <th>3</th>\n",
              "      <td>False</td>\n",
              "      <td>False</td>\n",
              "      <td>True</td>\n",
              "      <td>False</td>\n",
              "      <td>False</td>\n",
              "      <td>False</td>\n",
              "      <td>False</td>\n",
              "      <td>False</td>\n",
              "      <td>False</td>\n",
              "      <td>False</td>\n",
              "    </tr>\n",
              "    <tr>\n",
              "      <th>4</th>\n",
              "      <td>False</td>\n",
              "      <td>False</td>\n",
              "      <td>False</td>\n",
              "      <td>False</td>\n",
              "      <td>False</td>\n",
              "      <td>False</td>\n",
              "      <td>True</td>\n",
              "      <td>False</td>\n",
              "      <td>False</td>\n",
              "      <td>False</td>\n",
              "    </tr>\n",
              "    <tr>\n",
              "      <th>...</th>\n",
              "      <td>...</td>\n",
              "      <td>...</td>\n",
              "      <td>...</td>\n",
              "      <td>...</td>\n",
              "      <td>...</td>\n",
              "      <td>...</td>\n",
              "      <td>...</td>\n",
              "      <td>...</td>\n",
              "      <td>...</td>\n",
              "      <td>...</td>\n",
              "    </tr>\n",
              "    <tr>\n",
              "      <th>195</th>\n",
              "      <td>False</td>\n",
              "      <td>False</td>\n",
              "      <td>True</td>\n",
              "      <td>False</td>\n",
              "      <td>False</td>\n",
              "      <td>False</td>\n",
              "      <td>False</td>\n",
              "      <td>False</td>\n",
              "      <td>False</td>\n",
              "      <td>False</td>\n",
              "    </tr>\n",
              "    <tr>\n",
              "      <th>196</th>\n",
              "      <td>False</td>\n",
              "      <td>False</td>\n",
              "      <td>True</td>\n",
              "      <td>False</td>\n",
              "      <td>False</td>\n",
              "      <td>False</td>\n",
              "      <td>False</td>\n",
              "      <td>False</td>\n",
              "      <td>False</td>\n",
              "      <td>False</td>\n",
              "    </tr>\n",
              "    <tr>\n",
              "      <th>197</th>\n",
              "      <td>False</td>\n",
              "      <td>False</td>\n",
              "      <td>True</td>\n",
              "      <td>False</td>\n",
              "      <td>False</td>\n",
              "      <td>False</td>\n",
              "      <td>False</td>\n",
              "      <td>False</td>\n",
              "      <td>False</td>\n",
              "      <td>False</td>\n",
              "    </tr>\n",
              "    <tr>\n",
              "      <th>198</th>\n",
              "      <td>False</td>\n",
              "      <td>False</td>\n",
              "      <td>False</td>\n",
              "      <td>False</td>\n",
              "      <td>False</td>\n",
              "      <td>False</td>\n",
              "      <td>False</td>\n",
              "      <td>True</td>\n",
              "      <td>False</td>\n",
              "      <td>False</td>\n",
              "    </tr>\n",
              "    <tr>\n",
              "      <th>199</th>\n",
              "      <td>False</td>\n",
              "      <td>False</td>\n",
              "      <td>True</td>\n",
              "      <td>False</td>\n",
              "      <td>False</td>\n",
              "      <td>False</td>\n",
              "      <td>False</td>\n",
              "      <td>False</td>\n",
              "      <td>False</td>\n",
              "      <td>False</td>\n",
              "    </tr>\n",
              "  </tbody>\n",
              "</table>\n",
              "<p>200 rows × 10 columns</p>\n",
              "</div>"
            ],
            "text/plain": [
              "     alcohol   baby  beverages & ready to eat  ...  meal solutions    pet  tobacco\n",
              "0      False  False                      True  ...           False  False    False\n",
              "1      False  False                     False  ...           False  False    False\n",
              "2      False  False                      True  ...           False  False    False\n",
              "3      False  False                      True  ...           False  False    False\n",
              "4      False  False                     False  ...           False  False    False\n",
              "..       ...    ...                       ...  ...             ...    ...      ...\n",
              "195    False  False                      True  ...           False  False    False\n",
              "196    False  False                      True  ...           False  False    False\n",
              "197    False  False                      True  ...           False  False    False\n",
              "198    False  False                     False  ...            True  False    False\n",
              "199    False  False                      True  ...           False  False    False\n",
              "\n",
              "[200 rows x 10 columns]"
            ]
          },
          "metadata": {
            "tags": []
          },
          "execution_count": 366
        }
      ]
    },
    {
      "cell_type": "code",
      "metadata": {
        "colab": {
          "base_uri": "https://localhost:8080/",
          "height": 882
        },
        "id": "r147zcVIe1HV",
        "outputId": "e08a0dec-b47f-4e57-93fe-8bddf5f5a4e4"
      },
      "source": [
        "##Lets consider the top 20 items purchased freequently\n",
        "r=df.sum(axis=0).sort_values(ascending=False)[:20]\n",
        "#altering the figsize\n",
        "plt.figure(figsize=(20,10))\n",
        "s=sns.barplot(x=r.index,y=r.values)\n",
        "s.set_xticklabels(s.get_xticklabels(), rotation=90)"
      ],
      "execution_count": 367,
      "outputs": [
        {
          "output_type": "execute_result",
          "data": {
            "text/plain": [
              "<Figure size 1440x720 with 0 Axes>"
            ]
          },
          "metadata": {
            "tags": []
          },
          "execution_count": 367
        },
        {
          "output_type": "execute_result",
          "data": {
            "text/plain": [
              "[Text(0, 0, 'beverages & ready to eat'),\n",
              " Text(0, 0, 'chilled'),\n",
              " Text(0, 0, 'meal solutions'),\n",
              " Text(0, 0, 'health & beauty'),\n",
              " Text(0, 0, 'tobacco'),\n",
              " Text(0, 0, 'cleaning'),\n",
              " Text(0, 0, 'frozen'),\n",
              " Text(0, 0, 'baby'),\n",
              " Text(0, 0, 'alcohol'),\n",
              " Text(0, 0, 'pet')]"
            ]
          },
          "metadata": {
            "tags": []
          },
          "execution_count": 367
        },
        {
          "output_type": "display_data",
          "data": {
            "image/png": "[encoded data removed]",
            "text/plain": [
              "<Figure size 1440x720 with 1 Axes>"
            ]
          },
          "metadata": {
            "tags": []
          }
        }
      ]
    },
    {
      "cell_type": "markdown",
      "metadata": {
        "id": "e_1Az10SgfMe"
      },
      "source": [
        "We can find that bevarge and ready to eat  is the most purchased item from the store, we may advice that  bevarge and ready to eat must be always in the stock not only that mostly we can see from the above graph what 600 items are being frequently purchased."
      ]
    },
    {
      "cell_type": "code",
      "metadata": {
        "colab": {
          "base_uri": "https://localhost:8080/",
          "height": 608
        },
        "id": "nebeCWdoe1Ac",
        "outputId": "e6eaadab-02af-4729-a6fa-be8fe54b2c43"
      },
      "source": [
        "# create a color palette, mapped to these values\n",
        "my_values=r.values\n",
        "cmap = matplotlib.cm.Blues\n",
        "mini=min(my_values)\n",
        "maxi=max(my_values)\n",
        "norm = matplotlib.colors.Normalize(vmin=mini, vmax=maxi)\n",
        "colors = [cmap(norm(value)) for value in my_values]\n",
        "\n",
        "\n",
        "#treemap of top 20 frequent items\n",
        "plt.figure(figsize=(10,10))\n",
        "squarify.plot(sizes=r.values, label=r.index, alpha=.7,color=colors)\n",
        "plt.title(\"Tree map of top 20 items\")\n",
        "plt.axis('off')"
      ],
      "execution_count": 368,
      "outputs": [
        {
          "output_type": "execute_result",
          "data": {
            "text/plain": [
              "<Figure size 720x720 with 0 Axes>"
            ]
          },
          "metadata": {
            "tags": []
          },
          "execution_count": 368
        },
        {
          "output_type": "execute_result",
          "data": {
            "text/plain": [
              "<matplotlib.axes._subplots.AxesSubplot at 0x7fea24cae0d0>"
            ]
          },
          "metadata": {
            "tags": []
          },
          "execution_count": 368
        },
        {
          "output_type": "execute_result",
          "data": {
            "text/plain": [
              "Text(0.5, 1.0, 'Tree map of top 20 items')"
            ]
          },
          "metadata": {
            "tags": []
          },
          "execution_count": 368
        },
        {
          "output_type": "execute_result",
          "data": {
            "text/plain": [
              "(0.0, 100.0, 0.0, 100.0)"
            ]
          },
          "metadata": {
            "tags": []
          },
          "execution_count": 368
        },
        {
          "output_type": "display_data",
          "data": {
            "image/png": "[encoded data removed]",
            "text/plain": [
              "<Figure size 720x720 with 1 Axes>"
            ]
          },
          "metadata": {
            "tags": []
          }
        }
      ]
    },
    {
      "cell_type": "markdown",
      "metadata": {
        "id": "TSKF9fCChvgy"
      },
      "source": [
        "## Let's now work on apriori algorithm"
      ]
    },
    {
      "cell_type": "code",
      "metadata": {
        "_uuid": "1ce6d303655b721de9d5246d08159febcb192c2f",
        "execution": {
          "iopub.execute_input": "2021-06-17T08:28:52.734748Z",
          "iopub.status.busy": "2021-06-17T08:28:52.734438Z",
          "iopub.status.idle": "2021-06-17T08:28:52.738907Z",
          "shell.execute_reply": "2021-06-17T08:28:52.737830Z",
          "shell.execute_reply.started": "2021-06-17T08:28:52.734698Z"
        },
        "id": "D3lKAStwwz19"
      },
      "source": [
        "from mlxtend.frequent_patterns import apriori"
      ],
      "execution_count": 369,
      "outputs": []
    },
    {
      "cell_type": "markdown",
      "metadata": {
        "id": "_mXGY-2Zh_NO"
      },
      "source": [
        "#Let us return items and ietmsets with atleast 5% support:"
      ]
    },
    {
      "cell_type": "code",
      "metadata": {
        "_uuid": "e84e59167808a350ddcb4905c04b7f6d749db8d9",
        "execution": {
          "iopub.execute_input": "2021-06-17T08:28:53.787267Z",
          "iopub.status.busy": "2021-06-17T08:28:53.786973Z",
          "iopub.status.idle": "2021-06-17T08:28:53.961879Z",
          "shell.execute_reply": "2021-06-17T08:28:53.961138Z",
          "shell.execute_reply.started": "2021-06-17T08:28:53.787225Z"
        },
        "scrolled": true,
        "colab": {
          "base_uri": "https://localhost:8080/",
          "height": 269
        },
        "id": "SkGHfNEbwz19",
        "outputId": "b6ea9054-571f-4056-9ac5-44a66c1da7a7"
      },
      "source": [
        "frequent_itemsets = apriori(df,min_support=0.05,use_colnames=True)\n",
        "frequent_itemsets"
      ],
      "execution_count": 370,
      "outputs": [
        {
          "output_type": "execute_result",
          "data": {
            "text/html": [
              "<div>\n",
              "<style scoped>\n",
              "    .dataframe tbody tr th:only-of-type {\n",
              "        vertical-align: middle;\n",
              "    }\n",
              "\n",
              "    .dataframe tbody tr th {\n",
              "        vertical-align: top;\n",
              "    }\n",
              "\n",
              "    .dataframe thead th {\n",
              "        text-align: right;\n",
              "    }\n",
              "</style>\n",
              "<table border=\"1\" class=\"dataframe\">\n",
              "  <thead>\n",
              "    <tr style=\"text-align: right;\">\n",
              "      <th></th>\n",
              "      <th>support</th>\n",
              "      <th>itemsets</th>\n",
              "    </tr>\n",
              "  </thead>\n",
              "  <tbody>\n",
              "    <tr>\n",
              "      <th>0</th>\n",
              "      <td>0.515</td>\n",
              "      <td>(beverages &amp; ready to eat)</td>\n",
              "    </tr>\n",
              "    <tr>\n",
              "      <th>1</th>\n",
              "      <td>0.295</td>\n",
              "      <td>(chilled)</td>\n",
              "    </tr>\n",
              "    <tr>\n",
              "      <th>2</th>\n",
              "      <td>0.085</td>\n",
              "      <td>(health &amp; beauty)</td>\n",
              "    </tr>\n",
              "    <tr>\n",
              "      <th>3</th>\n",
              "      <td>0.220</td>\n",
              "      <td>(meal solutions)</td>\n",
              "    </tr>\n",
              "    <tr>\n",
              "      <th>4</th>\n",
              "      <td>0.055</td>\n",
              "      <td>(tobacco)</td>\n",
              "    </tr>\n",
              "    <tr>\n",
              "      <th>5</th>\n",
              "      <td>0.090</td>\n",
              "      <td>(beverages &amp; ready to eat, chilled)</td>\n",
              "    </tr>\n",
              "    <tr>\n",
              "      <th>6</th>\n",
              "      <td>0.060</td>\n",
              "      <td>(beverages &amp; ready to eat, meal solutions)</td>\n",
              "    </tr>\n",
              "  </tbody>\n",
              "</table>\n",
              "</div>"
            ],
            "text/plain": [
              "   support                                    itemsets\n",
              "0    0.515                  (beverages & ready to eat)\n",
              "1    0.295                                   (chilled)\n",
              "2    0.085                           (health & beauty)\n",
              "3    0.220                            (meal solutions)\n",
              "4    0.055                                   (tobacco)\n",
              "5    0.090         (beverages & ready to eat, chilled)\n",
              "6    0.060  (beverages & ready to eat, meal solutions)"
            ]
          },
          "metadata": {
            "tags": []
          },
          "execution_count": 370
        }
      ]
    },
    {
      "cell_type": "markdown",
      "metadata": {
        "id": "HQOqjMrFiHOF"
      },
      "source": [
        "This tell us that there are 24 frequent itemsets of different lengths , so the first step of our apriori algorithm is finished"
      ]
    },
    {
      "cell_type": "markdown",
      "metadata": {
        "id": "X8tpcRwsiQUb"
      },
      "source": [
        "##Now let's generate association rules"
      ]
    },
    {
      "cell_type": "code",
      "metadata": {
        "colab": {
          "base_uri": "https://localhost:8080/",
          "height": 49
        },
        "id": "_2ZJu5jUiOzV",
        "outputId": "38b72f06-c727-4068-aef7-cdc593d31de0"
      },
      "source": [
        "rules=association_rules(frequent_itemsets,metric=\"lift\",min_threshold=1.3)\n",
        "rules"
      ],
      "execution_count": 371,
      "outputs": [
        {
          "output_type": "execute_result",
          "data": {
            "text/html": [
              "<div>\n",
              "<style scoped>\n",
              "    .dataframe tbody tr th:only-of-type {\n",
              "        vertical-align: middle;\n",
              "    }\n",
              "\n",
              "    .dataframe tbody tr th {\n",
              "        vertical-align: top;\n",
              "    }\n",
              "\n",
              "    .dataframe thead th {\n",
              "        text-align: right;\n",
              "    }\n",
              "</style>\n",
              "<table border=\"1\" class=\"dataframe\">\n",
              "  <thead>\n",
              "    <tr style=\"text-align: right;\">\n",
              "      <th></th>\n",
              "      <th>antecedents</th>\n",
              "      <th>consequents</th>\n",
              "      <th>antecedent support</th>\n",
              "      <th>consequent support</th>\n",
              "      <th>support</th>\n",
              "      <th>confidence</th>\n",
              "      <th>lift</th>\n",
              "      <th>leverage</th>\n",
              "      <th>conviction</th>\n",
              "    </tr>\n",
              "  </thead>\n",
              "  <tbody>\n",
              "  </tbody>\n",
              "</table>\n",
              "</div>"
            ],
            "text/plain": [
              "Empty DataFrame\n",
              "Columns: [antecedents, consequents, antecedent support, consequent support, support, confidence, lift, leverage, conviction]\n",
              "Index: []"
            ]
          },
          "metadata": {
            "tags": []
          },
          "execution_count": 371
        }
      ]
    },
    {
      "cell_type": "markdown",
      "metadata": {
        "id": "Gw9-ImxCihrG"
      },
      "source": [
        "Above we can see the 35 rules generated with lift greater than 1.3\n",
        "\n",
        "Intuition we can get is that:\n",
        "\n",
        "Above we can see the 35 rules generated with lift greater than 1.3\n",
        "\n",
        "Intuition we can get is that:\n",
        "\n",
        "    \n",
        "     \n",
        "   \n",
        "   \n",
        "    \n",
        "1.  33% of transactions containing cleanning also contain health and beauty\n",
        "2.  41% of transactions containing  health and beauty also contain cleaning\n",
        "3.  58% of transactions containing cleaning also contain meal solution\n",
        "4.  28% of transactions containing meal solution also contain cleaning\n",
        "\n",
        "....and so on "
      ]
    },
    {
      "cell_type": "markdown",
      "metadata": {
        "id": "lQGWR2Hjj6EZ"
      },
      "source": [
        "#Selecting and Filtering the Results"
      ]
    },
    {
      "cell_type": "code",
      "metadata": {
        "_uuid": "9db2216edbcd0ed67d3e00111dc9d7919fc8b737",
        "execution": {
          "iopub.execute_input": "2021-06-17T08:28:55.546778Z",
          "iopub.status.busy": "2021-06-17T08:28:55.546319Z",
          "iopub.status.idle": "2021-06-17T08:28:55.592672Z",
          "shell.execute_reply": "2021-06-17T08:28:55.592052Z",
          "shell.execute_reply.started": "2021-06-17T08:28:55.546736Z"
        },
        "scrolled": true,
        "id": "Adn8r6z9wz19"
      },
      "source": [
        "# frequent_itemsets.sort_values(by=\"support\",ascending=False)"
      ],
      "execution_count": 372,
      "outputs": []
    },
    {
      "cell_type": "markdown",
      "metadata": {
        "id": "Tczpb9jykvRc"
      },
      "source": [
        "## Selecting and Filtering the Results"
      ]
    },
    {
      "cell_type": "code",
      "metadata": {
        "_uuid": "c4c685db316168ae1060e16f182c5e5ed2c34a90",
        "execution": {
          "iopub.execute_input": "2021-06-17T08:28:56.786756Z",
          "iopub.status.busy": "2021-06-17T08:28:56.786307Z",
          "iopub.status.idle": "2021-06-17T08:28:56.838018Z",
          "shell.execute_reply": "2021-06-17T08:28:56.837166Z",
          "shell.execute_reply.started": "2021-06-17T08:28:56.786718Z"
        },
        "scrolled": true,
        "colab": {
          "base_uri": "https://localhost:8080/",
          "height": 269
        },
        "id": "AGAXeg0Awz1-",
        "outputId": "7878df76-bbf6-4265-de9e-ca437cde8b7b"
      },
      "source": [
        "frequent_itemsets['length'] = frequent_itemsets['itemsets'].apply(lambda x:len(x))\n",
        "frequent_itemsets"
      ],
      "execution_count": 373,
      "outputs": [
        {
          "output_type": "execute_result",
          "data": {
            "text/html": [
              "<div>\n",
              "<style scoped>\n",
              "    .dataframe tbody tr th:only-of-type {\n",
              "        vertical-align: middle;\n",
              "    }\n",
              "\n",
              "    .dataframe tbody tr th {\n",
              "        vertical-align: top;\n",
              "    }\n",
              "\n",
              "    .dataframe thead th {\n",
              "        text-align: right;\n",
              "    }\n",
              "</style>\n",
              "<table border=\"1\" class=\"dataframe\">\n",
              "  <thead>\n",
              "    <tr style=\"text-align: right;\">\n",
              "      <th></th>\n",
              "      <th>support</th>\n",
              "      <th>itemsets</th>\n",
              "      <th>length</th>\n",
              "    </tr>\n",
              "  </thead>\n",
              "  <tbody>\n",
              "    <tr>\n",
              "      <th>0</th>\n",
              "      <td>0.515</td>\n",
              "      <td>(beverages &amp; ready to eat)</td>\n",
              "      <td>1</td>\n",
              "    </tr>\n",
              "    <tr>\n",
              "      <th>1</th>\n",
              "      <td>0.295</td>\n",
              "      <td>(chilled)</td>\n",
              "      <td>1</td>\n",
              "    </tr>\n",
              "    <tr>\n",
              "      <th>2</th>\n",
              "      <td>0.085</td>\n",
              "      <td>(health &amp; beauty)</td>\n",
              "      <td>1</td>\n",
              "    </tr>\n",
              "    <tr>\n",
              "      <th>3</th>\n",
              "      <td>0.220</td>\n",
              "      <td>(meal solutions)</td>\n",
              "      <td>1</td>\n",
              "    </tr>\n",
              "    <tr>\n",
              "      <th>4</th>\n",
              "      <td>0.055</td>\n",
              "      <td>(tobacco)</td>\n",
              "      <td>1</td>\n",
              "    </tr>\n",
              "    <tr>\n",
              "      <th>5</th>\n",
              "      <td>0.090</td>\n",
              "      <td>(beverages &amp; ready to eat, chilled)</td>\n",
              "      <td>2</td>\n",
              "    </tr>\n",
              "    <tr>\n",
              "      <th>6</th>\n",
              "      <td>0.060</td>\n",
              "      <td>(beverages &amp; ready to eat, meal solutions)</td>\n",
              "      <td>2</td>\n",
              "    </tr>\n",
              "  </tbody>\n",
              "</table>\n",
              "</div>"
            ],
            "text/plain": [
              "   support                                    itemsets  length\n",
              "0    0.515                  (beverages & ready to eat)       1\n",
              "1    0.295                                   (chilled)       1\n",
              "2    0.085                           (health & beauty)       1\n",
              "3    0.220                            (meal solutions)       1\n",
              "4    0.055                                   (tobacco)       1\n",
              "5    0.090         (beverages & ready to eat, chilled)       2\n",
              "6    0.060  (beverages & ready to eat, meal solutions)       2"
            ]
          },
          "metadata": {
            "tags": []
          },
          "execution_count": 373
        }
      ]
    },
    {
      "cell_type": "markdown",
      "metadata": {
        "id": "y35DKxi6lHPL"
      },
      "source": [
        "### getting th item sets with length = 2 and support more han 10%\n"
      ]
    },
    {
      "cell_type": "code",
      "metadata": {
        "colab": {
          "base_uri": "https://localhost:8080/",
          "height": 112
        },
        "id": "mphDFn5rkuNM",
        "outputId": "c04bfba0-db1d-40f8-9465-867b6fdd4cd9"
      },
      "source": [
        "frequent_itemsets[ (frequent_itemsets['length'] == 2) &\n",
        "                   (frequent_itemsets['support'] >= 0.01) ]"
      ],
      "execution_count": 374,
      "outputs": [
        {
          "output_type": "execute_result",
          "data": {
            "text/html": [
              "<div>\n",
              "<style scoped>\n",
              "    .dataframe tbody tr th:only-of-type {\n",
              "        vertical-align: middle;\n",
              "    }\n",
              "\n",
              "    .dataframe tbody tr th {\n",
              "        vertical-align: top;\n",
              "    }\n",
              "\n",
              "    .dataframe thead th {\n",
              "        text-align: right;\n",
              "    }\n",
              "</style>\n",
              "<table border=\"1\" class=\"dataframe\">\n",
              "  <thead>\n",
              "    <tr style=\"text-align: right;\">\n",
              "      <th></th>\n",
              "      <th>support</th>\n",
              "      <th>itemsets</th>\n",
              "      <th>length</th>\n",
              "    </tr>\n",
              "  </thead>\n",
              "  <tbody>\n",
              "    <tr>\n",
              "      <th>5</th>\n",
              "      <td>0.09</td>\n",
              "      <td>(beverages &amp; ready to eat, chilled)</td>\n",
              "      <td>2</td>\n",
              "    </tr>\n",
              "    <tr>\n",
              "      <th>6</th>\n",
              "      <td>0.06</td>\n",
              "      <td>(beverages &amp; ready to eat, meal solutions)</td>\n",
              "      <td>2</td>\n",
              "    </tr>\n",
              "  </tbody>\n",
              "</table>\n",
              "</div>"
            ],
            "text/plain": [
              "   support                                    itemsets  length\n",
              "5     0.09         (beverages & ready to eat, chilled)       2\n",
              "6     0.06  (beverages & ready to eat, meal solutions)       2"
            ]
          },
          "metadata": {
            "tags": []
          },
          "execution_count": 374
        }
      ]
    },
    {
      "cell_type": "markdown",
      "metadata": {
        "id": "kYbQSj5IlP3n"
      },
      "source": [
        "### # getting th item sets with length = 2 and support more han 10%"
      ]
    },
    {
      "cell_type": "code",
      "metadata": {
        "colab": {
          "base_uri": "https://localhost:8080/",
          "height": 206
        },
        "id": "y7gkdzirlVQS",
        "outputId": "820c04e8-c516-4a32-b6de-e09da2ebb1e2"
      },
      "source": [
        "frequent_itemsets[ (frequent_itemsets['length'] == 1) &\n",
        "                   (frequent_itemsets['support'] >= 0.01) ]"
      ],
      "execution_count": 375,
      "outputs": [
        {
          "output_type": "execute_result",
          "data": {
            "text/html": [
              "<div>\n",
              "<style scoped>\n",
              "    .dataframe tbody tr th:only-of-type {\n",
              "        vertical-align: middle;\n",
              "    }\n",
              "\n",
              "    .dataframe tbody tr th {\n",
              "        vertical-align: top;\n",
              "    }\n",
              "\n",
              "    .dataframe thead th {\n",
              "        text-align: right;\n",
              "    }\n",
              "</style>\n",
              "<table border=\"1\" class=\"dataframe\">\n",
              "  <thead>\n",
              "    <tr style=\"text-align: right;\">\n",
              "      <th></th>\n",
              "      <th>support</th>\n",
              "      <th>itemsets</th>\n",
              "      <th>length</th>\n",
              "    </tr>\n",
              "  </thead>\n",
              "  <tbody>\n",
              "    <tr>\n",
              "      <th>0</th>\n",
              "      <td>0.515</td>\n",
              "      <td>(beverages &amp; ready to eat)</td>\n",
              "      <td>1</td>\n",
              "    </tr>\n",
              "    <tr>\n",
              "      <th>1</th>\n",
              "      <td>0.295</td>\n",
              "      <td>(chilled)</td>\n",
              "      <td>1</td>\n",
              "    </tr>\n",
              "    <tr>\n",
              "      <th>2</th>\n",
              "      <td>0.085</td>\n",
              "      <td>(health &amp; beauty)</td>\n",
              "      <td>1</td>\n",
              "    </tr>\n",
              "    <tr>\n",
              "      <th>3</th>\n",
              "      <td>0.220</td>\n",
              "      <td>(meal solutions)</td>\n",
              "      <td>1</td>\n",
              "    </tr>\n",
              "    <tr>\n",
              "      <th>4</th>\n",
              "      <td>0.055</td>\n",
              "      <td>(tobacco)</td>\n",
              "      <td>1</td>\n",
              "    </tr>\n",
              "  </tbody>\n",
              "</table>\n",
              "</div>"
            ],
            "text/plain": [
              "   support                    itemsets  length\n",
              "0    0.515  (beverages & ready to eat)       1\n",
              "1    0.295                   (chilled)       1\n",
              "2    0.085           (health & beauty)       1\n",
              "3    0.220            (meal solutions)       1\n",
              "4    0.055                   (tobacco)       1"
            ]
          },
          "metadata": {
            "tags": []
          },
          "execution_count": 375
        }
      ]
    },
    {
      "cell_type": "code",
      "metadata": {
        "id": "KA_qkwy2wz1-"
      },
      "source": [
        "# from mlxtend.frequent_patterns import association_rules\n",
        "# # rules = association_rules(frequent_itemsets, metric='lift', min_threshold=0.01)\n",
        "rules = association_rules(frequent_itemsets, metric='confidence', min_threshold=0.5)"
      ],
      "execution_count": 376,
      "outputs": []
    },
    {
      "cell_type": "code",
      "metadata": {
        "colab": {
          "base_uri": "https://localhost:8080/",
          "height": 49
        },
        "id": "4rLVju_ywz1-",
        "outputId": "b992cebc-3b9a-49c1-da8e-0b70f29026da"
      },
      "source": [
        "rules"
      ],
      "execution_count": 377,
      "outputs": [
        {
          "output_type": "execute_result",
          "data": {
            "text/html": [
              "<div>\n",
              "<style scoped>\n",
              "    .dataframe tbody tr th:only-of-type {\n",
              "        vertical-align: middle;\n",
              "    }\n",
              "\n",
              "    .dataframe tbody tr th {\n",
              "        vertical-align: top;\n",
              "    }\n",
              "\n",
              "    .dataframe thead th {\n",
              "        text-align: right;\n",
              "    }\n",
              "</style>\n",
              "<table border=\"1\" class=\"dataframe\">\n",
              "  <thead>\n",
              "    <tr style=\"text-align: right;\">\n",
              "      <th></th>\n",
              "      <th>antecedents</th>\n",
              "      <th>consequents</th>\n",
              "      <th>antecedent support</th>\n",
              "      <th>consequent support</th>\n",
              "      <th>support</th>\n",
              "      <th>confidence</th>\n",
              "      <th>lift</th>\n",
              "      <th>leverage</th>\n",
              "      <th>conviction</th>\n",
              "    </tr>\n",
              "  </thead>\n",
              "  <tbody>\n",
              "  </tbody>\n",
              "</table>\n",
              "</div>"
            ],
            "text/plain": [
              "Empty DataFrame\n",
              "Columns: [antecedents, consequents, antecedent support, consequent support, support, confidence, lift, leverage, conviction]\n",
              "Index: []"
            ]
          },
          "metadata": {
            "tags": []
          },
          "execution_count": 377
        }
      ]
    },
    {
      "cell_type": "code",
      "metadata": {
        "id": "dJS1VlaGwz1_"
      },
      "source": [
        "# rules = association_rules(frequent_itemsets, metric='lift', min_threshold=1)\n",
        "# rules"
      ],
      "execution_count": 378,
      "outputs": []
    },
    {
      "cell_type": "markdown",
      "metadata": {
        "id": "huTTcUmkqsF5"
      },
      "source": [
        "# Apriori Vs FP Growth"
      ]
    },
    {
      "cell_type": "markdown",
      "metadata": {
        "id": "MZo9HtvKsC8e"
      },
      "source": [
        "### Since FP-Growth doesn't require creating candidate sets explicitly, it can be magnitudes faster than the alternative Apriori algorithm. FP-Growth is about 5 times faster.Let's look at it."
      ]
    },
    {
      "cell_type": "code",
      "metadata": {
        "colab": {
          "base_uri": "https://localhost:8080/",
          "height": 269
        },
        "id": "ITukCAtEsCry",
        "outputId": "dc0656c8-5b8e-4f1f-85d0-0cf3f0eae322"
      },
      "source": [
        "frequent_itemset_fp_growth=fpgrowth(df,min_support=0.05,use_colnames=True)\n",
        "frequent_itemset_fp_growth = frequent_itemset_fp_growth.sort_values(by=\"support\",ascending=False)\n",
        "frequent_itemset_fp_growth"
      ],
      "execution_count": 379,
      "outputs": [
        {
          "output_type": "execute_result",
          "data": {
            "text/html": [
              "<div>\n",
              "<style scoped>\n",
              "    .dataframe tbody tr th:only-of-type {\n",
              "        vertical-align: middle;\n",
              "    }\n",
              "\n",
              "    .dataframe tbody tr th {\n",
              "        vertical-align: top;\n",
              "    }\n",
              "\n",
              "    .dataframe thead th {\n",
              "        text-align: right;\n",
              "    }\n",
              "</style>\n",
              "<table border=\"1\" class=\"dataframe\">\n",
              "  <thead>\n",
              "    <tr style=\"text-align: right;\">\n",
              "      <th></th>\n",
              "      <th>support</th>\n",
              "      <th>itemsets</th>\n",
              "    </tr>\n",
              "  </thead>\n",
              "  <tbody>\n",
              "    <tr>\n",
              "      <th>0</th>\n",
              "      <td>0.515</td>\n",
              "      <td>(beverages &amp; ready to eat)</td>\n",
              "    </tr>\n",
              "    <tr>\n",
              "      <th>1</th>\n",
              "      <td>0.295</td>\n",
              "      <td>(chilled)</td>\n",
              "    </tr>\n",
              "    <tr>\n",
              "      <th>4</th>\n",
              "      <td>0.220</td>\n",
              "      <td>(meal solutions)</td>\n",
              "    </tr>\n",
              "    <tr>\n",
              "      <th>5</th>\n",
              "      <td>0.090</td>\n",
              "      <td>(beverages &amp; ready to eat, chilled)</td>\n",
              "    </tr>\n",
              "    <tr>\n",
              "      <th>2</th>\n",
              "      <td>0.085</td>\n",
              "      <td>(health &amp; beauty)</td>\n",
              "    </tr>\n",
              "    <tr>\n",
              "      <th>6</th>\n",
              "      <td>0.060</td>\n",
              "      <td>(beverages &amp; ready to eat, meal solutions)</td>\n",
              "    </tr>\n",
              "    <tr>\n",
              "      <th>3</th>\n",
              "      <td>0.055</td>\n",
              "      <td>(tobacco)</td>\n",
              "    </tr>\n",
              "  </tbody>\n",
              "</table>\n",
              "</div>"
            ],
            "text/plain": [
              "   support                                    itemsets\n",
              "0    0.515                  (beverages & ready to eat)\n",
              "1    0.295                                   (chilled)\n",
              "4    0.220                            (meal solutions)\n",
              "5    0.090         (beverages & ready to eat, chilled)\n",
              "2    0.085                           (health & beauty)\n",
              "6    0.060  (beverages & ready to eat, meal solutions)\n",
              "3    0.055                                   (tobacco)"
            ]
          },
          "metadata": {
            "tags": []
          },
          "execution_count": 379
        }
      ]
    },
    {
      "cell_type": "code",
      "metadata": {
        "id": "mIuV9s9Gwz1_",
        "colab": {
          "base_uri": "https://localhost:8080/",
          "height": 49
        },
        "outputId": "e686877d-895d-4772-e95c-17285f7a926a"
      },
      "source": [
        "res=association_rules(frequent_itemset_fp_growth,metric=\"lift\",min_threshold=1)\n",
        "res = res.sort_values(by=\"lift\",ascending=False)\n",
        "res"
      ],
      "execution_count": 380,
      "outputs": [
        {
          "output_type": "execute_result",
          "data": {
            "text/html": [
              "<div>\n",
              "<style scoped>\n",
              "    .dataframe tbody tr th:only-of-type {\n",
              "        vertical-align: middle;\n",
              "    }\n",
              "\n",
              "    .dataframe tbody tr th {\n",
              "        vertical-align: top;\n",
              "    }\n",
              "\n",
              "    .dataframe thead th {\n",
              "        text-align: right;\n",
              "    }\n",
              "</style>\n",
              "<table border=\"1\" class=\"dataframe\">\n",
              "  <thead>\n",
              "    <tr style=\"text-align: right;\">\n",
              "      <th></th>\n",
              "      <th>antecedents</th>\n",
              "      <th>consequents</th>\n",
              "      <th>antecedent support</th>\n",
              "      <th>consequent support</th>\n",
              "      <th>support</th>\n",
              "      <th>confidence</th>\n",
              "      <th>lift</th>\n",
              "      <th>leverage</th>\n",
              "      <th>conviction</th>\n",
              "    </tr>\n",
              "  </thead>\n",
              "  <tbody>\n",
              "  </tbody>\n",
              "</table>\n",
              "</div>"
            ],
            "text/plain": [
              "Empty DataFrame\n",
              "Columns: [antecedents, consequents, antecedent support, consequent support, support, confidence, lift, leverage, conviction]\n",
              "Index: []"
            ]
          },
          "metadata": {
            "tags": []
          },
          "execution_count": 380
        }
      ]
    },
    {
      "cell_type": "code",
      "metadata": {
        "colab": {
          "base_uri": "https://localhost:8080/",
          "height": 269
        },
        "id": "QG8muJ6q6-FY",
        "outputId": "179924d7-542f-42d7-ca83-866a98db5664"
      },
      "source": [
        "frequent_itemsets.sort_values(by=\"support\",ascending=False)"
      ],
      "execution_count": 381,
      "outputs": [
        {
          "output_type": "execute_result",
          "data": {
            "text/html": [
              "<div>\n",
              "<style scoped>\n",
              "    .dataframe tbody tr th:only-of-type {\n",
              "        vertical-align: middle;\n",
              "    }\n",
              "\n",
              "    .dataframe tbody tr th {\n",
              "        vertical-align: top;\n",
              "    }\n",
              "\n",
              "    .dataframe thead th {\n",
              "        text-align: right;\n",
              "    }\n",
              "</style>\n",
              "<table border=\"1\" class=\"dataframe\">\n",
              "  <thead>\n",
              "    <tr style=\"text-align: right;\">\n",
              "      <th></th>\n",
              "      <th>support</th>\n",
              "      <th>itemsets</th>\n",
              "      <th>length</th>\n",
              "    </tr>\n",
              "  </thead>\n",
              "  <tbody>\n",
              "    <tr>\n",
              "      <th>0</th>\n",
              "      <td>0.515</td>\n",
              "      <td>(beverages &amp; ready to eat)</td>\n",
              "      <td>1</td>\n",
              "    </tr>\n",
              "    <tr>\n",
              "      <th>1</th>\n",
              "      <td>0.295</td>\n",
              "      <td>(chilled)</td>\n",
              "      <td>1</td>\n",
              "    </tr>\n",
              "    <tr>\n",
              "      <th>3</th>\n",
              "      <td>0.220</td>\n",
              "      <td>(meal solutions)</td>\n",
              "      <td>1</td>\n",
              "    </tr>\n",
              "    <tr>\n",
              "      <th>5</th>\n",
              "      <td>0.090</td>\n",
              "      <td>(beverages &amp; ready to eat, chilled)</td>\n",
              "      <td>2</td>\n",
              "    </tr>\n",
              "    <tr>\n",
              "      <th>2</th>\n",
              "      <td>0.085</td>\n",
              "      <td>(health &amp; beauty)</td>\n",
              "      <td>1</td>\n",
              "    </tr>\n",
              "    <tr>\n",
              "      <th>6</th>\n",
              "      <td>0.060</td>\n",
              "      <td>(beverages &amp; ready to eat, meal solutions)</td>\n",
              "      <td>2</td>\n",
              "    </tr>\n",
              "    <tr>\n",
              "      <th>4</th>\n",
              "      <td>0.055</td>\n",
              "      <td>(tobacco)</td>\n",
              "      <td>1</td>\n",
              "    </tr>\n",
              "  </tbody>\n",
              "</table>\n",
              "</div>"
            ],
            "text/plain": [
              "   support                                    itemsets  length\n",
              "0    0.515                  (beverages & ready to eat)       1\n",
              "1    0.295                                   (chilled)       1\n",
              "3    0.220                            (meal solutions)       1\n",
              "5    0.090         (beverages & ready to eat, chilled)       2\n",
              "2    0.085                           (health & beauty)       1\n",
              "6    0.060  (beverages & ready to eat, meal solutions)       2\n",
              "4    0.055                                   (tobacco)       1"
            ]
          },
          "metadata": {
            "tags": []
          },
          "execution_count": 381
        }
      ]
    },
    {
      "cell_type": "markdown",
      "metadata": {
        "id": "wAFryQg36h_d"
      },
      "source": [
        "We could observe that {meal solution,chilled}->{bevarage and ready to eat , cleaning} is mostly like to occur as we can observe it from the lift."
      ]
    },
    {
      "cell_type": "code",
      "metadata": {
        "colab": {
          "base_uri": "https://localhost:8080/",
          "height": 1000
        },
        "id": "YOZSaxMS6I6w",
        "outputId": "25de470b-6085-443a-ea16-a2708e3b64ee"
      },
      "source": [
        "import time\n",
        "l=[0.01,0.02,0.03,0.04,0.05]\n",
        "t=[]\n",
        "for i in l:\n",
        "    t1=time.time()\n",
        "    apriori(df,min_support=i,use_colnames=True)\n",
        "    t2=time.time()\n",
        "    t.append((t2-t1)*1000)"
      ],
      "execution_count": 382,
      "outputs": [
        {
          "output_type": "execute_result",
          "data": {
            "text/html": [
              "<div>\n",
              "<style scoped>\n",
              "    .dataframe tbody tr th:only-of-type {\n",
              "        vertical-align: middle;\n",
              "    }\n",
              "\n",
              "    .dataframe tbody tr th {\n",
              "        vertical-align: top;\n",
              "    }\n",
              "\n",
              "    .dataframe thead th {\n",
              "        text-align: right;\n",
              "    }\n",
              "</style>\n",
              "<table border=\"1\" class=\"dataframe\">\n",
              "  <thead>\n",
              "    <tr style=\"text-align: right;\">\n",
              "      <th></th>\n",
              "      <th>support</th>\n",
              "      <th>itemsets</th>\n",
              "    </tr>\n",
              "  </thead>\n",
              "  <tbody>\n",
              "    <tr>\n",
              "      <th>0</th>\n",
              "      <td>0.015</td>\n",
              "      <td>(alcohol)</td>\n",
              "    </tr>\n",
              "    <tr>\n",
              "      <th>1</th>\n",
              "      <td>0.015</td>\n",
              "      <td>(baby)</td>\n",
              "    </tr>\n",
              "    <tr>\n",
              "      <th>2</th>\n",
              "      <td>0.515</td>\n",
              "      <td>(beverages &amp; ready to eat)</td>\n",
              "    </tr>\n",
              "    <tr>\n",
              "      <th>3</th>\n",
              "      <td>0.295</td>\n",
              "      <td>(chilled)</td>\n",
              "    </tr>\n",
              "    <tr>\n",
              "      <th>4</th>\n",
              "      <td>0.045</td>\n",
              "      <td>(cleaning)</td>\n",
              "    </tr>\n",
              "    <tr>\n",
              "      <th>5</th>\n",
              "      <td>0.015</td>\n",
              "      <td>(frozen)</td>\n",
              "    </tr>\n",
              "    <tr>\n",
              "      <th>6</th>\n",
              "      <td>0.085</td>\n",
              "      <td>(health &amp; beauty)</td>\n",
              "    </tr>\n",
              "    <tr>\n",
              "      <th>7</th>\n",
              "      <td>0.220</td>\n",
              "      <td>(meal solutions)</td>\n",
              "    </tr>\n",
              "    <tr>\n",
              "      <th>8</th>\n",
              "      <td>0.010</td>\n",
              "      <td>(pet)</td>\n",
              "    </tr>\n",
              "    <tr>\n",
              "      <th>9</th>\n",
              "      <td>0.055</td>\n",
              "      <td>(tobacco)</td>\n",
              "    </tr>\n",
              "    <tr>\n",
              "      <th>10</th>\n",
              "      <td>0.010</td>\n",
              "      <td>(beverages &amp; ready to eat, baby)</td>\n",
              "    </tr>\n",
              "    <tr>\n",
              "      <th>11</th>\n",
              "      <td>0.090</td>\n",
              "      <td>(beverages &amp; ready to eat, chilled)</td>\n",
              "    </tr>\n",
              "    <tr>\n",
              "      <th>12</th>\n",
              "      <td>0.020</td>\n",
              "      <td>(beverages &amp; ready to eat, health &amp; beauty)</td>\n",
              "    </tr>\n",
              "    <tr>\n",
              "      <th>13</th>\n",
              "      <td>0.060</td>\n",
              "      <td>(beverages &amp; ready to eat, meal solutions)</td>\n",
              "    </tr>\n",
              "    <tr>\n",
              "      <th>14</th>\n",
              "      <td>0.010</td>\n",
              "      <td>(cleaning, chilled)</td>\n",
              "    </tr>\n",
              "    <tr>\n",
              "      <th>15</th>\n",
              "      <td>0.010</td>\n",
              "      <td>(chilled, frozen)</td>\n",
              "    </tr>\n",
              "    <tr>\n",
              "      <th>16</th>\n",
              "      <td>0.045</td>\n",
              "      <td>(meal solutions, chilled)</td>\n",
              "    </tr>\n",
              "    <tr>\n",
              "      <th>17</th>\n",
              "      <td>0.015</td>\n",
              "      <td>(health &amp; beauty, cleaning)</td>\n",
              "    </tr>\n",
              "    <tr>\n",
              "      <th>18</th>\n",
              "      <td>0.015</td>\n",
              "      <td>(beverages &amp; ready to eat, chilled, meal solut...</td>\n",
              "    </tr>\n",
              "  </tbody>\n",
              "</table>\n",
              "</div>"
            ],
            "text/plain": [
              "    support                                           itemsets\n",
              "0     0.015                                          (alcohol)\n",
              "1     0.015                                             (baby)\n",
              "2     0.515                         (beverages & ready to eat)\n",
              "3     0.295                                          (chilled)\n",
              "4     0.045                                         (cleaning)\n",
              "5     0.015                                           (frozen)\n",
              "6     0.085                                  (health & beauty)\n",
              "7     0.220                                   (meal solutions)\n",
              "8     0.010                                              (pet)\n",
              "9     0.055                                          (tobacco)\n",
              "10    0.010                   (beverages & ready to eat, baby)\n",
              "11    0.090                (beverages & ready to eat, chilled)\n",
              "12    0.020        (beverages & ready to eat, health & beauty)\n",
              "13    0.060         (beverages & ready to eat, meal solutions)\n",
              "14    0.010                                (cleaning, chilled)\n",
              "15    0.010                                  (chilled, frozen)\n",
              "16    0.045                          (meal solutions, chilled)\n",
              "17    0.015                        (health & beauty, cleaning)\n",
              "18    0.015  (beverages & ready to eat, chilled, meal solut..."
            ]
          },
          "metadata": {
            "tags": []
          },
          "execution_count": 382
        },
        {
          "output_type": "execute_result",
          "data": {
            "text/html": [
              "<div>\n",
              "<style scoped>\n",
              "    .dataframe tbody tr th:only-of-type {\n",
              "        vertical-align: middle;\n",
              "    }\n",
              "\n",
              "    .dataframe tbody tr th {\n",
              "        vertical-align: top;\n",
              "    }\n",
              "\n",
              "    .dataframe thead th {\n",
              "        text-align: right;\n",
              "    }\n",
              "</style>\n",
              "<table border=\"1\" class=\"dataframe\">\n",
              "  <thead>\n",
              "    <tr style=\"text-align: right;\">\n",
              "      <th></th>\n",
              "      <th>support</th>\n",
              "      <th>itemsets</th>\n",
              "    </tr>\n",
              "  </thead>\n",
              "  <tbody>\n",
              "    <tr>\n",
              "      <th>0</th>\n",
              "      <td>0.515</td>\n",
              "      <td>(beverages &amp; ready to eat)</td>\n",
              "    </tr>\n",
              "    <tr>\n",
              "      <th>1</th>\n",
              "      <td>0.295</td>\n",
              "      <td>(chilled)</td>\n",
              "    </tr>\n",
              "    <tr>\n",
              "      <th>2</th>\n",
              "      <td>0.045</td>\n",
              "      <td>(cleaning)</td>\n",
              "    </tr>\n",
              "    <tr>\n",
              "      <th>3</th>\n",
              "      <td>0.085</td>\n",
              "      <td>(health &amp; beauty)</td>\n",
              "    </tr>\n",
              "    <tr>\n",
              "      <th>4</th>\n",
              "      <td>0.220</td>\n",
              "      <td>(meal solutions)</td>\n",
              "    </tr>\n",
              "    <tr>\n",
              "      <th>5</th>\n",
              "      <td>0.055</td>\n",
              "      <td>(tobacco)</td>\n",
              "    </tr>\n",
              "    <tr>\n",
              "      <th>6</th>\n",
              "      <td>0.090</td>\n",
              "      <td>(beverages &amp; ready to eat, chilled)</td>\n",
              "    </tr>\n",
              "    <tr>\n",
              "      <th>7</th>\n",
              "      <td>0.020</td>\n",
              "      <td>(beverages &amp; ready to eat, health &amp; beauty)</td>\n",
              "    </tr>\n",
              "    <tr>\n",
              "      <th>8</th>\n",
              "      <td>0.060</td>\n",
              "      <td>(beverages &amp; ready to eat, meal solutions)</td>\n",
              "    </tr>\n",
              "    <tr>\n",
              "      <th>9</th>\n",
              "      <td>0.045</td>\n",
              "      <td>(meal solutions, chilled)</td>\n",
              "    </tr>\n",
              "  </tbody>\n",
              "</table>\n",
              "</div>"
            ],
            "text/plain": [
              "   support                                     itemsets\n",
              "0    0.515                   (beverages & ready to eat)\n",
              "1    0.295                                    (chilled)\n",
              "2    0.045                                   (cleaning)\n",
              "3    0.085                            (health & beauty)\n",
              "4    0.220                             (meal solutions)\n",
              "5    0.055                                    (tobacco)\n",
              "6    0.090          (beverages & ready to eat, chilled)\n",
              "7    0.020  (beverages & ready to eat, health & beauty)\n",
              "8    0.060   (beverages & ready to eat, meal solutions)\n",
              "9    0.045                    (meal solutions, chilled)"
            ]
          },
          "metadata": {
            "tags": []
          },
          "execution_count": 382
        },
        {
          "output_type": "execute_result",
          "data": {
            "text/html": [
              "<div>\n",
              "<style scoped>\n",
              "    .dataframe tbody tr th:only-of-type {\n",
              "        vertical-align: middle;\n",
              "    }\n",
              "\n",
              "    .dataframe tbody tr th {\n",
              "        vertical-align: top;\n",
              "    }\n",
              "\n",
              "    .dataframe thead th {\n",
              "        text-align: right;\n",
              "    }\n",
              "</style>\n",
              "<table border=\"1\" class=\"dataframe\">\n",
              "  <thead>\n",
              "    <tr style=\"text-align: right;\">\n",
              "      <th></th>\n",
              "      <th>support</th>\n",
              "      <th>itemsets</th>\n",
              "    </tr>\n",
              "  </thead>\n",
              "  <tbody>\n",
              "    <tr>\n",
              "      <th>0</th>\n",
              "      <td>0.515</td>\n",
              "      <td>(beverages &amp; ready to eat)</td>\n",
              "    </tr>\n",
              "    <tr>\n",
              "      <th>1</th>\n",
              "      <td>0.295</td>\n",
              "      <td>(chilled)</td>\n",
              "    </tr>\n",
              "    <tr>\n",
              "      <th>2</th>\n",
              "      <td>0.045</td>\n",
              "      <td>(cleaning)</td>\n",
              "    </tr>\n",
              "    <tr>\n",
              "      <th>3</th>\n",
              "      <td>0.085</td>\n",
              "      <td>(health &amp; beauty)</td>\n",
              "    </tr>\n",
              "    <tr>\n",
              "      <th>4</th>\n",
              "      <td>0.220</td>\n",
              "      <td>(meal solutions)</td>\n",
              "    </tr>\n",
              "    <tr>\n",
              "      <th>5</th>\n",
              "      <td>0.055</td>\n",
              "      <td>(tobacco)</td>\n",
              "    </tr>\n",
              "    <tr>\n",
              "      <th>6</th>\n",
              "      <td>0.090</td>\n",
              "      <td>(beverages &amp; ready to eat, chilled)</td>\n",
              "    </tr>\n",
              "    <tr>\n",
              "      <th>7</th>\n",
              "      <td>0.060</td>\n",
              "      <td>(beverages &amp; ready to eat, meal solutions)</td>\n",
              "    </tr>\n",
              "    <tr>\n",
              "      <th>8</th>\n",
              "      <td>0.045</td>\n",
              "      <td>(meal solutions, chilled)</td>\n",
              "    </tr>\n",
              "  </tbody>\n",
              "</table>\n",
              "</div>"
            ],
            "text/plain": [
              "   support                                    itemsets\n",
              "0    0.515                  (beverages & ready to eat)\n",
              "1    0.295                                   (chilled)\n",
              "2    0.045                                  (cleaning)\n",
              "3    0.085                           (health & beauty)\n",
              "4    0.220                            (meal solutions)\n",
              "5    0.055                                   (tobacco)\n",
              "6    0.090         (beverages & ready to eat, chilled)\n",
              "7    0.060  (beverages & ready to eat, meal solutions)\n",
              "8    0.045                   (meal solutions, chilled)"
            ]
          },
          "metadata": {
            "tags": []
          },
          "execution_count": 382
        },
        {
          "output_type": "execute_result",
          "data": {
            "text/html": [
              "<div>\n",
              "<style scoped>\n",
              "    .dataframe tbody tr th:only-of-type {\n",
              "        vertical-align: middle;\n",
              "    }\n",
              "\n",
              "    .dataframe tbody tr th {\n",
              "        vertical-align: top;\n",
              "    }\n",
              "\n",
              "    .dataframe thead th {\n",
              "        text-align: right;\n",
              "    }\n",
              "</style>\n",
              "<table border=\"1\" class=\"dataframe\">\n",
              "  <thead>\n",
              "    <tr style=\"text-align: right;\">\n",
              "      <th></th>\n",
              "      <th>support</th>\n",
              "      <th>itemsets</th>\n",
              "    </tr>\n",
              "  </thead>\n",
              "  <tbody>\n",
              "    <tr>\n",
              "      <th>0</th>\n",
              "      <td>0.515</td>\n",
              "      <td>(beverages &amp; ready to eat)</td>\n",
              "    </tr>\n",
              "    <tr>\n",
              "      <th>1</th>\n",
              "      <td>0.295</td>\n",
              "      <td>(chilled)</td>\n",
              "    </tr>\n",
              "    <tr>\n",
              "      <th>2</th>\n",
              "      <td>0.045</td>\n",
              "      <td>(cleaning)</td>\n",
              "    </tr>\n",
              "    <tr>\n",
              "      <th>3</th>\n",
              "      <td>0.085</td>\n",
              "      <td>(health &amp; beauty)</td>\n",
              "    </tr>\n",
              "    <tr>\n",
              "      <th>4</th>\n",
              "      <td>0.220</td>\n",
              "      <td>(meal solutions)</td>\n",
              "    </tr>\n",
              "    <tr>\n",
              "      <th>5</th>\n",
              "      <td>0.055</td>\n",
              "      <td>(tobacco)</td>\n",
              "    </tr>\n",
              "    <tr>\n",
              "      <th>6</th>\n",
              "      <td>0.090</td>\n",
              "      <td>(beverages &amp; ready to eat, chilled)</td>\n",
              "    </tr>\n",
              "    <tr>\n",
              "      <th>7</th>\n",
              "      <td>0.060</td>\n",
              "      <td>(beverages &amp; ready to eat, meal solutions)</td>\n",
              "    </tr>\n",
              "    <tr>\n",
              "      <th>8</th>\n",
              "      <td>0.045</td>\n",
              "      <td>(meal solutions, chilled)</td>\n",
              "    </tr>\n",
              "  </tbody>\n",
              "</table>\n",
              "</div>"
            ],
            "text/plain": [
              "   support                                    itemsets\n",
              "0    0.515                  (beverages & ready to eat)\n",
              "1    0.295                                   (chilled)\n",
              "2    0.045                                  (cleaning)\n",
              "3    0.085                           (health & beauty)\n",
              "4    0.220                            (meal solutions)\n",
              "5    0.055                                   (tobacco)\n",
              "6    0.090         (beverages & ready to eat, chilled)\n",
              "7    0.060  (beverages & ready to eat, meal solutions)\n",
              "8    0.045                   (meal solutions, chilled)"
            ]
          },
          "metadata": {
            "tags": []
          },
          "execution_count": 382
        },
        {
          "output_type": "execute_result",
          "data": {
            "text/html": [
              "<div>\n",
              "<style scoped>\n",
              "    .dataframe tbody tr th:only-of-type {\n",
              "        vertical-align: middle;\n",
              "    }\n",
              "\n",
              "    .dataframe tbody tr th {\n",
              "        vertical-align: top;\n",
              "    }\n",
              "\n",
              "    .dataframe thead th {\n",
              "        text-align: right;\n",
              "    }\n",
              "</style>\n",
              "<table border=\"1\" class=\"dataframe\">\n",
              "  <thead>\n",
              "    <tr style=\"text-align: right;\">\n",
              "      <th></th>\n",
              "      <th>support</th>\n",
              "      <th>itemsets</th>\n",
              "    </tr>\n",
              "  </thead>\n",
              "  <tbody>\n",
              "    <tr>\n",
              "      <th>0</th>\n",
              "      <td>0.515</td>\n",
              "      <td>(beverages &amp; ready to eat)</td>\n",
              "    </tr>\n",
              "    <tr>\n",
              "      <th>1</th>\n",
              "      <td>0.295</td>\n",
              "      <td>(chilled)</td>\n",
              "    </tr>\n",
              "    <tr>\n",
              "      <th>2</th>\n",
              "      <td>0.085</td>\n",
              "      <td>(health &amp; beauty)</td>\n",
              "    </tr>\n",
              "    <tr>\n",
              "      <th>3</th>\n",
              "      <td>0.220</td>\n",
              "      <td>(meal solutions)</td>\n",
              "    </tr>\n",
              "    <tr>\n",
              "      <th>4</th>\n",
              "      <td>0.055</td>\n",
              "      <td>(tobacco)</td>\n",
              "    </tr>\n",
              "    <tr>\n",
              "      <th>5</th>\n",
              "      <td>0.090</td>\n",
              "      <td>(beverages &amp; ready to eat, chilled)</td>\n",
              "    </tr>\n",
              "    <tr>\n",
              "      <th>6</th>\n",
              "      <td>0.060</td>\n",
              "      <td>(beverages &amp; ready to eat, meal solutions)</td>\n",
              "    </tr>\n",
              "  </tbody>\n",
              "</table>\n",
              "</div>"
            ],
            "text/plain": [
              "   support                                    itemsets\n",
              "0    0.515                  (beverages & ready to eat)\n",
              "1    0.295                                   (chilled)\n",
              "2    0.085                           (health & beauty)\n",
              "3    0.220                            (meal solutions)\n",
              "4    0.055                                   (tobacco)\n",
              "5    0.090         (beverages & ready to eat, chilled)\n",
              "6    0.060  (beverages & ready to eat, meal solutions)"
            ]
          },
          "metadata": {
            "tags": []
          },
          "execution_count": 382
        }
      ]
    },
    {
      "cell_type": "code",
      "metadata": {
        "colab": {
          "base_uri": "https://localhost:8080/",
          "height": 1000
        },
        "id": "U_TX23287o-Q",
        "outputId": "b9ccf53c-261e-4916-ae43-b0e235853e10"
      },
      "source": [
        "l=[0.01,0.02,0.03,0.04,0.05]\n",
        "f=[]\n",
        "for i in l:\n",
        "    t1=time.time()\n",
        "    fpgrowth(df,min_support=i,use_colnames=True)\n",
        "    t2=time.time()\n",
        "    f.append((t2-t1)*1000)"
      ],
      "execution_count": 383,
      "outputs": [
        {
          "output_type": "execute_result",
          "data": {
            "text/html": [
              "<div>\n",
              "<style scoped>\n",
              "    .dataframe tbody tr th:only-of-type {\n",
              "        vertical-align: middle;\n",
              "    }\n",
              "\n",
              "    .dataframe tbody tr th {\n",
              "        vertical-align: top;\n",
              "    }\n",
              "\n",
              "    .dataframe thead th {\n",
              "        text-align: right;\n",
              "    }\n",
              "</style>\n",
              "<table border=\"1\" class=\"dataframe\">\n",
              "  <thead>\n",
              "    <tr style=\"text-align: right;\">\n",
              "      <th></th>\n",
              "      <th>support</th>\n",
              "      <th>itemsets</th>\n",
              "    </tr>\n",
              "  </thead>\n",
              "  <tbody>\n",
              "    <tr>\n",
              "      <th>0</th>\n",
              "      <td>0.515</td>\n",
              "      <td>(beverages &amp; ready to eat)</td>\n",
              "    </tr>\n",
              "    <tr>\n",
              "      <th>1</th>\n",
              "      <td>0.295</td>\n",
              "      <td>(chilled)</td>\n",
              "    </tr>\n",
              "    <tr>\n",
              "      <th>2</th>\n",
              "      <td>0.085</td>\n",
              "      <td>(health &amp; beauty)</td>\n",
              "    </tr>\n",
              "    <tr>\n",
              "      <th>3</th>\n",
              "      <td>0.015</td>\n",
              "      <td>(baby)</td>\n",
              "    </tr>\n",
              "    <tr>\n",
              "      <th>4</th>\n",
              "      <td>0.055</td>\n",
              "      <td>(tobacco)</td>\n",
              "    </tr>\n",
              "    <tr>\n",
              "      <th>5</th>\n",
              "      <td>0.045</td>\n",
              "      <td>(cleaning)</td>\n",
              "    </tr>\n",
              "    <tr>\n",
              "      <th>6</th>\n",
              "      <td>0.220</td>\n",
              "      <td>(meal solutions)</td>\n",
              "    </tr>\n",
              "    <tr>\n",
              "      <th>7</th>\n",
              "      <td>0.015</td>\n",
              "      <td>(frozen)</td>\n",
              "    </tr>\n",
              "    <tr>\n",
              "      <th>8</th>\n",
              "      <td>0.015</td>\n",
              "      <td>(alcohol)</td>\n",
              "    </tr>\n",
              "    <tr>\n",
              "      <th>9</th>\n",
              "      <td>0.010</td>\n",
              "      <td>(pet)</td>\n",
              "    </tr>\n",
              "    <tr>\n",
              "      <th>10</th>\n",
              "      <td>0.090</td>\n",
              "      <td>(beverages &amp; ready to eat, chilled)</td>\n",
              "    </tr>\n",
              "    <tr>\n",
              "      <th>11</th>\n",
              "      <td>0.020</td>\n",
              "      <td>(beverages &amp; ready to eat, health &amp; beauty)</td>\n",
              "    </tr>\n",
              "    <tr>\n",
              "      <th>12</th>\n",
              "      <td>0.010</td>\n",
              "      <td>(beverages &amp; ready to eat, baby)</td>\n",
              "    </tr>\n",
              "    <tr>\n",
              "      <th>13</th>\n",
              "      <td>0.010</td>\n",
              "      <td>(cleaning, chilled)</td>\n",
              "    </tr>\n",
              "    <tr>\n",
              "      <th>14</th>\n",
              "      <td>0.015</td>\n",
              "      <td>(health &amp; beauty, cleaning)</td>\n",
              "    </tr>\n",
              "    <tr>\n",
              "      <th>15</th>\n",
              "      <td>0.045</td>\n",
              "      <td>(meal solutions, chilled)</td>\n",
              "    </tr>\n",
              "    <tr>\n",
              "      <th>16</th>\n",
              "      <td>0.060</td>\n",
              "      <td>(beverages &amp; ready to eat, meal solutions)</td>\n",
              "    </tr>\n",
              "    <tr>\n",
              "      <th>17</th>\n",
              "      <td>0.015</td>\n",
              "      <td>(beverages &amp; ready to eat, chilled, meal solut...</td>\n",
              "    </tr>\n",
              "    <tr>\n",
              "      <th>18</th>\n",
              "      <td>0.010</td>\n",
              "      <td>(chilled, frozen)</td>\n",
              "    </tr>\n",
              "  </tbody>\n",
              "</table>\n",
              "</div>"
            ],
            "text/plain": [
              "    support                                           itemsets\n",
              "0     0.515                         (beverages & ready to eat)\n",
              "1     0.295                                          (chilled)\n",
              "2     0.085                                  (health & beauty)\n",
              "3     0.015                                             (baby)\n",
              "4     0.055                                          (tobacco)\n",
              "5     0.045                                         (cleaning)\n",
              "6     0.220                                   (meal solutions)\n",
              "7     0.015                                           (frozen)\n",
              "8     0.015                                          (alcohol)\n",
              "9     0.010                                              (pet)\n",
              "10    0.090                (beverages & ready to eat, chilled)\n",
              "11    0.020        (beverages & ready to eat, health & beauty)\n",
              "12    0.010                   (beverages & ready to eat, baby)\n",
              "13    0.010                                (cleaning, chilled)\n",
              "14    0.015                        (health & beauty, cleaning)\n",
              "15    0.045                          (meal solutions, chilled)\n",
              "16    0.060         (beverages & ready to eat, meal solutions)\n",
              "17    0.015  (beverages & ready to eat, chilled, meal solut...\n",
              "18    0.010                                  (chilled, frozen)"
            ]
          },
          "metadata": {
            "tags": []
          },
          "execution_count": 383
        },
        {
          "output_type": "execute_result",
          "data": {
            "text/html": [
              "<div>\n",
              "<style scoped>\n",
              "    .dataframe tbody tr th:only-of-type {\n",
              "        vertical-align: middle;\n",
              "    }\n",
              "\n",
              "    .dataframe tbody tr th {\n",
              "        vertical-align: top;\n",
              "    }\n",
              "\n",
              "    .dataframe thead th {\n",
              "        text-align: right;\n",
              "    }\n",
              "</style>\n",
              "<table border=\"1\" class=\"dataframe\">\n",
              "  <thead>\n",
              "    <tr style=\"text-align: right;\">\n",
              "      <th></th>\n",
              "      <th>support</th>\n",
              "      <th>itemsets</th>\n",
              "    </tr>\n",
              "  </thead>\n",
              "  <tbody>\n",
              "    <tr>\n",
              "      <th>0</th>\n",
              "      <td>0.515</td>\n",
              "      <td>(beverages &amp; ready to eat)</td>\n",
              "    </tr>\n",
              "    <tr>\n",
              "      <th>1</th>\n",
              "      <td>0.295</td>\n",
              "      <td>(chilled)</td>\n",
              "    </tr>\n",
              "    <tr>\n",
              "      <th>2</th>\n",
              "      <td>0.085</td>\n",
              "      <td>(health &amp; beauty)</td>\n",
              "    </tr>\n",
              "    <tr>\n",
              "      <th>3</th>\n",
              "      <td>0.055</td>\n",
              "      <td>(tobacco)</td>\n",
              "    </tr>\n",
              "    <tr>\n",
              "      <th>4</th>\n",
              "      <td>0.045</td>\n",
              "      <td>(cleaning)</td>\n",
              "    </tr>\n",
              "    <tr>\n",
              "      <th>5</th>\n",
              "      <td>0.220</td>\n",
              "      <td>(meal solutions)</td>\n",
              "    </tr>\n",
              "    <tr>\n",
              "      <th>6</th>\n",
              "      <td>0.090</td>\n",
              "      <td>(beverages &amp; ready to eat, chilled)</td>\n",
              "    </tr>\n",
              "    <tr>\n",
              "      <th>7</th>\n",
              "      <td>0.020</td>\n",
              "      <td>(beverages &amp; ready to eat, health &amp; beauty)</td>\n",
              "    </tr>\n",
              "    <tr>\n",
              "      <th>8</th>\n",
              "      <td>0.045</td>\n",
              "      <td>(meal solutions, chilled)</td>\n",
              "    </tr>\n",
              "    <tr>\n",
              "      <th>9</th>\n",
              "      <td>0.060</td>\n",
              "      <td>(beverages &amp; ready to eat, meal solutions)</td>\n",
              "    </tr>\n",
              "  </tbody>\n",
              "</table>\n",
              "</div>"
            ],
            "text/plain": [
              "   support                                     itemsets\n",
              "0    0.515                   (beverages & ready to eat)\n",
              "1    0.295                                    (chilled)\n",
              "2    0.085                            (health & beauty)\n",
              "3    0.055                                    (tobacco)\n",
              "4    0.045                                   (cleaning)\n",
              "5    0.220                             (meal solutions)\n",
              "6    0.090          (beverages & ready to eat, chilled)\n",
              "7    0.020  (beverages & ready to eat, health & beauty)\n",
              "8    0.045                    (meal solutions, chilled)\n",
              "9    0.060   (beverages & ready to eat, meal solutions)"
            ]
          },
          "metadata": {
            "tags": []
          },
          "execution_count": 383
        },
        {
          "output_type": "execute_result",
          "data": {
            "text/html": [
              "<div>\n",
              "<style scoped>\n",
              "    .dataframe tbody tr th:only-of-type {\n",
              "        vertical-align: middle;\n",
              "    }\n",
              "\n",
              "    .dataframe tbody tr th {\n",
              "        vertical-align: top;\n",
              "    }\n",
              "\n",
              "    .dataframe thead th {\n",
              "        text-align: right;\n",
              "    }\n",
              "</style>\n",
              "<table border=\"1\" class=\"dataframe\">\n",
              "  <thead>\n",
              "    <tr style=\"text-align: right;\">\n",
              "      <th></th>\n",
              "      <th>support</th>\n",
              "      <th>itemsets</th>\n",
              "    </tr>\n",
              "  </thead>\n",
              "  <tbody>\n",
              "    <tr>\n",
              "      <th>0</th>\n",
              "      <td>0.515</td>\n",
              "      <td>(beverages &amp; ready to eat)</td>\n",
              "    </tr>\n",
              "    <tr>\n",
              "      <th>1</th>\n",
              "      <td>0.295</td>\n",
              "      <td>(chilled)</td>\n",
              "    </tr>\n",
              "    <tr>\n",
              "      <th>2</th>\n",
              "      <td>0.085</td>\n",
              "      <td>(health &amp; beauty)</td>\n",
              "    </tr>\n",
              "    <tr>\n",
              "      <th>3</th>\n",
              "      <td>0.055</td>\n",
              "      <td>(tobacco)</td>\n",
              "    </tr>\n",
              "    <tr>\n",
              "      <th>4</th>\n",
              "      <td>0.045</td>\n",
              "      <td>(cleaning)</td>\n",
              "    </tr>\n",
              "    <tr>\n",
              "      <th>5</th>\n",
              "      <td>0.220</td>\n",
              "      <td>(meal solutions)</td>\n",
              "    </tr>\n",
              "    <tr>\n",
              "      <th>6</th>\n",
              "      <td>0.090</td>\n",
              "      <td>(beverages &amp; ready to eat, chilled)</td>\n",
              "    </tr>\n",
              "    <tr>\n",
              "      <th>7</th>\n",
              "      <td>0.045</td>\n",
              "      <td>(meal solutions, chilled)</td>\n",
              "    </tr>\n",
              "    <tr>\n",
              "      <th>8</th>\n",
              "      <td>0.060</td>\n",
              "      <td>(beverages &amp; ready to eat, meal solutions)</td>\n",
              "    </tr>\n",
              "  </tbody>\n",
              "</table>\n",
              "</div>"
            ],
            "text/plain": [
              "   support                                    itemsets\n",
              "0    0.515                  (beverages & ready to eat)\n",
              "1    0.295                                   (chilled)\n",
              "2    0.085                           (health & beauty)\n",
              "3    0.055                                   (tobacco)\n",
              "4    0.045                                  (cleaning)\n",
              "5    0.220                            (meal solutions)\n",
              "6    0.090         (beverages & ready to eat, chilled)\n",
              "7    0.045                   (meal solutions, chilled)\n",
              "8    0.060  (beverages & ready to eat, meal solutions)"
            ]
          },
          "metadata": {
            "tags": []
          },
          "execution_count": 383
        },
        {
          "output_type": "execute_result",
          "data": {
            "text/html": [
              "<div>\n",
              "<style scoped>\n",
              "    .dataframe tbody tr th:only-of-type {\n",
              "        vertical-align: middle;\n",
              "    }\n",
              "\n",
              "    .dataframe tbody tr th {\n",
              "        vertical-align: top;\n",
              "    }\n",
              "\n",
              "    .dataframe thead th {\n",
              "        text-align: right;\n",
              "    }\n",
              "</style>\n",
              "<table border=\"1\" class=\"dataframe\">\n",
              "  <thead>\n",
              "    <tr style=\"text-align: right;\">\n",
              "      <th></th>\n",
              "      <th>support</th>\n",
              "      <th>itemsets</th>\n",
              "    </tr>\n",
              "  </thead>\n",
              "  <tbody>\n",
              "    <tr>\n",
              "      <th>0</th>\n",
              "      <td>0.515</td>\n",
              "      <td>(beverages &amp; ready to eat)</td>\n",
              "    </tr>\n",
              "    <tr>\n",
              "      <th>1</th>\n",
              "      <td>0.295</td>\n",
              "      <td>(chilled)</td>\n",
              "    </tr>\n",
              "    <tr>\n",
              "      <th>2</th>\n",
              "      <td>0.085</td>\n",
              "      <td>(health &amp; beauty)</td>\n",
              "    </tr>\n",
              "    <tr>\n",
              "      <th>3</th>\n",
              "      <td>0.055</td>\n",
              "      <td>(tobacco)</td>\n",
              "    </tr>\n",
              "    <tr>\n",
              "      <th>4</th>\n",
              "      <td>0.045</td>\n",
              "      <td>(cleaning)</td>\n",
              "    </tr>\n",
              "    <tr>\n",
              "      <th>5</th>\n",
              "      <td>0.220</td>\n",
              "      <td>(meal solutions)</td>\n",
              "    </tr>\n",
              "    <tr>\n",
              "      <th>6</th>\n",
              "      <td>0.090</td>\n",
              "      <td>(beverages &amp; ready to eat, chilled)</td>\n",
              "    </tr>\n",
              "    <tr>\n",
              "      <th>7</th>\n",
              "      <td>0.045</td>\n",
              "      <td>(meal solutions, chilled)</td>\n",
              "    </tr>\n",
              "    <tr>\n",
              "      <th>8</th>\n",
              "      <td>0.060</td>\n",
              "      <td>(beverages &amp; ready to eat, meal solutions)</td>\n",
              "    </tr>\n",
              "  </tbody>\n",
              "</table>\n",
              "</div>"
            ],
            "text/plain": [
              "   support                                    itemsets\n",
              "0    0.515                  (beverages & ready to eat)\n",
              "1    0.295                                   (chilled)\n",
              "2    0.085                           (health & beauty)\n",
              "3    0.055                                   (tobacco)\n",
              "4    0.045                                  (cleaning)\n",
              "5    0.220                            (meal solutions)\n",
              "6    0.090         (beverages & ready to eat, chilled)\n",
              "7    0.045                   (meal solutions, chilled)\n",
              "8    0.060  (beverages & ready to eat, meal solutions)"
            ]
          },
          "metadata": {
            "tags": []
          },
          "execution_count": 383
        },
        {
          "output_type": "execute_result",
          "data": {
            "text/html": [
              "<div>\n",
              "<style scoped>\n",
              "    .dataframe tbody tr th:only-of-type {\n",
              "        vertical-align: middle;\n",
              "    }\n",
              "\n",
              "    .dataframe tbody tr th {\n",
              "        vertical-align: top;\n",
              "    }\n",
              "\n",
              "    .dataframe thead th {\n",
              "        text-align: right;\n",
              "    }\n",
              "</style>\n",
              "<table border=\"1\" class=\"dataframe\">\n",
              "  <thead>\n",
              "    <tr style=\"text-align: right;\">\n",
              "      <th></th>\n",
              "      <th>support</th>\n",
              "      <th>itemsets</th>\n",
              "    </tr>\n",
              "  </thead>\n",
              "  <tbody>\n",
              "    <tr>\n",
              "      <th>0</th>\n",
              "      <td>0.515</td>\n",
              "      <td>(beverages &amp; ready to eat)</td>\n",
              "    </tr>\n",
              "    <tr>\n",
              "      <th>1</th>\n",
              "      <td>0.295</td>\n",
              "      <td>(chilled)</td>\n",
              "    </tr>\n",
              "    <tr>\n",
              "      <th>2</th>\n",
              "      <td>0.085</td>\n",
              "      <td>(health &amp; beauty)</td>\n",
              "    </tr>\n",
              "    <tr>\n",
              "      <th>3</th>\n",
              "      <td>0.055</td>\n",
              "      <td>(tobacco)</td>\n",
              "    </tr>\n",
              "    <tr>\n",
              "      <th>4</th>\n",
              "      <td>0.220</td>\n",
              "      <td>(meal solutions)</td>\n",
              "    </tr>\n",
              "    <tr>\n",
              "      <th>5</th>\n",
              "      <td>0.090</td>\n",
              "      <td>(beverages &amp; ready to eat, chilled)</td>\n",
              "    </tr>\n",
              "    <tr>\n",
              "      <th>6</th>\n",
              "      <td>0.060</td>\n",
              "      <td>(beverages &amp; ready to eat, meal solutions)</td>\n",
              "    </tr>\n",
              "  </tbody>\n",
              "</table>\n",
              "</div>"
            ],
            "text/plain": [
              "   support                                    itemsets\n",
              "0    0.515                  (beverages & ready to eat)\n",
              "1    0.295                                   (chilled)\n",
              "2    0.085                           (health & beauty)\n",
              "3    0.055                                   (tobacco)\n",
              "4    0.220                            (meal solutions)\n",
              "5    0.090         (beverages & ready to eat, chilled)\n",
              "6    0.060  (beverages & ready to eat, meal solutions)"
            ]
          },
          "metadata": {
            "tags": []
          },
          "execution_count": 383
        }
      ]
    },
    {
      "cell_type": "code",
      "metadata": {
        "colab": {
          "base_uri": "https://localhost:8080/",
          "height": 298
        },
        "id": "krKHsKza77eQ",
        "outputId": "9b4d5d1c-84ba-4ca2-e787-b8244fce889d"
      },
      "source": [
        "sns.lineplot(x=l,y=f,label=\"fpgrowth\")\n",
        "sns.lineplot(x=l,y=t,label=\"apriori\")\n",
        "plt.xlabel(\"Min_support Threshold\")\n",
        "plt.ylabel(\"Run Time in ms\")"
      ],
      "execution_count": 384,
      "outputs": [
        {
          "output_type": "execute_result",
          "data": {
            "text/plain": [
              "<matplotlib.axes._subplots.AxesSubplot at 0x7fea24c06790>"
            ]
          },
          "metadata": {
            "tags": []
          },
          "execution_count": 384
        },
        {
          "output_type": "execute_result",
          "data": {
            "text/plain": [
              "<matplotlib.axes._subplots.AxesSubplot at 0x7fea24c06790>"
            ]
          },
          "metadata": {
            "tags": []
          },
          "execution_count": 384
        },
        {
          "output_type": "execute_result",
          "data": {
            "text/plain": [
              "Text(0.5, 0, 'Min_support Threshold')"
            ]
          },
          "metadata": {
            "tags": []
          },
          "execution_count": 384
        },
        {
          "output_type": "execute_result",
          "data": {
            "text/plain": [
              "Text(0, 0.5, 'Run Time in ms')"
            ]
          },
          "metadata": {
            "tags": []
          },
          "execution_count": 384
        },
        {
          "output_type": "display_data",
          "data": {
            "image/png": "[encoded data removed]",
            "text/plain": [
              "<Figure size 432x288 with 1 Axes>"
            ]
          },
          "metadata": {
            "tags": []
          }
        }
      ]
    },
    {
      "cell_type": "markdown",
      "metadata": {
        "id": "aO_O815M8K2Z"
      },
      "source": [
        "We can gain the required insights from the above graph about the run time comparision between the apriori and fpgrowth."
      ]
    },
    {
      "cell_type": "code",
      "metadata": {
        "id": "iFxNeLAh8DjP"
      },
      "source": [
        ""
      ],
      "execution_count": 384,
      "outputs": []
    }
  ]
}