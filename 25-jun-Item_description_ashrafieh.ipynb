{
  "nbformat": 4,
  "nbformat_minor": 0,
  "metadata": {
    "colab": {
      "name": "Item_description_ashrafieh.ipynb",
      "provenance": [],
      "authorship_tag": "ABX9TyMXBHqk6YoH9BwTbmBNuN/t",
      "include_colab_link": true
    },
    "kernelspec": {
      "name": "python3",
      "display_name": "Python 3"
    },
    "language_info": {
      "name": "python"
    }
  },
  "cells": [
    {
      "cell_type": "markdown",
      "metadata": {
        "id": "view-in-github",
        "colab_type": "text"
      },
      "source": [
        "<a href=\"https://colab.research.google.com/github/jessika2018/Market-Basket-Analysis/blob/main/25-jun-Item_description_ashrafieh.ipynb\" target=\"_parent\"><img src=\"https://colab.research.google.com/assets/colab-badge.svg\" alt=\"Open In Colab\"/></a>"
      ]
    },
    {
      "cell_type": "code",
      "metadata": {
        "colab": {
          "base_uri": "https://localhost:8080/"
        },
        "id": "qVO_o8kpvrW1",
        "outputId": "e4c77322-2a74-4e5c-dcf6-5c1e15b2753a"
      },
      "source": [
        "pip install mlxtend --upgrade"
      ],
      "execution_count": 1,
      "outputs": [
        {
          "output_type": "stream",
          "text": [
            "Collecting mlxtend\n",
            "\u001b[?25l  Downloading https://files.pythonhosted.org/packages/86/30/781c0b962a70848db83339567ecab656638c62f05adb064cb33c0ae49244/mlxtend-0.18.0-py2.py3-none-any.whl (1.3MB)\n",
            "\u001b[K     |████████████████████████████████| 1.4MB 5.3MB/s \n",
            "\u001b[?25hRequirement already satisfied, skipping upgrade: joblib>=0.13.2 in /usr/local/lib/python3.7/dist-packages (from mlxtend) (1.0.1)\n",
            "Requirement already satisfied, skipping upgrade: scikit-learn>=0.20.3 in /usr/local/lib/python3.7/dist-packages (from mlxtend) (0.22.2.post1)\n",
            "Requirement already satisfied, skipping upgrade: scipy>=1.2.1 in /usr/local/lib/python3.7/dist-packages (from mlxtend) (1.4.1)\n",
            "Requirement already satisfied, skipping upgrade: matplotlib>=3.0.0 in /usr/local/lib/python3.7/dist-packages (from mlxtend) (3.2.2)\n",
            "Requirement already satisfied, skipping upgrade: setuptools in /usr/local/lib/python3.7/dist-packages (from mlxtend) (57.0.0)\n",
            "Requirement already satisfied, skipping upgrade: numpy>=1.16.2 in /usr/local/lib/python3.7/dist-packages (from mlxtend) (1.19.5)\n",
            "Requirement already satisfied, skipping upgrade: pandas>=0.24.2 in /usr/local/lib/python3.7/dist-packages (from mlxtend) (1.1.5)\n",
            "Requirement already satisfied, skipping upgrade: pyparsing!=2.0.4,!=2.1.2,!=2.1.6,>=2.0.1 in /usr/local/lib/python3.7/dist-packages (from matplotlib>=3.0.0->mlxtend) (2.4.7)\n",
            "Requirement already satisfied, skipping upgrade: kiwisolver>=1.0.1 in /usr/local/lib/python3.7/dist-packages (from matplotlib>=3.0.0->mlxtend) (1.3.1)\n",
            "Requirement already satisfied, skipping upgrade: cycler>=0.10 in /usr/local/lib/python3.7/dist-packages (from matplotlib>=3.0.0->mlxtend) (0.10.0)\n",
            "Requirement already satisfied, skipping upgrade: python-dateutil>=2.1 in /usr/local/lib/python3.7/dist-packages (from matplotlib>=3.0.0->mlxtend) (2.8.1)\n",
            "Requirement already satisfied, skipping upgrade: pytz>=2017.2 in /usr/local/lib/python3.7/dist-packages (from pandas>=0.24.2->mlxtend) (2018.9)\n",
            "Requirement already satisfied, skipping upgrade: six in /usr/local/lib/python3.7/dist-packages (from cycler>=0.10->matplotlib>=3.0.0->mlxtend) (1.15.0)\n",
            "Installing collected packages: mlxtend\n",
            "  Found existing installation: mlxtend 0.14.0\n",
            "    Uninstalling mlxtend-0.14.0:\n",
            "      Successfully uninstalled mlxtend-0.14.0\n",
            "Successfully installed mlxtend-0.18.0\n"
          ],
          "name": "stdout"
        }
      ]
    },
    {
      "cell_type": "code",
      "metadata": {
        "colab": {
          "base_uri": "https://localhost:8080/"
        },
        "id": "AFY_3BgWvpTN",
        "outputId": "cd0d3b2c-19a5-4870-e869-a1b44c203e24"
      },
      "source": [
        "import mlxtend\n",
        "print(mlxtend.__version__)"
      ],
      "execution_count": 2,
      "outputs": [
        {
          "output_type": "stream",
          "text": [
            "0.18.0\n"
          ],
          "name": "stdout"
        }
      ]
    },
    {
      "cell_type": "code",
      "metadata": {
        "id": "S5hoH-JfZnUX",
        "outputId": "4c1775e4-f830-4ff3-ab6b-72fefacf0e28",
        "colab": {
          "base_uri": "https://localhost:8080/"
        }
      },
      "source": [
        "!pip install Orange3"
      ],
      "execution_count": 125,
      "outputs": [
        {
          "output_type": "stream",
          "text": [
            "Collecting Orange3\n",
            "\u001b[?25l  Downloading https://files.pythonhosted.org/packages/d3/7f/623dbe0512454f4243a61e65dfb7c45c3c6d6b6d888b8b818c2fd485d454/Orange3-3.29.3-cp37-cp37m-manylinux_2_5_x86_64.manylinux1_x86_64.whl (25.3MB)\n",
            "\u001b[K     |████████████████████████████████| 25.3MB 118kB/s \n",
            "\u001b[?25hRequirement already satisfied: xlrd>=0.9.2 in /usr/local/lib/python3.7/dist-packages (from Orange3) (1.1.0)\n",
            "Collecting keyring\n",
            "  Downloading https://files.pythonhosted.org/packages/26/f9/41230ac47f738f1ba66676dc8d3b30ca5b1f9eb0230fc204bcd9836c4ae9/keyring-23.0.1-py3-none-any.whl\n",
            "Requirement already satisfied: scikit-learn!=0.23.0,>=0.22.0 in /usr/local/lib/python3.7/dist-packages (from Orange3) (0.22.2.post1)\n",
            "Requirement already satisfied: chardet>=3.0.2 in /usr/local/lib/python3.7/dist-packages (from Orange3) (3.0.4)\n",
            "Requirement already satisfied: pyyaml in /usr/local/lib/python3.7/dist-packages (from Orange3) (3.13)\n",
            "Collecting serverfiles\n",
            "  Downloading https://files.pythonhosted.org/packages/33/36/794fe1c4ed29b0f56a26d72e956baf0285d8fe9e29faf36797a28a8ad45b/serverfiles-0.3.1.tar.gz\n",
            "Collecting orange-canvas-core<0.2a,>=0.1.21\n",
            "\u001b[?25l  Downloading https://files.pythonhosted.org/packages/d3/4e/7b1193e2c23a6051f68be5ea7bd7d7a11a7b6ccb179ebf011f03f01597e5/orange_canvas_core-0.1.21-py3-none-any.whl (485kB)\n",
            "\u001b[K     |████████████████████████████████| 491kB 44.1MB/s \n",
            "\u001b[?25hRequirement already satisfied: numpy>=1.16.0 in /usr/local/lib/python3.7/dist-packages (from Orange3) (1.19.5)\n",
            "Requirement already satisfied: matplotlib>=2.0.0 in /usr/local/lib/python3.7/dist-packages (from Orange3) (3.2.2)\n",
            "Requirement already satisfied: openpyxl in /usr/local/lib/python3.7/dist-packages (from Orange3) (2.5.9)\n",
            "Requirement already satisfied: joblib>=0.9.4 in /usr/local/lib/python3.7/dist-packages (from Orange3) (1.0.1)\n",
            "Requirement already satisfied: setuptools>=36.3 in /usr/local/lib/python3.7/dist-packages (from Orange3) (57.0.0)\n",
            "Collecting openTSNE>=0.6.0\n",
            "\u001b[?25l  Downloading https://files.pythonhosted.org/packages/de/af/9b59afb6f642eb8d4beaa8b38249526b88796a58329d2a3a4d14cba3e37b/openTSNE-0.6.0-cp37-cp37m-manylinux2010_x86_64.whl (2.3MB)\n",
            "\u001b[K     |████████████████████████████████| 2.3MB 16.9MB/s \n",
            "\u001b[?25hCollecting PyQt5!=5.15.1,>=5.12\n",
            "\u001b[?25l  Downloading https://files.pythonhosted.org/packages/ed/62/cd9f10702c75b242f82da858668fba0cda04cda92133244d3d1555e530b4/PyQt5-5.15.4-cp36.cp37.cp38.cp39-abi3-manylinux2014_x86_64.whl (8.3MB)\n",
            "\u001b[K     |████████████████████████████████| 8.3MB 18.7MB/s \n",
            "\u001b[?25hCollecting xlsxwriter\n",
            "\u001b[?25l  Downloading https://files.pythonhosted.org/packages/2c/ce/74fd8d638a5b82ea0c6f08a5978f741c2655a38c3d6e82f73a0f084377e6/XlsxWriter-1.4.3-py2.py3-none-any.whl (149kB)\n",
            "\u001b[K     |████████████████████████████████| 153kB 41.3MB/s \n",
            "\u001b[?25hCollecting orange-widget-base>=4.13.0\n",
            "\u001b[?25l  Downloading https://files.pythonhosted.org/packages/e4/47/32737542defd2288215cbf1e7471652d354b164af702b61fb0467d597e65/orange_widget_base-4.13.1-py3-none-any.whl (251kB)\n",
            "\u001b[K     |████████████████████████████████| 256kB 40.8MB/s \n",
            "\u001b[?25hRequirement already satisfied: scipy>=0.16.1 in /usr/local/lib/python3.7/dist-packages (from Orange3) (1.4.1)\n",
            "Collecting baycomp>=1.0.2\n",
            "  Downloading https://files.pythonhosted.org/packages/05/69/3029fe9fe13e4ec14d9d6be695ee197e4cd75221c7f77eb95ac5604035b4/baycomp-1.0.2-py3-none-any.whl\n",
            "Requirement already satisfied: requests in /usr/local/lib/python3.7/dist-packages (from Orange3) (2.23.0)\n",
            "Collecting pyqtgraph>=0.11.1\n",
            "\u001b[?25l  Downloading https://files.pythonhosted.org/packages/6d/7a/6d07b9ea6ca1876fd7de15ebc34be407255f0d28bcd007b0cab816ede8e3/pyqtgraph-0.12.1-py3-none-any.whl (939kB)\n",
            "\u001b[K     |████████████████████████████████| 942kB 31.0MB/s \n",
            "\u001b[?25hRequirement already satisfied: pandas>=1.0.0 in /usr/local/lib/python3.7/dist-packages (from Orange3) (1.1.5)\n",
            "Collecting AnyQt>=0.0.11\n",
            "\u001b[?25l  Downloading https://files.pythonhosted.org/packages/ac/10/f359df98fa8effea1f9265ddadca202291b4fb76a7eb3625a461a7f265fe/AnyQt-0.0.13-py3-none-any.whl (47kB)\n",
            "\u001b[K     |████████████████████████████████| 51kB 6.4MB/s \n",
            "\u001b[?25hCollecting PyQtWebEngine>=5.12\n",
            "\u001b[?25l  Downloading https://files.pythonhosted.org/packages/8a/4a/570f9544d872c27d4c71f72c81af6890337a952a1b2923828c8f9dd56244/PyQtWebEngine-5.15.4-cp36.cp37.cp38.cp39-abi3-manylinux2014_x86_64.whl (229kB)\n",
            "\u001b[K     |████████████████████████████████| 235kB 38.5MB/s \n",
            "\u001b[?25hCollecting keyrings.alt\n",
            "  Downloading https://files.pythonhosted.org/packages/55/bd/36afd53fe86dc28c2f7280d4e1f5e1e58dc26c0272609af069818f575698/keyrings.alt-4.0.2-py3-none-any.whl\n",
            "Requirement already satisfied: python-louvain>=0.13 in /usr/local/lib/python3.7/dist-packages (from Orange3) (0.15)\n",
            "Collecting httpx<0.17,>=0.14.0\n",
            "\u001b[?25l  Downloading https://files.pythonhosted.org/packages/2d/c6/59aa4188e7eddb9e89ec67a51598ca6bfc09f1b38c9b45f7ee45af7a4df4/httpx-0.16.1-py3-none-any.whl (65kB)\n",
            "\u001b[K     |████████████████████████████████| 71kB 8.1MB/s \n",
            "\u001b[?25hRequirement already satisfied: networkx in /usr/local/lib/python3.7/dist-packages (from Orange3) (2.5.1)\n",
            "Requirement already satisfied: bottleneck>=1.0.0 in /usr/local/lib/python3.7/dist-packages (from Orange3) (1.3.2)\n",
            "Requirement already satisfied: pip>=9.0 in /usr/local/lib/python3.7/dist-packages (from Orange3) (19.3.1)\n",
            "Collecting jeepney>=0.4.2; sys_platform == \"linux\"\n",
            "\u001b[?25l  Downloading https://files.pythonhosted.org/packages/51/b0/a6ea72741aaac3f37fb96d195e4ee576a103c4c04e279bc6b446a70960e1/jeepney-0.6.0-py3-none-any.whl (45kB)\n",
            "\u001b[K     |████████████████████████████████| 51kB 6.5MB/s \n",
            "\u001b[?25hRequirement already satisfied: importlib-metadata>=3.6 in /usr/local/lib/python3.7/dist-packages (from keyring->Orange3) (4.5.0)\n",
            "Collecting SecretStorage>=3.2; sys_platform == \"linux\"\n",
            "  Downloading https://files.pythonhosted.org/packages/d9/1e/29cd69fdac7391aa51510dfd42aa70b4e6a826c8cd019ee2a8ab9ec0777f/SecretStorage-3.3.1-py3-none-any.whl\n",
            "Requirement already satisfied: docutils in /usr/local/lib/python3.7/dist-packages (from orange-canvas-core<0.2a,>=0.1.21->Orange3) (0.17.1)\n",
            "Collecting dictdiffer\n",
            "  Downloading https://files.pythonhosted.org/packages/97/92/350b6b6ec39c5f87d98d04c91a50c498518716a05368e6dea88b5c69b590/dictdiffer-0.8.1-py2.py3-none-any.whl\n",
            "Collecting qasync\n",
            "  Downloading https://files.pythonhosted.org/packages/55/45/9c602378bfb9f4850334cfa93fac550d989f6b004eb874ca0777ccbb3433/qasync-0.16.0-py3-none-any.whl\n",
            "Requirement already satisfied: cachecontrol[filecache] in /usr/local/lib/python3.7/dist-packages (from orange-canvas-core<0.2a,>=0.1.21->Orange3) (0.12.6)\n",
            "Collecting commonmark>=0.8.1\n",
            "\u001b[?25l  Downloading https://files.pythonhosted.org/packages/b1/92/dfd892312d822f36c55366118b95d914e5f16de11044a27cf10a7d71bbbf/commonmark-0.9.1-py2.py3-none-any.whl (51kB)\n",
            "\u001b[K     |████████████████████████████████| 51kB 6.5MB/s \n",
            "\u001b[?25hRequirement already satisfied: pyparsing!=2.0.4,!=2.1.2,!=2.1.6,>=2.0.1 in /usr/local/lib/python3.7/dist-packages (from matplotlib>=2.0.0->Orange3) (2.4.7)\n",
            "Requirement already satisfied: python-dateutil>=2.1 in /usr/local/lib/python3.7/dist-packages (from matplotlib>=2.0.0->Orange3) (2.8.1)\n",
            "Requirement already satisfied: kiwisolver>=1.0.1 in /usr/local/lib/python3.7/dist-packages (from matplotlib>=2.0.0->Orange3) (1.3.1)\n",
            "Requirement already satisfied: cycler>=0.10 in /usr/local/lib/python3.7/dist-packages (from matplotlib>=2.0.0->Orange3) (0.10.0)\n",
            "Requirement already satisfied: et-xmlfile in /usr/local/lib/python3.7/dist-packages (from openpyxl->Orange3) (1.1.0)\n",
            "Requirement already satisfied: jdcal in /usr/local/lib/python3.7/dist-packages (from openpyxl->Orange3) (1.4.1)\n",
            "Collecting PyQt5-sip<13,>=12.8\n",
            "\u001b[?25l  Downloading https://files.pythonhosted.org/packages/e5/07/129815a9eac86f67c9b8198d26b4077fe80e261c197a19a245bc81ca3bf6/PyQt5_sip-12.9.0-cp37-cp37m-manylinux1_x86_64.whl (317kB)\n",
            "\u001b[K     |████████████████████████████████| 317kB 39.7MB/s \n",
            "\u001b[?25hCollecting PyQt5-Qt5>=5.15\n",
            "\u001b[?25l  Downloading https://files.pythonhosted.org/packages/83/d4/241a6a518d0bcf0a9fcdcbad5edfed18d43e884317eab8d5230a2b27e206/PyQt5_Qt5-5.15.2-py3-none-manylinux2014_x86_64.whl (59.9MB)\n",
            "\u001b[K     |████████████████████████████████| 59.9MB 46kB/s \n",
            "\u001b[?25hRequirement already satisfied: typing-extensions>=3.7.4.3 in /usr/local/lib/python3.7/dist-packages (from orange-widget-base>=4.13.0->Orange3) (3.7.4.3)\n",
            "Requirement already satisfied: urllib3!=1.25.0,!=1.25.1,<1.26,>=1.21.1 in /usr/local/lib/python3.7/dist-packages (from requests->Orange3) (1.24.3)\n",
            "Requirement already satisfied: idna<3,>=2.5 in /usr/local/lib/python3.7/dist-packages (from requests->Orange3) (2.10)\n",
            "Requirement already satisfied: certifi>=2017.4.17 in /usr/local/lib/python3.7/dist-packages (from requests->Orange3) (2021.5.30)\n",
            "Requirement already satisfied: pytz>=2017.2 in /usr/local/lib/python3.7/dist-packages (from pandas>=1.0.0->Orange3) (2018.9)\n",
            "Collecting PyQtWebEngine-Qt5>=5.15\n",
            "\u001b[?25l  Downloading https://files.pythonhosted.org/packages/48/62/117c9c96837287b181fce6da481065ddda68b3a8c0fa5f00ea62cc08b877/PyQtWebEngine_Qt5-5.15.2-py3-none-manylinux2014_x86_64.whl (67.5MB)\n",
            "\u001b[K     |████████████████████████████████| 67.5MB 41kB/s \n",
            "\u001b[?25hCollecting sniffio\n",
            "  Downloading https://files.pythonhosted.org/packages/52/b0/7b2e028b63d092804b6794595871f936aafa5e9322dcaaad50ebf67445b3/sniffio-1.2.0-py3-none-any.whl\n",
            "Collecting rfc3986[idna2008]<2,>=1.3\n",
            "  Downloading https://files.pythonhosted.org/packages/c4/e5/63ca2c4edf4e00657584608bee1001302bbf8c5f569340b78304f2f446cb/rfc3986-1.5.0-py2.py3-none-any.whl\n",
            "Collecting httpcore==0.12.*\n",
            "\u001b[?25l  Downloading https://files.pythonhosted.org/packages/50/ce/544244e2145075896d38f7db3e822c24d1be9f7966ed3d83f158e388d195/httpcore-0.12.3-py3-none-any.whl (55kB)\n",
            "\u001b[K     |████████████████████████████████| 61kB 8.2MB/s \n",
            "\u001b[?25hRequirement already satisfied: decorator<5,>=4.3 in /usr/local/lib/python3.7/dist-packages (from networkx->Orange3) (4.4.2)\n",
            "Requirement already satisfied: zipp>=0.5 in /usr/local/lib/python3.7/dist-packages (from importlib-metadata>=3.6->keyring->Orange3) (3.4.1)\n",
            "Collecting cryptography>=2.0\n",
            "\u001b[?25l  Downloading https://files.pythonhosted.org/packages/b2/26/7af637e6a7e87258b963f1731c5982fb31cd507f0d90d91836e446955d02/cryptography-3.4.7-cp36-abi3-manylinux2014_x86_64.whl (3.2MB)\n",
            "\u001b[K     |████████████████████████████████| 3.2MB 21.2MB/s \n",
            "\u001b[?25hRequirement already satisfied: msgpack>=0.5.2 in /usr/local/lib/python3.7/dist-packages (from cachecontrol[filecache]->orange-canvas-core<0.2a,>=0.1.21->Orange3) (1.0.2)\n",
            "Collecting lockfile>=0.9; extra == \"filecache\"\n",
            "  Downloading https://files.pythonhosted.org/packages/c8/22/9460e311f340cb62d26a38c419b1381b8593b0bb6b5d1f056938b086d362/lockfile-0.12.2-py2.py3-none-any.whl\n",
            "Requirement already satisfied: six>=1.5 in /usr/local/lib/python3.7/dist-packages (from python-dateutil>=2.1->matplotlib>=2.0.0->Orange3) (1.15.0)\n",
            "Collecting h11==0.*\n",
            "\u001b[?25l  Downloading https://files.pythonhosted.org/packages/60/0f/7a0eeea938eaf61074f29fed9717f2010e8d0e0905d36b38d3275a1e4622/h11-0.12.0-py3-none-any.whl (54kB)\n",
            "\u001b[K     |████████████████████████████████| 61kB 7.7MB/s \n",
            "\u001b[?25hRequirement already satisfied: cffi>=1.12 in /usr/local/lib/python3.7/dist-packages (from cryptography>=2.0->SecretStorage>=3.2; sys_platform == \"linux\"->keyring->Orange3) (1.14.5)\n",
            "Requirement already satisfied: pycparser in /usr/local/lib/python3.7/dist-packages (from cffi>=1.12->cryptography>=2.0->SecretStorage>=3.2; sys_platform == \"linux\"->keyring->Orange3) (2.20)\n",
            "Building wheels for collected packages: serverfiles\n",
            "  Building wheel for serverfiles (setup.py) ... \u001b[?25l\u001b[?25hdone\n",
            "  Created wheel for serverfiles: filename=serverfiles-0.3.1-cp37-none-any.whl size=6950 sha256=a8533c72c214c778d3c8e98d9789857d9353dc34facd63e546ae73b6443e1408\n",
            "  Stored in directory: /root/.cache/pip/wheels/44/6b/34/390c2a031578679a5b674f27cea82073d569a6ee1d595a0c7c\n",
            "Successfully built serverfiles\n",
            "Installing collected packages: jeepney, cryptography, SecretStorage, keyring, serverfiles, dictdiffer, AnyQt, qasync, commonmark, orange-canvas-core, openTSNE, PyQt5-sip, PyQt5-Qt5, PyQt5, xlsxwriter, pyqtgraph, orange-widget-base, baycomp, PyQtWebEngine-Qt5, PyQtWebEngine, keyrings.alt, sniffio, rfc3986, h11, httpcore, httpx, Orange3, lockfile\n",
            "Successfully installed AnyQt-0.0.13 Orange3-3.29.3 PyQt5-5.15.4 PyQt5-Qt5-5.15.2 PyQt5-sip-12.9.0 PyQtWebEngine-5.15.4 PyQtWebEngine-Qt5-5.15.2 SecretStorage-3.3.1 baycomp-1.0.2 commonmark-0.9.1 cryptography-3.4.7 dictdiffer-0.8.1 h11-0.12.0 httpcore-0.12.3 httpx-0.16.1 jeepney-0.6.0 keyring-23.0.1 keyrings.alt-4.0.2 lockfile-0.12.2 openTSNE-0.6.0 orange-canvas-core-0.1.21 orange-widget-base-4.13.1 pyqtgraph-0.12.1 qasync-0.16.0 rfc3986-1.5.0 serverfiles-0.3.1 sniffio-1.2.0 xlsxwriter-1.4.3\n"
          ],
          "name": "stdout"
        }
      ]
    },
    {
      "cell_type": "code",
      "metadata": {
        "id": "mtfvrIaPaJwc",
        "outputId": "727505c1-4d8d-4084-ab64-4a33b1d97fd9",
        "colab": {
          "base_uri": "https://localhost:8080/"
        }
      },
      "source": [
        "!pip3 install Orange3-Associate"
      ],
      "execution_count": 128,
      "outputs": [
        {
          "output_type": "stream",
          "text": [
            "Collecting Orange3-Associate\n",
            "\u001b[?25l  Downloading https://files.pythonhosted.org/packages/cb/19/87c9070306e7b41eab280c58e5dd12804ec1e5820b51268a1d9dad37c378/Orange3_Associate-1.1.8-cp37-cp37m-manylinux2010_x86_64.whl (262kB)\n",
            "\r\u001b[K     |█▎                              | 10kB 12.1MB/s eta 0:00:01\r\u001b[K     |██▌                             | 20kB 17.9MB/s eta 0:00:01\r\u001b[K     |███▊                            | 30kB 10.2MB/s eta 0:00:01\r\u001b[K     |█████                           | 40kB 8.2MB/s eta 0:00:01\r\u001b[K     |██████▎                         | 51kB 5.3MB/s eta 0:00:01\r\u001b[K     |███████▌                        | 61kB 5.5MB/s eta 0:00:01\r\u001b[K     |████████▊                       | 71kB 5.6MB/s eta 0:00:01\r\u001b[K     |██████████                      | 81kB 6.2MB/s eta 0:00:01\r\u001b[K     |███████████▎                    | 92kB 6.3MB/s eta 0:00:01\r\u001b[K     |████████████▌                   | 102kB 5.1MB/s eta 0:00:01\r\u001b[K     |█████████████▊                  | 112kB 5.1MB/s eta 0:00:01\r\u001b[K     |███████████████                 | 122kB 5.1MB/s eta 0:00:01\r\u001b[K     |████████████████▎               | 133kB 5.1MB/s eta 0:00:01\r\u001b[K     |█████████████████▌              | 143kB 5.1MB/s eta 0:00:01\r\u001b[K     |██████████████████▊             | 153kB 5.1MB/s eta 0:00:01\r\u001b[K     |████████████████████            | 163kB 5.1MB/s eta 0:00:01\r\u001b[K     |█████████████████████▎          | 174kB 5.1MB/s eta 0:00:01\r\u001b[K     |██████████████████████▌         | 184kB 5.1MB/s eta 0:00:01\r\u001b[K     |███████████████████████▊        | 194kB 5.1MB/s eta 0:00:01\r\u001b[K     |█████████████████████████       | 204kB 5.1MB/s eta 0:00:01\r\u001b[K     |██████████████████████████▎     | 215kB 5.1MB/s eta 0:00:01\r\u001b[K     |███████████████████████████▌    | 225kB 5.1MB/s eta 0:00:01\r\u001b[K     |████████████████████████████▊   | 235kB 5.1MB/s eta 0:00:01\r\u001b[K     |██████████████████████████████  | 245kB 5.1MB/s eta 0:00:01\r\u001b[K     |███████████████████████████████▎| 256kB 5.1MB/s eta 0:00:01\r\u001b[K     |████████████████████████████████| 266kB 5.1MB/s \n",
            "\u001b[?25hRequirement already satisfied: numpy in /usr/local/lib/python3.7/dist-packages (from Orange3-Associate) (1.19.5)\n",
            "Requirement already satisfied: scipy in /usr/local/lib/python3.7/dist-packages (from Orange3-Associate) (1.4.1)\n",
            "Requirement already satisfied: Orange3>=3.25.0 in /usr/local/lib/python3.7/dist-packages (from Orange3-Associate) (3.29.3)\n",
            "Requirement already satisfied: PyQtWebEngine>=5.12 in /usr/local/lib/python3.7/dist-packages (from Orange3>=3.25.0->Orange3-Associate) (5.15.4)\n",
            "Requirement already satisfied: keyring in /usr/local/lib/python3.7/dist-packages (from Orange3>=3.25.0->Orange3-Associate) (23.0.1)\n",
            "Requirement already satisfied: xlrd>=0.9.2 in /usr/local/lib/python3.7/dist-packages (from Orange3>=3.25.0->Orange3-Associate) (1.1.0)\n",
            "Requirement already satisfied: baycomp>=1.0.2 in /usr/local/lib/python3.7/dist-packages (from Orange3>=3.25.0->Orange3-Associate) (1.0.2)\n",
            "Requirement already satisfied: pip>=9.0 in /usr/local/lib/python3.7/dist-packages (from Orange3>=3.25.0->Orange3-Associate) (19.3.1)\n",
            "Requirement already satisfied: pyqtgraph>=0.11.1 in /usr/local/lib/python3.7/dist-packages (from Orange3>=3.25.0->Orange3-Associate) (0.12.1)\n",
            "Requirement already satisfied: chardet>=3.0.2 in /usr/local/lib/python3.7/dist-packages (from Orange3>=3.25.0->Orange3-Associate) (3.0.4)\n",
            "Requirement already satisfied: httpx<0.17,>=0.14.0 in /usr/local/lib/python3.7/dist-packages (from Orange3>=3.25.0->Orange3-Associate) (0.16.1)\n",
            "Requirement already satisfied: networkx in /usr/local/lib/python3.7/dist-packages (from Orange3>=3.25.0->Orange3-Associate) (2.5.1)\n",
            "Requirement already satisfied: orange-canvas-core<0.2a,>=0.1.21 in /usr/local/lib/python3.7/dist-packages (from Orange3>=3.25.0->Orange3-Associate) (0.1.21)\n",
            "Requirement already satisfied: orange-widget-base>=4.13.0 in /usr/local/lib/python3.7/dist-packages (from Orange3>=3.25.0->Orange3-Associate) (4.13.1)\n",
            "Requirement already satisfied: python-louvain>=0.13 in /usr/local/lib/python3.7/dist-packages (from Orange3>=3.25.0->Orange3-Associate) (0.15)\n",
            "Requirement already satisfied: AnyQt>=0.0.11 in /usr/local/lib/python3.7/dist-packages (from Orange3>=3.25.0->Orange3-Associate) (0.0.13)\n",
            "Requirement already satisfied: joblib>=0.9.4 in /usr/local/lib/python3.7/dist-packages (from Orange3>=3.25.0->Orange3-Associate) (1.0.1)\n",
            "Requirement already satisfied: openTSNE>=0.6.0 in /usr/local/lib/python3.7/dist-packages (from Orange3>=3.25.0->Orange3-Associate) (0.6.0)\n",
            "Requirement already satisfied: PyQt5!=5.15.1,>=5.12 in /usr/local/lib/python3.7/dist-packages (from Orange3>=3.25.0->Orange3-Associate) (5.15.4)\n",
            "Requirement already satisfied: xlsxwriter in /usr/local/lib/python3.7/dist-packages (from Orange3>=3.25.0->Orange3-Associate) (1.4.3)\n",
            "Requirement already satisfied: scikit-learn!=0.23.0,>=0.22.0 in /usr/local/lib/python3.7/dist-packages (from Orange3>=3.25.0->Orange3-Associate) (0.22.2.post1)\n",
            "Requirement already satisfied: serverfiles in /usr/local/lib/python3.7/dist-packages (from Orange3>=3.25.0->Orange3-Associate) (0.3.1)\n",
            "Requirement already satisfied: pandas>=1.0.0 in /usr/local/lib/python3.7/dist-packages (from Orange3>=3.25.0->Orange3-Associate) (1.1.5)\n",
            "Requirement already satisfied: setuptools>=36.3 in /usr/local/lib/python3.7/dist-packages (from Orange3>=3.25.0->Orange3-Associate) (57.0.0)\n",
            "Requirement already satisfied: pyyaml in /usr/local/lib/python3.7/dist-packages (from Orange3>=3.25.0->Orange3-Associate) (3.13)\n",
            "Requirement already satisfied: matplotlib>=2.0.0 in /usr/local/lib/python3.7/dist-packages (from Orange3>=3.25.0->Orange3-Associate) (3.2.2)\n",
            "Requirement already satisfied: openpyxl in /usr/local/lib/python3.7/dist-packages (from Orange3>=3.25.0->Orange3-Associate) (2.5.9)\n",
            "Requirement already satisfied: bottleneck>=1.0.0 in /usr/local/lib/python3.7/dist-packages (from Orange3>=3.25.0->Orange3-Associate) (1.3.2)\n",
            "Requirement already satisfied: requests in /usr/local/lib/python3.7/dist-packages (from Orange3>=3.25.0->Orange3-Associate) (2.23.0)\n",
            "Requirement already satisfied: keyrings.alt in /usr/local/lib/python3.7/dist-packages (from Orange3>=3.25.0->Orange3-Associate) (4.0.2)\n",
            "Requirement already satisfied: PyQt5-sip<13,>=12.8 in /usr/local/lib/python3.7/dist-packages (from PyQtWebEngine>=5.12->Orange3>=3.25.0->Orange3-Associate) (12.9.0)\n",
            "Requirement already satisfied: PyQtWebEngine-Qt5>=5.15 in /usr/local/lib/python3.7/dist-packages (from PyQtWebEngine>=5.12->Orange3>=3.25.0->Orange3-Associate) (5.15.2)\n",
            "Requirement already satisfied: importlib-metadata>=3.6 in /usr/local/lib/python3.7/dist-packages (from keyring->Orange3>=3.25.0->Orange3-Associate) (4.5.0)\n",
            "Requirement already satisfied: jeepney>=0.4.2; sys_platform == \"linux\" in /usr/local/lib/python3.7/dist-packages (from keyring->Orange3>=3.25.0->Orange3-Associate) (0.6.0)\n",
            "Requirement already satisfied: SecretStorage>=3.2; sys_platform == \"linux\" in /usr/local/lib/python3.7/dist-packages (from keyring->Orange3>=3.25.0->Orange3-Associate) (3.3.1)\n",
            "Requirement already satisfied: rfc3986[idna2008]<2,>=1.3 in /usr/local/lib/python3.7/dist-packages (from httpx<0.17,>=0.14.0->Orange3>=3.25.0->Orange3-Associate) (1.5.0)\n",
            "Requirement already satisfied: certifi in /usr/local/lib/python3.7/dist-packages (from httpx<0.17,>=0.14.0->Orange3>=3.25.0->Orange3-Associate) (2021.5.30)\n",
            "Requirement already satisfied: sniffio in /usr/local/lib/python3.7/dist-packages (from httpx<0.17,>=0.14.0->Orange3>=3.25.0->Orange3-Associate) (1.2.0)\n",
            "Requirement already satisfied: httpcore==0.12.* in /usr/local/lib/python3.7/dist-packages (from httpx<0.17,>=0.14.0->Orange3>=3.25.0->Orange3-Associate) (0.12.3)\n",
            "Requirement already satisfied: decorator<5,>=4.3 in /usr/local/lib/python3.7/dist-packages (from networkx->Orange3>=3.25.0->Orange3-Associate) (4.4.2)\n",
            "Requirement already satisfied: commonmark>=0.8.1 in /usr/local/lib/python3.7/dist-packages (from orange-canvas-core<0.2a,>=0.1.21->Orange3>=3.25.0->Orange3-Associate) (0.9.1)\n",
            "Requirement already satisfied: dictdiffer in /usr/local/lib/python3.7/dist-packages (from orange-canvas-core<0.2a,>=0.1.21->Orange3>=3.25.0->Orange3-Associate) (0.8.1)\n",
            "Requirement already satisfied: cachecontrol[filecache] in /usr/local/lib/python3.7/dist-packages (from orange-canvas-core<0.2a,>=0.1.21->Orange3>=3.25.0->Orange3-Associate) (0.12.6)\n",
            "Requirement already satisfied: qasync in /usr/local/lib/python3.7/dist-packages (from orange-canvas-core<0.2a,>=0.1.21->Orange3>=3.25.0->Orange3-Associate) (0.16.0)\n",
            "Requirement already satisfied: docutils in /usr/local/lib/python3.7/dist-packages (from orange-canvas-core<0.2a,>=0.1.21->Orange3>=3.25.0->Orange3-Associate) (0.17.1)\n",
            "Requirement already satisfied: typing-extensions>=3.7.4.3 in /usr/local/lib/python3.7/dist-packages (from orange-widget-base>=4.13.0->Orange3>=3.25.0->Orange3-Associate) (3.7.4.3)\n",
            "Requirement already satisfied: PyQt5-Qt5>=5.15 in /usr/local/lib/python3.7/dist-packages (from PyQt5!=5.15.1,>=5.12->Orange3>=3.25.0->Orange3-Associate) (5.15.2)\n",
            "Requirement already satisfied: python-dateutil>=2.7.3 in /usr/local/lib/python3.7/dist-packages (from pandas>=1.0.0->Orange3>=3.25.0->Orange3-Associate) (2.8.1)\n",
            "Requirement already satisfied: pytz>=2017.2 in /usr/local/lib/python3.7/dist-packages (from pandas>=1.0.0->Orange3>=3.25.0->Orange3-Associate) (2018.9)\n",
            "Requirement already satisfied: kiwisolver>=1.0.1 in /usr/local/lib/python3.7/dist-packages (from matplotlib>=2.0.0->Orange3>=3.25.0->Orange3-Associate) (1.3.1)\n",
            "Requirement already satisfied: cycler>=0.10 in /usr/local/lib/python3.7/dist-packages (from matplotlib>=2.0.0->Orange3>=3.25.0->Orange3-Associate) (0.10.0)\n",
            "Requirement already satisfied: pyparsing!=2.0.4,!=2.1.2,!=2.1.6,>=2.0.1 in /usr/local/lib/python3.7/dist-packages (from matplotlib>=2.0.0->Orange3>=3.25.0->Orange3-Associate) (2.4.7)\n",
            "Requirement already satisfied: jdcal in /usr/local/lib/python3.7/dist-packages (from openpyxl->Orange3>=3.25.0->Orange3-Associate) (1.4.1)\n",
            "Requirement already satisfied: et-xmlfile in /usr/local/lib/python3.7/dist-packages (from openpyxl->Orange3>=3.25.0->Orange3-Associate) (1.1.0)\n",
            "Requirement already satisfied: urllib3!=1.25.0,!=1.25.1,<1.26,>=1.21.1 in /usr/local/lib/python3.7/dist-packages (from requests->Orange3>=3.25.0->Orange3-Associate) (1.24.3)\n",
            "Requirement already satisfied: idna<3,>=2.5 in /usr/local/lib/python3.7/dist-packages (from requests->Orange3>=3.25.0->Orange3-Associate) (2.10)\n",
            "Requirement already satisfied: zipp>=0.5 in /usr/local/lib/python3.7/dist-packages (from importlib-metadata>=3.6->keyring->Orange3>=3.25.0->Orange3-Associate) (3.4.1)\n",
            "Requirement already satisfied: cryptography>=2.0 in /usr/local/lib/python3.7/dist-packages (from SecretStorage>=3.2; sys_platform == \"linux\"->keyring->Orange3>=3.25.0->Orange3-Associate) (3.4.7)\n",
            "Requirement already satisfied: h11==0.* in /usr/local/lib/python3.7/dist-packages (from httpcore==0.12.*->httpx<0.17,>=0.14.0->Orange3>=3.25.0->Orange3-Associate) (0.12.0)\n",
            "Requirement already satisfied: msgpack>=0.5.2 in /usr/local/lib/python3.7/dist-packages (from cachecontrol[filecache]->orange-canvas-core<0.2a,>=0.1.21->Orange3>=3.25.0->Orange3-Associate) (1.0.2)\n",
            "Requirement already satisfied: lockfile>=0.9; extra == \"filecache\" in /usr/local/lib/python3.7/dist-packages (from cachecontrol[filecache]->orange-canvas-core<0.2a,>=0.1.21->Orange3>=3.25.0->Orange3-Associate) (0.12.2)\n",
            "Requirement already satisfied: six>=1.5 in /usr/local/lib/python3.7/dist-packages (from python-dateutil>=2.7.3->pandas>=1.0.0->Orange3>=3.25.0->Orange3-Associate) (1.15.0)\n",
            "Requirement already satisfied: cffi>=1.12 in /usr/local/lib/python3.7/dist-packages (from cryptography>=2.0->SecretStorage>=3.2; sys_platform == \"linux\"->keyring->Orange3>=3.25.0->Orange3-Associate) (1.14.5)\n",
            "Requirement already satisfied: pycparser in /usr/local/lib/python3.7/dist-packages (from cffi>=1.12->cryptography>=2.0->SecretStorage>=3.2; sys_platform == \"linux\"->keyring->Orange3>=3.25.0->Orange3-Associate) (2.20)\n",
            "Installing collected packages: Orange3-Associate\n",
            "Successfully installed Orange3-Associate-1.1.8\n"
          ],
          "name": "stdout"
        }
      ]
    },
    {
      "cell_type": "code",
      "metadata": {
        "id": "yfUxT3ssvxzZ"
      },
      "source": [
        "# pip install squarify"
      ],
      "execution_count": 3,
      "outputs": []
    },
    {
      "cell_type": "code",
      "metadata": {
        "id": "JYV5BaC7vfOR"
      },
      "source": [
        "#Data manipulation libraries\n",
        "import pandas as pd\n",
        "import numpy as np\n",
        "#for market basket analysis (using apriori)\n",
        "from mlxtend.frequent_patterns import apriori\n",
        "from mlxtend.frequent_patterns import association_rules\n",
        "from mlxtend.frequent_patterns import fpgrowth\n",
        "\n",
        "#for preprocessing\n",
        "from mlxtend.preprocessing import TransactionEncoder\n",
        "\n",
        "#visualisation \n",
        "\n",
        "import matplotlib.pyplot as plt\n",
        "import Orange\n",
        "from Orange.data import Domain, DiscreteVariable, ContinuousVariable\n",
        "from orangecontrib.associate.fpgrowth import *\n",
        "\n",
        "%matplotlib inline\n",
        "#to print all the interactive output without resorting to print, not only the last result.\n",
        "from IPython.core.interactiveshell import InteractiveShell\n",
        "InteractiveShell.ast_node_interactivity = \"all\""
      ],
      "execution_count": 129,
      "outputs": []
    },
    {
      "cell_type": "code",
      "metadata": {
        "id": "aFvEZ8KUvivR"
      },
      "source": [
        "df = pd.read_excel(\"/content/Saida_Category.xlsx\")\n",
        "# df"
      ],
      "execution_count": 74,
      "outputs": []
    },
    {
      "cell_type": "code",
      "metadata": {
        "id": "bSSdM32CBXFP",
        "outputId": "49b3c15e-b6e6-44c8-8073-25868759eada",
        "colab": {
          "base_uri": "https://localhost:8080/",
          "height": 206
        }
      },
      "source": [
        "df.head()\n",
        "# test_df=pd.DataFrame(data=df, columns=['Item_Description'])\n"
      ],
      "execution_count": 75,
      "outputs": [
        {
          "output_type": "execute_result",
          "data": {
            "text/html": [
              "<div>\n",
              "<style scoped>\n",
              "    .dataframe tbody tr th:only-of-type {\n",
              "        vertical-align: middle;\n",
              "    }\n",
              "\n",
              "    .dataframe tbody tr th {\n",
              "        vertical-align: top;\n",
              "    }\n",
              "\n",
              "    .dataframe thead th {\n",
              "        text-align: right;\n",
              "    }\n",
              "</style>\n",
              "<table border=\"1\" class=\"dataframe\">\n",
              "  <thead>\n",
              "    <tr style=\"text-align: right;\">\n",
              "      <th></th>\n",
              "      <th>Category</th>\n",
              "    </tr>\n",
              "  </thead>\n",
              "  <tbody>\n",
              "    <tr>\n",
              "      <th>0</th>\n",
              "      <td>beverages &amp; ready to eat;alcohol</td>\n",
              "    </tr>\n",
              "    <tr>\n",
              "      <th>1</th>\n",
              "      <td>frozen</td>\n",
              "    </tr>\n",
              "    <tr>\n",
              "      <th>2</th>\n",
              "      <td>beverages &amp; ready to eat;beverages &amp; ready to eat</td>\n",
              "    </tr>\n",
              "    <tr>\n",
              "      <th>3</th>\n",
              "      <td>health &amp; beauty;frozen</td>\n",
              "    </tr>\n",
              "    <tr>\n",
              "      <th>4</th>\n",
              "      <td>chilled</td>\n",
              "    </tr>\n",
              "  </tbody>\n",
              "</table>\n",
              "</div>"
            ],
            "text/plain": [
              "                                            Category\n",
              "0                   beverages & ready to eat;alcohol\n",
              "1                                             frozen\n",
              "2  beverages & ready to eat;beverages & ready to eat\n",
              "3                             health & beauty;frozen\n",
              "4                                            chilled"
            ]
          },
          "metadata": {
            "tags": []
          },
          "execution_count": 75
        }
      ]
    },
    {
      "cell_type": "code",
      "metadata": {
        "id": "pr0MB6IODfHF"
      },
      "source": [
        "# intermediate_df = df['Item_Description'].str.split(';', expand=True).stack().str.strip().reset_index(level=1,drop=True)"
      ],
      "execution_count": 76,
      "outputs": []
    },
    {
      "cell_type": "code",
      "metadata": {
        "id": "lzaK1i1vEJl1"
      },
      "source": [
        "# intermediate_df"
      ],
      "execution_count": 77,
      "outputs": []
    },
    {
      "cell_type": "code",
      "metadata": {
        "id": "OQLkSEVAyKMi"
      },
      "source": [
        "# df\n",
        "subset_df = df.sample(frac=.5)"
      ],
      "execution_count": 78,
      "outputs": []
    },
    {
      "cell_type": "code",
      "metadata": {
        "id": "CMZhjKimyNgt"
      },
      "source": [
        "# subset_df"
      ],
      "execution_count": 79,
      "outputs": []
    },
    {
      "cell_type": "code",
      "metadata": {
        "id": "VYpEluYAxdQl"
      },
      "source": [
        "# df2 = subset_df.groupby(by=['Group','Receipt_Number']).agg(text=(\"Item_Description\", lambda x: \";\".join(set(x))))\n",
        "# df2\n",
        "# df2 = subset_df.groupby(by=['Receipt Number']).agg(text=(\"Item Description\", lambda x: \";\".join(set(x))))\n",
        "# df2\n",
        "# df2=subset_df.groupby(\"Group\").agg({\"Item_Description\": np.sum, \"Receipt_Number\": lambda x: x.nunique()})\n",
        "# df2"
      ],
      "execution_count": 80,
      "outputs": []
    },
    {
      "cell_type": "code",
      "metadata": {
        "id": "7fpkTJBo0dsm",
        "outputId": "0f699af7-b826-4e51-94e7-94bd53998e92",
        "colab": {
          "base_uri": "https://localhost:8080/",
          "height": 424
        }
      },
      "source": [
        "# df2\n",
        "subset_df\n",
        "# new_df = df2.iloc[:,0]"
      ],
      "execution_count": 88,
      "outputs": [
        {
          "output_type": "execute_result",
          "data": {
            "text/html": [
              "<div>\n",
              "<style scoped>\n",
              "    .dataframe tbody tr th:only-of-type {\n",
              "        vertical-align: middle;\n",
              "    }\n",
              "\n",
              "    .dataframe tbody tr th {\n",
              "        vertical-align: top;\n",
              "    }\n",
              "\n",
              "    .dataframe thead th {\n",
              "        text-align: right;\n",
              "    }\n",
              "</style>\n",
              "<table border=\"1\" class=\"dataframe\">\n",
              "  <thead>\n",
              "    <tr style=\"text-align: right;\">\n",
              "      <th></th>\n",
              "      <th>Category</th>\n",
              "    </tr>\n",
              "  </thead>\n",
              "  <tbody>\n",
              "    <tr>\n",
              "      <th>235</th>\n",
              "      <td>meal solutions;chilled</td>\n",
              "    </tr>\n",
              "    <tr>\n",
              "      <th>495</th>\n",
              "      <td>beverages &amp; ready to eat;beverages &amp; ready to ...</td>\n",
              "    </tr>\n",
              "    <tr>\n",
              "      <th>925</th>\n",
              "      <td>meal solutions;meal solutions;meal solutions;m...</td>\n",
              "    </tr>\n",
              "    <tr>\n",
              "      <th>125</th>\n",
              "      <td>beverages &amp; ready to eat;beverages &amp; ready to ...</td>\n",
              "    </tr>\n",
              "    <tr>\n",
              "      <th>659</th>\n",
              "      <td>beverages &amp; ready to eat</td>\n",
              "    </tr>\n",
              "    <tr>\n",
              "      <th>...</th>\n",
              "      <td>...</td>\n",
              "    </tr>\n",
              "    <tr>\n",
              "      <th>982</th>\n",
              "      <td>beverages &amp; ready to eat;beverages &amp; ready to ...</td>\n",
              "    </tr>\n",
              "    <tr>\n",
              "      <th>811</th>\n",
              "      <td>beverages &amp; ready to eat;beverages &amp; ready to ...</td>\n",
              "    </tr>\n",
              "    <tr>\n",
              "      <th>186</th>\n",
              "      <td>frozen;frozen;frozen;frozen</td>\n",
              "    </tr>\n",
              "    <tr>\n",
              "      <th>714</th>\n",
              "      <td>cleaning;cleaning;frozen;frozen</td>\n",
              "    </tr>\n",
              "    <tr>\n",
              "      <th>51</th>\n",
              "      <td>beverages &amp; ready to eat</td>\n",
              "    </tr>\n",
              "  </tbody>\n",
              "</table>\n",
              "<p>500 rows × 1 columns</p>\n",
              "</div>"
            ],
            "text/plain": [
              "                                              Category\n",
              "235                             meal solutions;chilled\n",
              "495  beverages & ready to eat;beverages & ready to ...\n",
              "925  meal solutions;meal solutions;meal solutions;m...\n",
              "125  beverages & ready to eat;beverages & ready to ...\n",
              "659                           beverages & ready to eat\n",
              "..                                                 ...\n",
              "982  beverages & ready to eat;beverages & ready to ...\n",
              "811  beverages & ready to eat;beverages & ready to ...\n",
              "186                        frozen;frozen;frozen;frozen\n",
              "714                    cleaning;cleaning;frozen;frozen\n",
              "51                            beverages & ready to eat\n",
              "\n",
              "[500 rows x 1 columns]"
            ]
          },
          "metadata": {
            "tags": []
          },
          "execution_count": 88
        }
      ]
    },
    {
      "cell_type": "code",
      "metadata": {
        "id": "XdXJB7M82CCe"
      },
      "source": [
        "# new_df"
      ],
      "execution_count": 82,
      "outputs": []
    },
    {
      "cell_type": "code",
      "metadata": {
        "id": "xic_HvqG3Iri"
      },
      "source": [
        "# df2.Item_Description.nunique()"
      ],
      "execution_count": 83,
      "outputs": []
    },
    {
      "cell_type": "code",
      "metadata": {
        "id": "KEn4mXzX7o3v"
      },
      "source": [
        "# df2.text.nunique()"
      ],
      "execution_count": 84,
      "outputs": []
    },
    {
      "cell_type": "code",
      "metadata": {
        "id": "ma3IbFnh9HWc"
      },
      "source": [
        "# df[\"Group\"] = df[\"Group\"].str.lower()"
      ],
      "execution_count": 85,
      "outputs": []
    },
    {
      "cell_type": "code",
      "metadata": {
        "id": "8hiT-sTN9-Vj"
      },
      "source": [
        "# df2[\"text\"] = df2[\"text\"].str.lower()"
      ],
      "execution_count": 69,
      "outputs": []
    },
    {
      "cell_type": "code",
      "metadata": {
        "colab": {
          "base_uri": "https://localhost:8080/"
        },
        "id": "DnRVNaOH-Bzg",
        "outputId": "3dfafd35-61ed-4519-a7c7-c3cb0629522b"
      },
      "source": [
        "subset_df[\"Category\"]"
      ],
      "execution_count": 89,
      "outputs": [
        {
          "output_type": "execute_result",
          "data": {
            "text/plain": [
              "235                               meal solutions;chilled\n",
              "495    beverages & ready to eat;beverages & ready to ...\n",
              "925    meal solutions;meal solutions;meal solutions;m...\n",
              "125    beverages & ready to eat;beverages & ready to ...\n",
              "659                             beverages & ready to eat\n",
              "                             ...                        \n",
              "982    beverages & ready to eat;beverages & ready to ...\n",
              "811    beverages & ready to eat;beverages & ready to ...\n",
              "186                          frozen;frozen;frozen;frozen\n",
              "714                      cleaning;cleaning;frozen;frozen\n",
              "51                              beverages & ready to eat\n",
              "Name: Category, Length: 500, dtype: object"
            ]
          },
          "metadata": {
            "tags": []
          },
          "execution_count": 89
        }
      ]
    },
    {
      "cell_type": "code",
      "metadata": {
        "id": "ZzfpuU6T-M1h"
      },
      "source": [
        "data = list(subset_df[\"Category\"].apply(lambda x:x.split(';')))\n",
        "# data \n"
      ],
      "execution_count": 98,
      "outputs": []
    },
    {
      "cell_type": "code",
      "metadata": {
        "colab": {
          "base_uri": "https://localhost:8080/",
          "height": 424
        },
        "id": "VfUiJ0yu-2Nb",
        "outputId": "a2d95a12-c650-4044-c6c1-e9b1c4d87397"
      },
      "source": [
        "te = TransactionEncoder()\n",
        "te_data = te.fit(data).transform(data)\n",
        "df = pd.DataFrame(te_data,columns=te.columns_)\n",
        "df"
      ],
      "execution_count": 99,
      "outputs": [
        {
          "output_type": "execute_result",
          "data": {
            "text/html": [
              "<div>\n",
              "<style scoped>\n",
              "    .dataframe tbody tr th:only-of-type {\n",
              "        vertical-align: middle;\n",
              "    }\n",
              "\n",
              "    .dataframe tbody tr th {\n",
              "        vertical-align: top;\n",
              "    }\n",
              "\n",
              "    .dataframe thead th {\n",
              "        text-align: right;\n",
              "    }\n",
              "</style>\n",
              "<table border=\"1\" class=\"dataframe\">\n",
              "  <thead>\n",
              "    <tr style=\"text-align: right;\">\n",
              "      <th></th>\n",
              "      <th>alcohol</th>\n",
              "      <th>baby</th>\n",
              "      <th>beverages &amp; ready to eat</th>\n",
              "      <th>chilled</th>\n",
              "      <th>cleaning</th>\n",
              "      <th>frozen</th>\n",
              "      <th>health &amp; ...</th>\n",
              "      <th>health &amp; beauty</th>\n",
              "      <th>meal solutions</th>\n",
              "      <th>pet</th>\n",
              "      <th>tobacco</th>\n",
              "    </tr>\n",
              "  </thead>\n",
              "  <tbody>\n",
              "    <tr>\n",
              "      <th>0</th>\n",
              "      <td>False</td>\n",
              "      <td>False</td>\n",
              "      <td>False</td>\n",
              "      <td>True</td>\n",
              "      <td>False</td>\n",
              "      <td>False</td>\n",
              "      <td>False</td>\n",
              "      <td>False</td>\n",
              "      <td>True</td>\n",
              "      <td>False</td>\n",
              "      <td>False</td>\n",
              "    </tr>\n",
              "    <tr>\n",
              "      <th>1</th>\n",
              "      <td>True</td>\n",
              "      <td>False</td>\n",
              "      <td>True</td>\n",
              "      <td>False</td>\n",
              "      <td>False</td>\n",
              "      <td>False</td>\n",
              "      <td>False</td>\n",
              "      <td>False</td>\n",
              "      <td>False</td>\n",
              "      <td>False</td>\n",
              "      <td>False</td>\n",
              "    </tr>\n",
              "    <tr>\n",
              "      <th>2</th>\n",
              "      <td>False</td>\n",
              "      <td>False</td>\n",
              "      <td>False</td>\n",
              "      <td>False</td>\n",
              "      <td>True</td>\n",
              "      <td>True</td>\n",
              "      <td>False</td>\n",
              "      <td>False</td>\n",
              "      <td>True</td>\n",
              "      <td>False</td>\n",
              "      <td>False</td>\n",
              "    </tr>\n",
              "    <tr>\n",
              "      <th>3</th>\n",
              "      <td>False</td>\n",
              "      <td>False</td>\n",
              "      <td>True</td>\n",
              "      <td>False</td>\n",
              "      <td>False</td>\n",
              "      <td>False</td>\n",
              "      <td>False</td>\n",
              "      <td>False</td>\n",
              "      <td>False</td>\n",
              "      <td>False</td>\n",
              "      <td>False</td>\n",
              "    </tr>\n",
              "    <tr>\n",
              "      <th>4</th>\n",
              "      <td>False</td>\n",
              "      <td>False</td>\n",
              "      <td>True</td>\n",
              "      <td>False</td>\n",
              "      <td>False</td>\n",
              "      <td>False</td>\n",
              "      <td>False</td>\n",
              "      <td>False</td>\n",
              "      <td>False</td>\n",
              "      <td>False</td>\n",
              "      <td>False</td>\n",
              "    </tr>\n",
              "    <tr>\n",
              "      <th>...</th>\n",
              "      <td>...</td>\n",
              "      <td>...</td>\n",
              "      <td>...</td>\n",
              "      <td>...</td>\n",
              "      <td>...</td>\n",
              "      <td>...</td>\n",
              "      <td>...</td>\n",
              "      <td>...</td>\n",
              "      <td>...</td>\n",
              "      <td>...</td>\n",
              "      <td>...</td>\n",
              "    </tr>\n",
              "    <tr>\n",
              "      <th>495</th>\n",
              "      <td>False</td>\n",
              "      <td>False</td>\n",
              "      <td>True</td>\n",
              "      <td>False</td>\n",
              "      <td>False</td>\n",
              "      <td>False</td>\n",
              "      <td>False</td>\n",
              "      <td>False</td>\n",
              "      <td>False</td>\n",
              "      <td>False</td>\n",
              "      <td>True</td>\n",
              "    </tr>\n",
              "    <tr>\n",
              "      <th>496</th>\n",
              "      <td>False</td>\n",
              "      <td>False</td>\n",
              "      <td>True</td>\n",
              "      <td>False</td>\n",
              "      <td>False</td>\n",
              "      <td>False</td>\n",
              "      <td>False</td>\n",
              "      <td>False</td>\n",
              "      <td>False</td>\n",
              "      <td>False</td>\n",
              "      <td>False</td>\n",
              "    </tr>\n",
              "    <tr>\n",
              "      <th>497</th>\n",
              "      <td>False</td>\n",
              "      <td>False</td>\n",
              "      <td>False</td>\n",
              "      <td>False</td>\n",
              "      <td>False</td>\n",
              "      <td>True</td>\n",
              "      <td>False</td>\n",
              "      <td>False</td>\n",
              "      <td>False</td>\n",
              "      <td>False</td>\n",
              "      <td>False</td>\n",
              "    </tr>\n",
              "    <tr>\n",
              "      <th>498</th>\n",
              "      <td>False</td>\n",
              "      <td>False</td>\n",
              "      <td>False</td>\n",
              "      <td>False</td>\n",
              "      <td>True</td>\n",
              "      <td>True</td>\n",
              "      <td>False</td>\n",
              "      <td>False</td>\n",
              "      <td>False</td>\n",
              "      <td>False</td>\n",
              "      <td>False</td>\n",
              "    </tr>\n",
              "    <tr>\n",
              "      <th>499</th>\n",
              "      <td>False</td>\n",
              "      <td>False</td>\n",
              "      <td>True</td>\n",
              "      <td>False</td>\n",
              "      <td>False</td>\n",
              "      <td>False</td>\n",
              "      <td>False</td>\n",
              "      <td>False</td>\n",
              "      <td>False</td>\n",
              "      <td>False</td>\n",
              "      <td>False</td>\n",
              "    </tr>\n",
              "  </tbody>\n",
              "</table>\n",
              "<p>500 rows × 11 columns</p>\n",
              "</div>"
            ],
            "text/plain": [
              "     alcohol   baby  beverages & ready to eat  ...  meal solutions    pet  tobacco\n",
              "0      False  False                     False  ...            True  False    False\n",
              "1       True  False                      True  ...           False  False    False\n",
              "2      False  False                     False  ...            True  False    False\n",
              "3      False  False                      True  ...           False  False    False\n",
              "4      False  False                      True  ...           False  False    False\n",
              "..       ...    ...                       ...  ...             ...    ...      ...\n",
              "495    False  False                      True  ...           False  False     True\n",
              "496    False  False                      True  ...           False  False    False\n",
              "497    False  False                     False  ...           False  False    False\n",
              "498    False  False                     False  ...           False  False    False\n",
              "499    False  False                      True  ...           False  False    False\n",
              "\n",
              "[500 rows x 11 columns]"
            ]
          },
          "metadata": {
            "tags": []
          },
          "execution_count": 99
        }
      ]
    },
    {
      "cell_type": "markdown",
      "metadata": {
        "id": "0pQsXac1Y52f"
      },
      "source": [
        "# View top sold items "
      ]
    },
    {
      "cell_type": "code",
      "metadata": {
        "id": "mbGW7ybtY5Pp",
        "outputId": "3889057f-81dd-47bc-fe48-4a7f43e9d95f",
        "colab": {
          "base_uri": "https://localhost:8080/",
          "height": 224
        }
      },
      "source": [
        "total_item_count = sum(df.sum())\n",
        "print(total_item_count)\n",
        "\n",
        "item_summary_df = df.sum().sort_values(ascending = False).reset_index().head(n=20)\n",
        "item_summary_df.rename(columns={item_summary_df.columns[0]:'item_name',item_summary_df.columns[1]:'item_count'}, inplace=True)\n",
        "item_summary_df.head()"
      ],
      "execution_count": 121,
      "outputs": [
        {
          "output_type": "stream",
          "text": [
            "1014\n"
          ],
          "name": "stdout"
        },
        {
          "output_type": "execute_result",
          "data": {
            "text/html": [
              "<div>\n",
              "<style scoped>\n",
              "    .dataframe tbody tr th:only-of-type {\n",
              "        vertical-align: middle;\n",
              "    }\n",
              "\n",
              "    .dataframe tbody tr th {\n",
              "        vertical-align: top;\n",
              "    }\n",
              "\n",
              "    .dataframe thead th {\n",
              "        text-align: right;\n",
              "    }\n",
              "</style>\n",
              "<table border=\"1\" class=\"dataframe\">\n",
              "  <thead>\n",
              "    <tr style=\"text-align: right;\">\n",
              "      <th></th>\n",
              "      <th>item_name</th>\n",
              "      <th>item_count</th>\n",
              "    </tr>\n",
              "  </thead>\n",
              "  <tbody>\n",
              "    <tr>\n",
              "      <th>0</th>\n",
              "      <td>beverages &amp; ready to eat</td>\n",
              "      <td>345</td>\n",
              "    </tr>\n",
              "    <tr>\n",
              "      <th>1</th>\n",
              "      <td>meal solutions</td>\n",
              "      <td>159</td>\n",
              "    </tr>\n",
              "    <tr>\n",
              "      <th>2</th>\n",
              "      <td>chilled</td>\n",
              "      <td>148</td>\n",
              "    </tr>\n",
              "    <tr>\n",
              "      <th>3</th>\n",
              "      <td>health &amp; beauty</td>\n",
              "      <td>87</td>\n",
              "    </tr>\n",
              "    <tr>\n",
              "      <th>4</th>\n",
              "      <td>alcohol</td>\n",
              "      <td>74</td>\n",
              "    </tr>\n",
              "  </tbody>\n",
              "</table>\n",
              "</div>"
            ],
            "text/plain": [
              "                  item_name  item_count\n",
              "0  beverages & ready to eat         345\n",
              "1            meal solutions         159\n",
              "2                   chilled         148\n",
              "3           health & beauty          87\n",
              "4                   alcohol          74"
            ]
          },
          "metadata": {
            "tags": []
          },
          "execution_count": 121
        }
      ]
    },
    {
      "cell_type": "markdown",
      "metadata": {
        "id": "wrXV4JfeZSGd"
      },
      "source": [
        "# Visualize top sold items|"
      ]
    },
    {
      "cell_type": "code",
      "metadata": {
        "id": "jVxD-2waZReJ",
        "outputId": "1f2b252f-83fa-491f-f542-5554e4373b84",
        "colab": {
          "base_uri": "https://localhost:8080/",
          "height": 780
        }
      },
      "source": [
        "objects = (list(item_summary_df['item_name'].head(n=20)))\n",
        "y_pos = np.arange(len(objects))\n",
        "performance = list(item_summary_df['item_count'].head(n=20))\n",
        " \n",
        "plt.bar(y_pos, performance, align='center', alpha=0.5)\n",
        "plt.xticks(y_pos, objects, rotation='vertical')\n",
        "plt.ylabel('Item count')\n",
        "plt.title('Item sales distribution')\n"
      ],
      "execution_count": 130,
      "outputs": [
        {
          "output_type": "execute_result",
          "data": {
            "text/plain": [
              "<BarContainer object of 11 artists>"
            ]
          },
          "metadata": {
            "tags": []
          },
          "execution_count": 130
        },
        {
          "output_type": "execute_result",
          "data": {
            "text/plain": [
              "([<matplotlib.axis.XTick at 0x7f3a6896e910>,\n",
              "  <matplotlib.axis.XTick at 0x7f3a6896e590>,\n",
              "  <matplotlib.axis.XTick at 0x7f3a6896ea10>,\n",
              "  <matplotlib.axis.XTick at 0x7f3a7380bbd0>,\n",
              "  <matplotlib.axis.XTick at 0x7f3a7380b350>,\n",
              "  <matplotlib.axis.XTick at 0x7f3a737dc510>,\n",
              "  <matplotlib.axis.XTick at 0x7f3a737dc690>,\n",
              "  <matplotlib.axis.XTick at 0x7f3a73845d10>,\n",
              "  <matplotlib.axis.XTick at 0x7f3a73845790>,\n",
              "  <matplotlib.axis.XTick at 0x7f3a73764bd0>,\n",
              "  <matplotlib.axis.XTick at 0x7f3a73764890>],\n",
              " [Text(0, 0, 'beverages & ready to eat'),\n",
              "  Text(0, 0, 'meal solutions'),\n",
              "  Text(0, 0, 'chilled'),\n",
              "  Text(0, 0, 'health & beauty'),\n",
              "  Text(0, 0, 'alcohol'),\n",
              "  Text(0, 0, 'frozen'),\n",
              "  Text(0, 0, 'cleaning'),\n",
              "  Text(0, 0, 'tobacco'),\n",
              "  Text(0, 0, 'baby'),\n",
              "  Text(0, 0, 'pet'),\n",
              "  Text(0, 0, 'health & ...')])"
            ]
          },
          "metadata": {
            "tags": []
          },
          "execution_count": 130
        },
        {
          "output_type": "execute_result",
          "data": {
            "text/plain": [
              "Text(0, 0.5, 'Item count')"
            ]
          },
          "metadata": {
            "tags": []
          },
          "execution_count": 130
        },
        {
          "output_type": "execute_result",
          "data": {
            "text/plain": [
              "Text(0.5, 1.0, 'Item sales distribution')"
            ]
          },
          "metadata": {
            "tags": []
          },
          "execution_count": 130
        },
        {
          "output_type": "display_data",
          "data": {
            "image/png": "[encoded data removed]",
            "text/plain": [
              "<Figure size 432x288 with 1 Axes>"
            ]
          },
          "metadata": {
            "tags": [],
            "needs_background": "light"
          }
        }
      ]
    },
    {
      "cell_type": "markdown",
      "metadata": {
        "id": "S8G50BmdaVYb"
      },
      "source": [
        "# Analyse items contributing to top sales\n"
      ]
    },
    {
      "cell_type": "code",
      "metadata": {
        "id": "G8wqg2BhaVBi",
        "outputId": "10624676-3872-4578-e4d5-92e71097b535",
        "colab": {
          "base_uri": "https://localhost:8080/",
          "height": 362
        }
      },
      "source": [
        "\n",
        "item_summary_df['item_perc'] = item_summary_df['item_count']/total_item_count\n",
        "item_summary_df['total_perc'] = item_summary_df.item_perc.cumsum()\n",
        "item_summary_df.head(10)"
      ],
      "execution_count": 131,
      "outputs": [
        {
          "output_type": "execute_result",
          "data": {
            "text/html": [
              "<div>\n",
              "<style scoped>\n",
              "    .dataframe tbody tr th:only-of-type {\n",
              "        vertical-align: middle;\n",
              "    }\n",
              "\n",
              "    .dataframe tbody tr th {\n",
              "        vertical-align: top;\n",
              "    }\n",
              "\n",
              "    .dataframe thead th {\n",
              "        text-align: right;\n",
              "    }\n",
              "</style>\n",
              "<table border=\"1\" class=\"dataframe\">\n",
              "  <thead>\n",
              "    <tr style=\"text-align: right;\">\n",
              "      <th></th>\n",
              "      <th>item_name</th>\n",
              "      <th>item_count</th>\n",
              "      <th>item_perc</th>\n",
              "      <th>total_perc</th>\n",
              "    </tr>\n",
              "  </thead>\n",
              "  <tbody>\n",
              "    <tr>\n",
              "      <th>0</th>\n",
              "      <td>beverages &amp; ready to eat</td>\n",
              "      <td>345</td>\n",
              "      <td>0.340237</td>\n",
              "      <td>0.340237</td>\n",
              "    </tr>\n",
              "    <tr>\n",
              "      <th>1</th>\n",
              "      <td>meal solutions</td>\n",
              "      <td>159</td>\n",
              "      <td>0.156805</td>\n",
              "      <td>0.497041</td>\n",
              "    </tr>\n",
              "    <tr>\n",
              "      <th>2</th>\n",
              "      <td>chilled</td>\n",
              "      <td>148</td>\n",
              "      <td>0.145957</td>\n",
              "      <td>0.642998</td>\n",
              "    </tr>\n",
              "    <tr>\n",
              "      <th>3</th>\n",
              "      <td>health &amp; beauty</td>\n",
              "      <td>87</td>\n",
              "      <td>0.085799</td>\n",
              "      <td>0.728797</td>\n",
              "    </tr>\n",
              "    <tr>\n",
              "      <th>4</th>\n",
              "      <td>alcohol</td>\n",
              "      <td>74</td>\n",
              "      <td>0.072978</td>\n",
              "      <td>0.801775</td>\n",
              "    </tr>\n",
              "    <tr>\n",
              "      <th>5</th>\n",
              "      <td>frozen</td>\n",
              "      <td>67</td>\n",
              "      <td>0.066075</td>\n",
              "      <td>0.867850</td>\n",
              "    </tr>\n",
              "    <tr>\n",
              "      <th>6</th>\n",
              "      <td>cleaning</td>\n",
              "      <td>64</td>\n",
              "      <td>0.063116</td>\n",
              "      <td>0.930966</td>\n",
              "    </tr>\n",
              "    <tr>\n",
              "      <th>7</th>\n",
              "      <td>tobacco</td>\n",
              "      <td>31</td>\n",
              "      <td>0.030572</td>\n",
              "      <td>0.961538</td>\n",
              "    </tr>\n",
              "    <tr>\n",
              "      <th>8</th>\n",
              "      <td>baby</td>\n",
              "      <td>24</td>\n",
              "      <td>0.023669</td>\n",
              "      <td>0.985207</td>\n",
              "    </tr>\n",
              "    <tr>\n",
              "      <th>9</th>\n",
              "      <td>pet</td>\n",
              "      <td>14</td>\n",
              "      <td>0.013807</td>\n",
              "      <td>0.999014</td>\n",
              "    </tr>\n",
              "  </tbody>\n",
              "</table>\n",
              "</div>"
            ],
            "text/plain": [
              "                  item_name  item_count  item_perc  total_perc\n",
              "0  beverages & ready to eat         345   0.340237    0.340237\n",
              "1            meal solutions         159   0.156805    0.497041\n",
              "2                   chilled         148   0.145957    0.642998\n",
              "3           health & beauty          87   0.085799    0.728797\n",
              "4                   alcohol          74   0.072978    0.801775\n",
              "5                    frozen          67   0.066075    0.867850\n",
              "6                  cleaning          64   0.063116    0.930966\n",
              "7                   tobacco          31   0.030572    0.961538\n",
              "8                      baby          24   0.023669    0.985207\n",
              "9                       pet          14   0.013807    0.999014"
            ]
          },
          "metadata": {
            "tags": []
          },
          "execution_count": 131
        }
      ]
    },
    {
      "cell_type": "markdown",
      "metadata": {
        "id": "o-ugJJGqahas"
      },
      "source": [
        "#Analyze items contributing to top 50% of sales"
      ]
    },
    {
      "cell_type": "code",
      "metadata": {
        "id": "ATMRQTLwahFM",
        "outputId": "d0a4dadf-368e-434a-ddf6-e294b57f5fc5",
        "colab": {
          "base_uri": "https://localhost:8080/"
        }
      },
      "source": [
        "item_summary_df[item_summary_df.total_perc <= 0.5].shape"
      ],
      "execution_count": 132,
      "outputs": [
        {
          "output_type": "execute_result",
          "data": {
            "text/plain": [
              "(2, 4)"
            ]
          },
          "metadata": {
            "tags": []
          },
          "execution_count": 132
        }
      ]
    },
    {
      "cell_type": "code",
      "metadata": {
        "id": "lo5JE101aoFQ",
        "outputId": "ae0ab246-6c1e-4b88-ff2a-8948937ca8ad",
        "colab": {
          "base_uri": "https://localhost:8080/",
          "height": 112
        }
      },
      "source": [
        "item_summary_df[item_summary_df.total_perc <= 0.5]"
      ],
      "execution_count": 133,
      "outputs": [
        {
          "output_type": "execute_result",
          "data": {
            "text/html": [
              "<div>\n",
              "<style scoped>\n",
              "    .dataframe tbody tr th:only-of-type {\n",
              "        vertical-align: middle;\n",
              "    }\n",
              "\n",
              "    .dataframe tbody tr th {\n",
              "        vertical-align: top;\n",
              "    }\n",
              "\n",
              "    .dataframe thead th {\n",
              "        text-align: right;\n",
              "    }\n",
              "</style>\n",
              "<table border=\"1\" class=\"dataframe\">\n",
              "  <thead>\n",
              "    <tr style=\"text-align: right;\">\n",
              "      <th></th>\n",
              "      <th>item_name</th>\n",
              "      <th>item_count</th>\n",
              "      <th>item_perc</th>\n",
              "      <th>total_perc</th>\n",
              "    </tr>\n",
              "  </thead>\n",
              "  <tbody>\n",
              "    <tr>\n",
              "      <th>0</th>\n",
              "      <td>beverages &amp; ready to eat</td>\n",
              "      <td>345</td>\n",
              "      <td>0.340237</td>\n",
              "      <td>0.340237</td>\n",
              "    </tr>\n",
              "    <tr>\n",
              "      <th>1</th>\n",
              "      <td>meal solutions</td>\n",
              "      <td>159</td>\n",
              "      <td>0.156805</td>\n",
              "      <td>0.497041</td>\n",
              "    </tr>\n",
              "  </tbody>\n",
              "</table>\n",
              "</div>"
            ],
            "text/plain": [
              "                  item_name  item_count  item_perc  total_perc\n",
              "0  beverages & ready to eat         345   0.340237    0.340237\n",
              "1            meal solutions         159   0.156805    0.497041"
            ]
          },
          "metadata": {
            "tags": []
          },
          "execution_count": 133
        }
      ]
    },
    {
      "cell_type": "markdown",
      "metadata": {
        "id": "m6SHRH_matcL"
      },
      "source": [
        "# Construct Orange Table"
      ]
    },
    {
      "cell_type": "code",
      "metadata": {
        "id": "WYNe43pEar7d"
      },
      "source": [
        "input_assoc_rules = df\n",
        "domain_grocery = Domain([DiscreteVariable.make(name=item,values=['0', '1']) for item in input_assoc_rules.columns])\n",
        "data_gro_1 = Orange.data.Table.from_numpy(domain=domain_grocery,X=input_assoc_rules.to_numpy(),Y= None)"
      ],
      "execution_count": 139,
      "outputs": []
    },
    {
      "cell_type": "code",
      "metadata": {
        "id": "aoFAOtX2V3X2",
        "outputId": "77d4f682-5334-491e-a185-a8871406e44f",
        "colab": {
          "base_uri": "https://localhost:8080/"
        }
      },
      "source": [
        "df.columns"
      ],
      "execution_count": 100,
      "outputs": [
        {
          "output_type": "execute_result",
          "data": {
            "text/plain": [
              "Index(['alcohol', 'baby', 'beverages & ready to eat', 'chilled', 'cleaning',\n",
              "       'frozen', 'health & ...', 'health & beauty', 'meal solutions', 'pet',\n",
              "       'tobacco'],\n",
              "      dtype='object')"
            ]
          },
          "metadata": {
            "tags": []
          },
          "execution_count": 100
        }
      ]
    },
    {
      "cell_type": "markdown",
      "metadata": {
        "id": "z4IL8Ff_bfYB"
      },
      "source": [
        "# Prune Dataset for frequently purchased items"
      ]
    },
    {
      "cell_type": "code",
      "metadata": {
        "id": "TOt3xEbvbfGL"
      },
      "source": [
        "def prune_dataset(input_df, length_trans = 2, total_sales_perc = 0.5, start_item = None, end_item = None):\n",
        "    if 'total_items' in input_df.columns:\n",
        "        del(input_df['total_items'])\n",
        "    item_count = input_df.sum().sort_values(ascending = False).reset_index()\n",
        "    total_items = sum(input_df.sum().sort_values(ascending = False))\n",
        "    item_count.rename(columns={item_count.columns[0]:'item_name',item_count.columns[1]:'item_count'}, inplace=True)\n",
        "    if not start_item and not end_item: \n",
        "        item_count['item_perc'] = item_count['item_count']/total_items\n",
        "        item_count['total_perc'] = item_count.item_perc.cumsum()\n",
        "        selected_items = list(item_count[item_count.total_perc < total_sales_perc].item_name)\n",
        "        input_df['total_items'] = input_df[selected_items].sum(axis = 1)\n",
        "        input_df = input_df[input_df.total_items >= length_trans]\n",
        "        del(input_df['total_items'])\n",
        "        return input_df[selected_items], item_count[item_count.total_perc < total_sales_perc]\n",
        "    elif end_item > start_item:\n",
        "        selected_items = list(item_count[start_item:end_item].item_name)\n",
        "        input_df['total_items'] = input_df[selected_items].sum(axis = 1)\n",
        "        input_df = input_df[input_df.total_items >= length_trans]\n",
        "        del(input_df['total_items'])\n",
        "        return input_df[selected_items],item_count[start_item:end_item]"
      ],
      "execution_count": 142,
      "outputs": []
    },
    {
      "cell_type": "code",
      "metadata": {
        "id": "nihGjTDfblVp",
        "outputId": "906aa66b-9b8d-466f-cf34-90ce8ced745d",
        "colab": {
          "base_uri": "https://localhost:8080/"
        }
      },
      "source": [
        "output_df, item_counts = prune_dataset(input_df=df, length_trans=1,total_sales_perc=0.4)\n",
        "print(output_df.shape)\n",
        "print(list(output_df.columns))"
      ],
      "execution_count": 150,
      "outputs": [
        {
          "output_type": "stream",
          "text": [
            "(345, 1)\n",
            "['beverages & ready to eat']\n"
          ],
          "name": "stdout"
        }
      ]
    },
    {
      "cell_type": "markdown",
      "metadata": {
        "id": "RsC-nLW0buxo"
      },
      "source": [
        "# **Association Rule Mining with FP Growth**"
      ]
    },
    {
      "cell_type": "code",
      "metadata": {
        "id": "uOClxzau_LHP"
      },
      "source": [
        "# #Visualizations\n",
        "# %matplotlib inline\n",
        "# import matplotlib.pyplot as plt\n",
        "# import seaborn as sns\n",
        "# sns.set_style(\"dark\")\n",
        "# import squarify\n",
        "# import matplotlib\n"
      ],
      "execution_count": 162,
      "outputs": []
    },
    {
      "cell_type": "code",
      "metadata": {
        "id": "8lnW1M-t-9hD"
      },
      "source": [
        "# ##Lets consider the top 20 items purchased freequently\n",
        "# r=df.sum(axis=0).sort_values(ascending=False)[:20]\n",
        "# #altering the figsize\n",
        "# plt.figure(figsize=(20,10))\n",
        "# s=sns.barplot(x=r.index,y=r.values)\n",
        "# s.set_xticklabels(s.get_xticklabels(), rotation=90)"
      ],
      "execution_count": 163,
      "outputs": []
    },
    {
      "cell_type": "code",
      "metadata": {
        "id": "u_sixiQf_CEJ"
      },
      "source": [
        "# # create a color palette, mapped to these values\n",
        "# my_values=r.values\n",
        "# cmap = matplotlib.cm.Blues\n",
        "# mini=min(my_values)\n",
        "# maxi=max(my_values)\n",
        "# norm = matplotlib.colors.Normalize(vmin=mini, vmax=maxi)\n",
        "# colors = [cmap(norm(value)) for value in my_values]\n",
        "\n",
        "\n",
        "# #treemap of top 20 frequent items\n",
        "# plt.figure(figsize=(10,10))\n",
        "# squarify.plot(sizes=r.values, label=r.index, alpha=.7,color=colors)\n",
        "# plt.title(\"Tree map of top 20 items\")\n",
        "# plt.axis('off')"
      ],
      "execution_count": 164,
      "outputs": []
    },
    {
      "cell_type": "code",
      "metadata": {
        "colab": {
          "base_uri": "https://localhost:8080/",
          "height": 424
        },
        "id": "wRIT-Sz0_gwh",
        "outputId": "b5785e30-6b9e-46ad-cfaa-35b306e870bc"
      },
      "source": [
        "frequent_itemsets = apriori(df,min_support=0.002,use_colnames=True)\n",
        "frequent_itemsets"
      ],
      "execution_count": 165,
      "outputs": [
        {
          "output_type": "execute_result",
          "data": {
            "text/html": [
              "<div>\n",
              "<style scoped>\n",
              "    .dataframe tbody tr th:only-of-type {\n",
              "        vertical-align: middle;\n",
              "    }\n",
              "\n",
              "    .dataframe tbody tr th {\n",
              "        vertical-align: top;\n",
              "    }\n",
              "\n",
              "    .dataframe thead th {\n",
              "        text-align: right;\n",
              "    }\n",
              "</style>\n",
              "<table border=\"1\" class=\"dataframe\">\n",
              "  <thead>\n",
              "    <tr style=\"text-align: right;\">\n",
              "      <th></th>\n",
              "      <th>support</th>\n",
              "      <th>itemsets</th>\n",
              "    </tr>\n",
              "  </thead>\n",
              "  <tbody>\n",
              "    <tr>\n",
              "      <th>0</th>\n",
              "      <td>0.148</td>\n",
              "      <td>(alcohol)</td>\n",
              "    </tr>\n",
              "    <tr>\n",
              "      <th>1</th>\n",
              "      <td>0.048</td>\n",
              "      <td>(baby)</td>\n",
              "    </tr>\n",
              "    <tr>\n",
              "      <th>2</th>\n",
              "      <td>0.69</td>\n",
              "      <td>(beverages &amp; ready to eat)</td>\n",
              "    </tr>\n",
              "    <tr>\n",
              "      <th>3</th>\n",
              "      <td>0.296</td>\n",
              "      <td>(chilled)</td>\n",
              "    </tr>\n",
              "    <tr>\n",
              "      <th>4</th>\n",
              "      <td>0.128</td>\n",
              "      <td>(cleaning)</td>\n",
              "    </tr>\n",
              "    <tr>\n",
              "      <th>...</th>\n",
              "      <td>...</td>\n",
              "      <td>...</td>\n",
              "    </tr>\n",
              "    <tr>\n",
              "      <th>942</th>\n",
              "      <td>0.004</td>\n",
              "      <td>(health &amp; beauty, beverages &amp; ready to eat, cl...</td>\n",
              "    </tr>\n",
              "    <tr>\n",
              "      <th>943</th>\n",
              "      <td>0.004</td>\n",
              "      <td>(health &amp; beauty, beverages &amp; ready to eat, cl...</td>\n",
              "    </tr>\n",
              "    <tr>\n",
              "      <th>944</th>\n",
              "      <td>0.002</td>\n",
              "      <td>(health &amp; beauty, beverages &amp; ready to eat, cl...</td>\n",
              "    </tr>\n",
              "    <tr>\n",
              "      <th>945</th>\n",
              "      <td>0.002</td>\n",
              "      <td>(health &amp; beauty, beverages &amp; ready to eat, cl...</td>\n",
              "    </tr>\n",
              "    <tr>\n",
              "      <th>946</th>\n",
              "      <td>0.002</td>\n",
              "      <td>(health &amp; beauty, beverages &amp; ready to eat, cl...</td>\n",
              "    </tr>\n",
              "  </tbody>\n",
              "</table>\n",
              "<p>947 rows × 2 columns</p>\n",
              "</div>"
            ],
            "text/plain": [
              "    support                                           itemsets\n",
              "0     0.148                                          (alcohol)\n",
              "1     0.048                                             (baby)\n",
              "2      0.69                         (beverages & ready to eat)\n",
              "3     0.296                                          (chilled)\n",
              "4     0.128                                         (cleaning)\n",
              "..      ...                                                ...\n",
              "942   0.004  (health & beauty, beverages & ready to eat, cl...\n",
              "943   0.004  (health & beauty, beverages & ready to eat, cl...\n",
              "944   0.002  (health & beauty, beverages & ready to eat, cl...\n",
              "945   0.002  (health & beauty, beverages & ready to eat, cl...\n",
              "946   0.002  (health & beauty, beverages & ready to eat, cl...\n",
              "\n",
              "[947 rows x 2 columns]"
            ]
          },
          "metadata": {
            "tags": []
          },
          "execution_count": 165
        }
      ]
    },
    {
      "cell_type": "code",
      "metadata": {
        "colab": {
          "base_uri": "https://localhost:8080/",
          "height": 182
        },
        "id": "fC55RJeg_iM7",
        "outputId": "0c6d697c-b693-45a4-d194-784f2666277c"
      },
      "source": [
        "res=association_rules(frequent_itemsets,metric=\"lift\",min_threshold = 1.3)\n",
        "res"
      ],
      "execution_count": 170,
      "outputs": [
        {
          "output_type": "error",
          "ename": "TypeError",
          "evalue": "ignored",
          "traceback": [
            "\u001b[0;31m---------------------------------------------------------------------------\u001b[0m",
            "\u001b[0;31mTypeError\u001b[0m                                 Traceback (most recent call last)",
            "\u001b[0;32m<ipython-input-170-a8c86633a9f7>\u001b[0m in \u001b[0;36m<module>\u001b[0;34m()\u001b[0m\n\u001b[0;32m----> 1\u001b[0;31m \u001b[0mres\u001b[0m\u001b[0;34m=\u001b[0m\u001b[0massociation_rules\u001b[0m\u001b[0;34m(\u001b[0m\u001b[0mfrequent_itemsets\u001b[0m\u001b[0;34m,\u001b[0m\u001b[0mmetric\u001b[0m\u001b[0;34m=\u001b[0m\u001b[0;34m\"lift\"\u001b[0m\u001b[0;34m,\u001b[0m\u001b[0mmin_threshold\u001b[0m \u001b[0;34m=\u001b[0m \u001b[0;36m1.3\u001b[0m\u001b[0;34m)\u001b[0m\u001b[0;34m\u001b[0m\u001b[0;34m\u001b[0m\u001b[0m\n\u001b[0m\u001b[1;32m      2\u001b[0m \u001b[0mres\u001b[0m\u001b[0;34m\u001b[0m\u001b[0;34m\u001b[0m\u001b[0m\n",
            "\u001b[0;31mTypeError\u001b[0m: association_rules() got an unexpected keyword argument 'metric'"
          ]
        }
      ]
    },
    {
      "cell_type": "code",
      "metadata": {
        "id": "Mr_P68hDYWhF"
      },
      "source": [
        ""
      ],
      "execution_count": null,
      "outputs": []
    },
    {
      "cell_type": "code",
      "metadata": {
        "colab": {
          "base_uri": "https://localhost:8080/",
          "height": 424
        },
        "id": "MRRGSY5l_1v1",
        "outputId": "bde984cf-c184-438b-ef29-41a8390d9c5d"
      },
      "source": [
        "frequent_itemsets['length'] = frequent_itemsets['itemsets'].apply(lambda x:len(x))\n",
        "frequent_itemsets"
      ],
      "execution_count": 106,
      "outputs": [
        {
          "output_type": "execute_result",
          "data": {
            "text/html": [
              "<div>\n",
              "<style scoped>\n",
              "    .dataframe tbody tr th:only-of-type {\n",
              "        vertical-align: middle;\n",
              "    }\n",
              "\n",
              "    .dataframe tbody tr th {\n",
              "        vertical-align: top;\n",
              "    }\n",
              "\n",
              "    .dataframe thead th {\n",
              "        text-align: right;\n",
              "    }\n",
              "</style>\n",
              "<table border=\"1\" class=\"dataframe\">\n",
              "  <thead>\n",
              "    <tr style=\"text-align: right;\">\n",
              "      <th></th>\n",
              "      <th>support</th>\n",
              "      <th>itemsets</th>\n",
              "      <th>length</th>\n",
              "    </tr>\n",
              "  </thead>\n",
              "  <tbody>\n",
              "    <tr>\n",
              "      <th>0</th>\n",
              "      <td>0.148</td>\n",
              "      <td>(alcohol)</td>\n",
              "      <td>1</td>\n",
              "    </tr>\n",
              "    <tr>\n",
              "      <th>1</th>\n",
              "      <td>0.048</td>\n",
              "      <td>(baby)</td>\n",
              "      <td>1</td>\n",
              "    </tr>\n",
              "    <tr>\n",
              "      <th>2</th>\n",
              "      <td>0.690</td>\n",
              "      <td>(beverages &amp; ready to eat)</td>\n",
              "      <td>1</td>\n",
              "    </tr>\n",
              "    <tr>\n",
              "      <th>3</th>\n",
              "      <td>0.296</td>\n",
              "      <td>(chilled)</td>\n",
              "      <td>1</td>\n",
              "    </tr>\n",
              "    <tr>\n",
              "      <th>4</th>\n",
              "      <td>0.128</td>\n",
              "      <td>(cleaning)</td>\n",
              "      <td>1</td>\n",
              "    </tr>\n",
              "    <tr>\n",
              "      <th>...</th>\n",
              "      <td>...</td>\n",
              "      <td>...</td>\n",
              "      <td>...</td>\n",
              "    </tr>\n",
              "    <tr>\n",
              "      <th>470</th>\n",
              "      <td>0.004</td>\n",
              "      <td>(health &amp; beauty, beverages &amp; ready to eat, cl...</td>\n",
              "      <td>7</td>\n",
              "    </tr>\n",
              "    <tr>\n",
              "      <th>471</th>\n",
              "      <td>0.004</td>\n",
              "      <td>(health &amp; beauty, beverages &amp; ready to eat, cl...</td>\n",
              "      <td>7</td>\n",
              "    </tr>\n",
              "    <tr>\n",
              "      <th>472</th>\n",
              "      <td>0.002</td>\n",
              "      <td>(health &amp; beauty, beverages &amp; ready to eat, cl...</td>\n",
              "      <td>7</td>\n",
              "    </tr>\n",
              "    <tr>\n",
              "      <th>473</th>\n",
              "      <td>0.002</td>\n",
              "      <td>(health &amp; beauty, beverages &amp; ready to eat, cl...</td>\n",
              "      <td>8</td>\n",
              "    </tr>\n",
              "    <tr>\n",
              "      <th>474</th>\n",
              "      <td>0.002</td>\n",
              "      <td>(health &amp; beauty, beverages &amp; ready to eat, cl...</td>\n",
              "      <td>8</td>\n",
              "    </tr>\n",
              "  </tbody>\n",
              "</table>\n",
              "<p>475 rows × 3 columns</p>\n",
              "</div>"
            ],
            "text/plain": [
              "     support                                           itemsets  length\n",
              "0      0.148                                          (alcohol)       1\n",
              "1      0.048                                             (baby)       1\n",
              "2      0.690                         (beverages & ready to eat)       1\n",
              "3      0.296                                          (chilled)       1\n",
              "4      0.128                                         (cleaning)       1\n",
              "..       ...                                                ...     ...\n",
              "470    0.004  (health & beauty, beverages & ready to eat, cl...       7\n",
              "471    0.004  (health & beauty, beverages & ready to eat, cl...       7\n",
              "472    0.002  (health & beauty, beverages & ready to eat, cl...       7\n",
              "473    0.002  (health & beauty, beverages & ready to eat, cl...       8\n",
              "474    0.002  (health & beauty, beverages & ready to eat, cl...       8\n",
              "\n",
              "[475 rows x 3 columns]"
            ]
          },
          "metadata": {
            "tags": []
          },
          "execution_count": 106
        }
      ]
    },
    {
      "cell_type": "code",
      "metadata": {
        "id": "ksqeofpvVdRk"
      },
      "source": [
        ""
      ],
      "execution_count": 106,
      "outputs": []
    },
    {
      "cell_type": "code",
      "metadata": {
        "colab": {
          "base_uri": "https://localhost:8080/",
          "height": 49
        },
        "id": "cI6hLzkv_3CS",
        "outputId": "1130bcf1-3a24-4868-cd6f-900ca89170c3"
      },
      "source": [
        "frequent_itemsets[ (frequent_itemsets['length'] == 8) &\n",
        "                   (frequent_itemsets['support'] >= 0.01) ]"
      ],
      "execution_count": 117,
      "outputs": [
        {
          "output_type": "execute_result",
          "data": {
            "text/html": [
              "<div>\n",
              "<style scoped>\n",
              "    .dataframe tbody tr th:only-of-type {\n",
              "        vertical-align: middle;\n",
              "    }\n",
              "\n",
              "    .dataframe tbody tr th {\n",
              "        vertical-align: top;\n",
              "    }\n",
              "\n",
              "    .dataframe thead th {\n",
              "        text-align: right;\n",
              "    }\n",
              "</style>\n",
              "<table border=\"1\" class=\"dataframe\">\n",
              "  <thead>\n",
              "    <tr style=\"text-align: right;\">\n",
              "      <th></th>\n",
              "      <th>support</th>\n",
              "      <th>itemsets</th>\n",
              "      <th>length</th>\n",
              "    </tr>\n",
              "  </thead>\n",
              "  <tbody>\n",
              "  </tbody>\n",
              "</table>\n",
              "</div>"
            ],
            "text/plain": [
              "Empty DataFrame\n",
              "Columns: [support, itemsets, length]\n",
              "Index: []"
            ]
          },
          "metadata": {
            "tags": []
          },
          "execution_count": 117
        }
      ]
    },
    {
      "cell_type": "code",
      "metadata": {
        "colab": {
          "base_uri": "https://localhost:8080/",
          "height": 362
        },
        "id": "k60Ope6-_2-2",
        "outputId": "40afc9ff-4e4f-4501-f069-0e08390b0b94"
      },
      "source": [
        "frequent_itemsets[ (frequent_itemsets['length'] == 1) &\n",
        "                   (frequent_itemsets['support'] >= 0.01) ]"
      ],
      "execution_count": 108,
      "outputs": [
        {
          "output_type": "execute_result",
          "data": {
            "text/html": [
              "<div>\n",
              "<style scoped>\n",
              "    .dataframe tbody tr th:only-of-type {\n",
              "        vertical-align: middle;\n",
              "    }\n",
              "\n",
              "    .dataframe tbody tr th {\n",
              "        vertical-align: top;\n",
              "    }\n",
              "\n",
              "    .dataframe thead th {\n",
              "        text-align: right;\n",
              "    }\n",
              "</style>\n",
              "<table border=\"1\" class=\"dataframe\">\n",
              "  <thead>\n",
              "    <tr style=\"text-align: right;\">\n",
              "      <th></th>\n",
              "      <th>support</th>\n",
              "      <th>itemsets</th>\n",
              "      <th>length</th>\n",
              "    </tr>\n",
              "  </thead>\n",
              "  <tbody>\n",
              "    <tr>\n",
              "      <th>0</th>\n",
              "      <td>0.148</td>\n",
              "      <td>(alcohol)</td>\n",
              "      <td>1</td>\n",
              "    </tr>\n",
              "    <tr>\n",
              "      <th>1</th>\n",
              "      <td>0.048</td>\n",
              "      <td>(baby)</td>\n",
              "      <td>1</td>\n",
              "    </tr>\n",
              "    <tr>\n",
              "      <th>2</th>\n",
              "      <td>0.690</td>\n",
              "      <td>(beverages &amp; ready to eat)</td>\n",
              "      <td>1</td>\n",
              "    </tr>\n",
              "    <tr>\n",
              "      <th>3</th>\n",
              "      <td>0.296</td>\n",
              "      <td>(chilled)</td>\n",
              "      <td>1</td>\n",
              "    </tr>\n",
              "    <tr>\n",
              "      <th>4</th>\n",
              "      <td>0.128</td>\n",
              "      <td>(cleaning)</td>\n",
              "      <td>1</td>\n",
              "    </tr>\n",
              "    <tr>\n",
              "      <th>5</th>\n",
              "      <td>0.134</td>\n",
              "      <td>(frozen)</td>\n",
              "      <td>1</td>\n",
              "    </tr>\n",
              "    <tr>\n",
              "      <th>7</th>\n",
              "      <td>0.174</td>\n",
              "      <td>(health &amp; beauty)</td>\n",
              "      <td>1</td>\n",
              "    </tr>\n",
              "    <tr>\n",
              "      <th>8</th>\n",
              "      <td>0.318</td>\n",
              "      <td>(meal solutions)</td>\n",
              "      <td>1</td>\n",
              "    </tr>\n",
              "    <tr>\n",
              "      <th>9</th>\n",
              "      <td>0.028</td>\n",
              "      <td>(pet)</td>\n",
              "      <td>1</td>\n",
              "    </tr>\n",
              "    <tr>\n",
              "      <th>10</th>\n",
              "      <td>0.062</td>\n",
              "      <td>(tobacco)</td>\n",
              "      <td>1</td>\n",
              "    </tr>\n",
              "  </tbody>\n",
              "</table>\n",
              "</div>"
            ],
            "text/plain": [
              "    support                    itemsets  length\n",
              "0     0.148                   (alcohol)       1\n",
              "1     0.048                      (baby)       1\n",
              "2     0.690  (beverages & ready to eat)       1\n",
              "3     0.296                   (chilled)       1\n",
              "4     0.128                  (cleaning)       1\n",
              "5     0.134                    (frozen)       1\n",
              "7     0.174           (health & beauty)       1\n",
              "8     0.318            (meal solutions)       1\n",
              "9     0.028                       (pet)       1\n",
              "10    0.062                   (tobacco)       1"
            ]
          },
          "metadata": {
            "tags": []
          },
          "execution_count": 108
        }
      ]
    },
    {
      "cell_type": "code",
      "metadata": {
        "id": "nqCl2P9r_28O"
      },
      "source": [
        "rules = association_rules(frequent_itemsets, metric='confidence', min_threshold=0.5)"
      ],
      "execution_count": 109,
      "outputs": []
    },
    {
      "cell_type": "code",
      "metadata": {
        "colab": {
          "base_uri": "https://localhost:8080/",
          "height": 144
        },
        "id": "ZU3_mkPP_21f",
        "outputId": "da00535b-743e-4932-bf79-d60caca7c04e"
      },
      "source": [
        "frequent_itemset_fp_growth=fpgrowth(df,min_support=0.22,use_colnames=True)\n",
        "frequent_itemset_fp_growth = frequent_itemset_fp_growth.sort_values(by=\"support\",ascending=False)\n",
        "frequent_itemset_fp_growth"
      ],
      "execution_count": 110,
      "outputs": [
        {
          "output_type": "execute_result",
          "data": {
            "text/html": [
              "<div>\n",
              "<style scoped>\n",
              "    .dataframe tbody tr th:only-of-type {\n",
              "        vertical-align: middle;\n",
              "    }\n",
              "\n",
              "    .dataframe tbody tr th {\n",
              "        vertical-align: top;\n",
              "    }\n",
              "\n",
              "    .dataframe thead th {\n",
              "        text-align: right;\n",
              "    }\n",
              "</style>\n",
              "<table border=\"1\" class=\"dataframe\">\n",
              "  <thead>\n",
              "    <tr style=\"text-align: right;\">\n",
              "      <th></th>\n",
              "      <th>support</th>\n",
              "      <th>itemsets</th>\n",
              "    </tr>\n",
              "  </thead>\n",
              "  <tbody>\n",
              "    <tr>\n",
              "      <th>2</th>\n",
              "      <td>0.690</td>\n",
              "      <td>(beverages &amp; ready to eat)</td>\n",
              "    </tr>\n",
              "    <tr>\n",
              "      <th>0</th>\n",
              "      <td>0.318</td>\n",
              "      <td>(meal solutions)</td>\n",
              "    </tr>\n",
              "    <tr>\n",
              "      <th>1</th>\n",
              "      <td>0.296</td>\n",
              "      <td>(chilled)</td>\n",
              "    </tr>\n",
              "  </tbody>\n",
              "</table>\n",
              "</div>"
            ],
            "text/plain": [
              "   support                    itemsets\n",
              "2    0.690  (beverages & ready to eat)\n",
              "0    0.318            (meal solutions)\n",
              "1    0.296                   (chilled)"
            ]
          },
          "metadata": {
            "tags": []
          },
          "execution_count": 110
        }
      ]
    },
    {
      "cell_type": "code",
      "metadata": {
        "colab": {
          "base_uri": "https://localhost:8080/",
          "height": 49
        },
        "id": "q2e-e3zb_2zG",
        "outputId": "d54c4ab8-a3f8-4ed1-983e-514188c53a8b"
      },
      "source": [
        "res=association_rules(frequent_itemset_fp_growth,metric=\"lift\",min_threshold=1)\n",
        "res = res.sort_values(by=\"lift\",ascending=False)\n",
        "res"
      ],
      "execution_count": 111,
      "outputs": [
        {
          "output_type": "execute_result",
          "data": {
            "text/html": [
              "<div>\n",
              "<style scoped>\n",
              "    .dataframe tbody tr th:only-of-type {\n",
              "        vertical-align: middle;\n",
              "    }\n",
              "\n",
              "    .dataframe tbody tr th {\n",
              "        vertical-align: top;\n",
              "    }\n",
              "\n",
              "    .dataframe thead th {\n",
              "        text-align: right;\n",
              "    }\n",
              "</style>\n",
              "<table border=\"1\" class=\"dataframe\">\n",
              "  <thead>\n",
              "    <tr style=\"text-align: right;\">\n",
              "      <th></th>\n",
              "      <th>antecedents</th>\n",
              "      <th>consequents</th>\n",
              "      <th>antecedent support</th>\n",
              "      <th>consequent support</th>\n",
              "      <th>support</th>\n",
              "      <th>confidence</th>\n",
              "      <th>lift</th>\n",
              "      <th>leverage</th>\n",
              "      <th>conviction</th>\n",
              "    </tr>\n",
              "  </thead>\n",
              "  <tbody>\n",
              "  </tbody>\n",
              "</table>\n",
              "</div>"
            ],
            "text/plain": [
              "Empty DataFrame\n",
              "Columns: [antecedents, consequents, antecedent support, consequent support, support, confidence, lift, leverage, conviction]\n",
              "Index: []"
            ]
          },
          "metadata": {
            "tags": []
          },
          "execution_count": 111
        }
      ]
    },
    {
      "cell_type": "code",
      "metadata": {
        "id": "dSwjaajHAFnY",
        "outputId": "51aef932-1d6b-470a-a5cd-a1857d0fb684",
        "colab": {
          "base_uri": "https://localhost:8080/",
          "height": 424
        }
      },
      "source": [
        "frequent_itemsets.sort_values(by=\"support\",ascending=False)"
      ],
      "execution_count": 112,
      "outputs": [
        {
          "output_type": "execute_result",
          "data": {
            "text/html": [
              "<div>\n",
              "<style scoped>\n",
              "    .dataframe tbody tr th:only-of-type {\n",
              "        vertical-align: middle;\n",
              "    }\n",
              "\n",
              "    .dataframe tbody tr th {\n",
              "        vertical-align: top;\n",
              "    }\n",
              "\n",
              "    .dataframe thead th {\n",
              "        text-align: right;\n",
              "    }\n",
              "</style>\n",
              "<table border=\"1\" class=\"dataframe\">\n",
              "  <thead>\n",
              "    <tr style=\"text-align: right;\">\n",
              "      <th></th>\n",
              "      <th>support</th>\n",
              "      <th>itemsets</th>\n",
              "      <th>length</th>\n",
              "    </tr>\n",
              "  </thead>\n",
              "  <tbody>\n",
              "    <tr>\n",
              "      <th>2</th>\n",
              "      <td>0.690</td>\n",
              "      <td>(beverages &amp; ready to eat)</td>\n",
              "      <td>1</td>\n",
              "    </tr>\n",
              "    <tr>\n",
              "      <th>8</th>\n",
              "      <td>0.318</td>\n",
              "      <td>(meal solutions)</td>\n",
              "      <td>1</td>\n",
              "    </tr>\n",
              "    <tr>\n",
              "      <th>3</th>\n",
              "      <td>0.296</td>\n",
              "      <td>(chilled)</td>\n",
              "      <td>1</td>\n",
              "    </tr>\n",
              "    <tr>\n",
              "      <th>32</th>\n",
              "      <td>0.206</td>\n",
              "      <td>(beverages &amp; ready to eat, meal solutions)</td>\n",
              "      <td>2</td>\n",
              "    </tr>\n",
              "    <tr>\n",
              "      <th>27</th>\n",
              "      <td>0.184</td>\n",
              "      <td>(chilled, beverages &amp; ready to eat)</td>\n",
              "      <td>2</td>\n",
              "    </tr>\n",
              "    <tr>\n",
              "      <th>...</th>\n",
              "      <td>...</td>\n",
              "      <td>...</td>\n",
              "      <td>...</td>\n",
              "    </tr>\n",
              "    <tr>\n",
              "      <th>311</th>\n",
              "      <td>0.002</td>\n",
              "      <td>(beverages &amp; ready to eat, cleaning, alcohol, ...</td>\n",
              "      <td>5</td>\n",
              "    </tr>\n",
              "    <tr>\n",
              "      <th>312</th>\n",
              "      <td>0.002</td>\n",
              "      <td>(beverages &amp; ready to eat, cleaning, alcohol, ...</td>\n",
              "      <td>5</td>\n",
              "    </tr>\n",
              "    <tr>\n",
              "      <th>315</th>\n",
              "      <td>0.002</td>\n",
              "      <td>(health &amp; beauty, beverages &amp; ready to eat, cl...</td>\n",
              "      <td>5</td>\n",
              "    </tr>\n",
              "    <tr>\n",
              "      <th>317</th>\n",
              "      <td>0.002</td>\n",
              "      <td>(beverages &amp; ready to eat, cleaning, meal solu...</td>\n",
              "      <td>5</td>\n",
              "    </tr>\n",
              "    <tr>\n",
              "      <th>474</th>\n",
              "      <td>0.002</td>\n",
              "      <td>(health &amp; beauty, beverages &amp; ready to eat, cl...</td>\n",
              "      <td>8</td>\n",
              "    </tr>\n",
              "  </tbody>\n",
              "</table>\n",
              "<p>475 rows × 3 columns</p>\n",
              "</div>"
            ],
            "text/plain": [
              "     support                                           itemsets  length\n",
              "2      0.690                         (beverages & ready to eat)       1\n",
              "8      0.318                                   (meal solutions)       1\n",
              "3      0.296                                          (chilled)       1\n",
              "32     0.206         (beverages & ready to eat, meal solutions)       2\n",
              "27     0.184                (chilled, beverages & ready to eat)       2\n",
              "..       ...                                                ...     ...\n",
              "311    0.002  (beverages & ready to eat, cleaning, alcohol, ...       5\n",
              "312    0.002  (beverages & ready to eat, cleaning, alcohol, ...       5\n",
              "315    0.002  (health & beauty, beverages & ready to eat, cl...       5\n",
              "317    0.002  (beverages & ready to eat, cleaning, meal solu...       5\n",
              "474    0.002  (health & beauty, beverages & ready to eat, cl...       8\n",
              "\n",
              "[475 rows x 3 columns]"
            ]
          },
          "metadata": {
            "tags": []
          },
          "execution_count": 112
        }
      ]
    },
    {
      "cell_type": "markdown",
      "metadata": {
        "id": "2GF-MI05YvSd"
      },
      "source": [
        "## **View Top sold items**"
      ]
    },
    {
      "cell_type": "code",
      "metadata": {
        "id": "KrdWM31zAFhR"
      },
      "source": [
        ""
      ],
      "execution_count": 113,
      "outputs": []
    }
  ]
}